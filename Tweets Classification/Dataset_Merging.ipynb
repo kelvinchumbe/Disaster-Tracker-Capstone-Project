{
 "cells": [
  {
   "cell_type": "code",
   "execution_count": 1,
   "metadata": {
    "id": "ZGSUUKFjV5g4"
   },
   "outputs": [],
   "source": [
    "# import necesary dependencies\n",
    "import pandas as pd\n",
    "import numpy as np\n",
    "import zipfile\n",
    "import os"
   ]
  },
  {
   "cell_type": "markdown",
   "metadata": {},
   "source": [
    "### **Load CrisisNLP Crowdflower datasets**"
   ]
  },
  {
   "cell_type": "code",
   "execution_count": 2,
   "metadata": {},
   "outputs": [],
   "source": [
    "base_crowd_data_dir = 'C:/Users/Kelvin Chumbe/Downloads/Datasets/Capstone_Twitter Modelling Datasets/CrisisNLP_labeled_data_crowdflower_v2/CrisisNLP_labeled_data_crowdflower/'"
   ]
  },
  {
   "cell_type": "code",
   "execution_count": 3,
   "metadata": {},
   "outputs": [],
   "source": [
    "cols_required= ['tweet_id', 'Translated Tweet', 'label']"
   ]
  },
  {
   "cell_type": "code",
   "execution_count": 4,
   "metadata": {
    "id": "kz-QOmZf8kmg",
    "scrolled": true
   },
   "outputs": [],
   "source": [
    "Pakistan_2013 = pd.read_csv(os.path.join(base_crowd_data_dir, '2013_Pakistan_eq/2013_Pakistan_eq_CF_TRANSLATED.csv'))"
   ]
  },
  {
   "cell_type": "code",
   "execution_count": 5,
   "metadata": {
    "colab": {
     "base_uri": "https://localhost:8080/"
    },
    "id": "9DkqdrYl-v8x",
    "outputId": "2fdd0e42-0086-479e-a135-cb4b44a6c3e1",
    "scrolled": true
   },
   "outputs": [
    {
     "data": {
      "text/html": [
       "<div>\n",
       "<style scoped>\n",
       "    .dataframe tbody tr th:only-of-type {\n",
       "        vertical-align: middle;\n",
       "    }\n",
       "\n",
       "    .dataframe tbody tr th {\n",
       "        vertical-align: top;\n",
       "    }\n",
       "\n",
       "    .dataframe thead th {\n",
       "        text-align: right;\n",
       "    }\n",
       "</style>\n",
       "<table border=\"1\" class=\"dataframe\">\n",
       "  <thead>\n",
       "    <tr style=\"text-align: right;\">\n",
       "      <th></th>\n",
       "      <th>tweet_id</th>\n",
       "      <th>tweet_text</th>\n",
       "      <th>label</th>\n",
       "      <th>Lang</th>\n",
       "      <th>Translated Tweet</th>\n",
       "    </tr>\n",
       "  </thead>\n",
       "  <tbody>\n",
       "    <tr>\n",
       "      <th>0</th>\n",
       "      <td>383600460340666369'</td>\n",
       "      <td>RT @Faiz_Baluch: #BalochistanEarthQuake Pakist...</td>\n",
       "      <td>other_useful_information</td>\n",
       "      <td>en</td>\n",
       "      <td>RT @Faiz_Baluch: #BalochistanEarthQuake Pakist...</td>\n",
       "    </tr>\n",
       "    <tr>\n",
       "      <th>1</th>\n",
       "      <td>383790723222364161'</td>\n",
       "      <td>#Earthquake 2013-09-28 02:39:43 (M5.0) EAST OF...</td>\n",
       "      <td>other_useful_information</td>\n",
       "      <td>en</td>\n",
       "      <td>#Earthquake 2013-09-28 02:39:43 (M5.0) EAST OF...</td>\n",
       "    </tr>\n",
       "  </tbody>\n",
       "</table>\n",
       "</div>"
      ],
      "text/plain": [
       "              tweet_id                                         tweet_text  \\\n",
       "0  383600460340666369'  RT @Faiz_Baluch: #BalochistanEarthQuake Pakist...   \n",
       "1  383790723222364161'  #Earthquake 2013-09-28 02:39:43 (M5.0) EAST OF...   \n",
       "\n",
       "                      label Lang  \\\n",
       "0  other_useful_information   en   \n",
       "1  other_useful_information   en   \n",
       "\n",
       "                                    Translated Tweet  \n",
       "0  RT @Faiz_Baluch: #BalochistanEarthQuake Pakist...  \n",
       "1  #Earthquake 2013-09-28 02:39:43 (M5.0) EAST OF...  "
      ]
     },
     "execution_count": 5,
     "metadata": {},
     "output_type": "execute_result"
    }
   ],
   "source": [
    "Pakistan_2013.head(2)"
   ]
  },
  {
   "cell_type": "code",
   "execution_count": 6,
   "metadata": {
    "id": "4Sw0ORI8-36D"
   },
   "outputs": [],
   "source": [
    "California_Earthquake_2014 = pd.read_csv(os.path.join(base_crowd_data_dir, '2014_California_Earthquake/2014_California_Earthquake_CF_TRANSLATED.csv'))"
   ]
  },
  {
   "cell_type": "code",
   "execution_count": 7,
   "metadata": {
    "colab": {
     "base_uri": "https://localhost:8080/"
    },
    "id": "VbIPYnMe_ZoQ",
    "outputId": "43240b40-8cfc-4701-ecf5-70cf46cbd1e0",
    "scrolled": false
   },
   "outputs": [
    {
     "data": {
      "text/html": [
       "<div>\n",
       "<style scoped>\n",
       "    .dataframe tbody tr th:only-of-type {\n",
       "        vertical-align: middle;\n",
       "    }\n",
       "\n",
       "    .dataframe tbody tr th {\n",
       "        vertical-align: top;\n",
       "    }\n",
       "\n",
       "    .dataframe thead th {\n",
       "        text-align: right;\n",
       "    }\n",
       "</style>\n",
       "<table border=\"1\" class=\"dataframe\">\n",
       "  <thead>\n",
       "    <tr style=\"text-align: right;\">\n",
       "      <th></th>\n",
       "      <th>tweet_id</th>\n",
       "      <th>tweet_text</th>\n",
       "      <th>label</th>\n",
       "      <th>Lang</th>\n",
       "      <th>Translated Tweet</th>\n",
       "    </tr>\n",
       "  </thead>\n",
       "  <tbody>\n",
       "    <tr>\n",
       "      <th>0</th>\n",
       "      <td>504075795435094016'</td>\n",
       "      <td>Bridges, overpasses earn approval after Northe...</td>\n",
       "      <td>infrastructure_and_utilities_damage</td>\n",
       "      <td>en</td>\n",
       "      <td>Bridges, overpasses earn approval after Northe...</td>\n",
       "    </tr>\n",
       "    <tr>\n",
       "      <th>1</th>\n",
       "      <td>503765744333901824'</td>\n",
       "      <td>Say what you want, but the earthquake that hit...</td>\n",
       "      <td>other_useful_information</td>\n",
       "      <td>en</td>\n",
       "      <td>Say what you want, but the earthquake that hit...</td>\n",
       "    </tr>\n",
       "  </tbody>\n",
       "</table>\n",
       "</div>"
      ],
      "text/plain": [
       "              tweet_id                                         tweet_text  \\\n",
       "0  504075795435094016'  Bridges, overpasses earn approval after Northe...   \n",
       "1  503765744333901824'  Say what you want, but the earthquake that hit...   \n",
       "\n",
       "                                 label Lang  \\\n",
       "0  infrastructure_and_utilities_damage   en   \n",
       "1             other_useful_information   en   \n",
       "\n",
       "                                    Translated Tweet  \n",
       "0  Bridges, overpasses earn approval after Northe...  \n",
       "1  Say what you want, but the earthquake that hit...  "
      ]
     },
     "execution_count": 7,
     "metadata": {},
     "output_type": "execute_result"
    }
   ],
   "source": [
    "California_Earthquake_2014.head(2)"
   ]
  },
  {
   "cell_type": "code",
   "execution_count": 8,
   "metadata": {
    "id": "RwgGV2U6FZfi"
   },
   "outputs": [],
   "source": [
    "# Chile_Earthquake_2014_cl = pd.read_csv(os.path.join(base_crowd_data_dir, '2014_Chile_Earthquake_cl/2014_Chile_Earthquake_cl_CF_TRANSLATED.csv'))"
   ]
  },
  {
   "cell_type": "code",
   "execution_count": 9,
   "metadata": {
    "colab": {
     "base_uri": "https://localhost:8080/"
    },
    "id": "iQCnR4cYF2Ni",
    "outputId": "09c45339-4325-412c-ee11-6d15835fbca2",
    "scrolled": true
   },
   "outputs": [],
   "source": [
    "# Chile_Earthquake_2014_cl.head(2)"
   ]
  },
  {
   "cell_type": "code",
   "execution_count": 10,
   "metadata": {
    "scrolled": true
   },
   "outputs": [],
   "source": [
    "# Chile_Earthquake_2014_cl['Lang'].value_counts()"
   ]
  },
  {
   "cell_type": "code",
   "execution_count": 11,
   "metadata": {},
   "outputs": [],
   "source": [
    "# Chile_Earthquake_2014_cl = Chile_Earthquake_2014_cl.drop(Chile_Earthquake_2014_cl[Chile_Earthquake_2014_cl['Lang'] != \"en\"].index, axis=0)"
   ]
  },
  {
   "cell_type": "code",
   "execution_count": 12,
   "metadata": {},
   "outputs": [],
   "source": [
    "# print(\"Original Tweet:\")\n",
    "# print(Chile_Earthquake_2014_cl.iloc[0]['tweet_text'])\n",
    "# print(\"Translated Tweet:\")\n",
    "# print(Chile_Earthquake_2014_cl.iloc[0]['Translated Tweet'])\n",
    "\n",
    "# print(\"Original Tweet:\")\n",
    "# print(Chile_Earthquake_2014_cl.iloc[2]['tweet_text'])\n",
    "# print(\"Translated Tweet:\")\n",
    "# print(Chile_Earthquake_2014_cl.iloc[2]['Translated Tweet'])"
   ]
  },
  {
   "cell_type": "code",
   "execution_count": 13,
   "metadata": {
    "id": "RwgGV2U6FZfi"
   },
   "outputs": [],
   "source": [
    "Chile_Earthquake_2014 = pd.read_csv(os.path.join(base_crowd_data_dir, '2014_Chile_Earthquake_en/2014_Chile_Earthquake_en_CF_TRANSLATED.csv'))"
   ]
  },
  {
   "cell_type": "code",
   "execution_count": 14,
   "metadata": {
    "colab": {
     "base_uri": "https://localhost:8080/"
    },
    "id": "iQCnR4cYF2Ni",
    "outputId": "09c45339-4325-412c-ee11-6d15835fbca2",
    "scrolled": true
   },
   "outputs": [
    {
     "data": {
      "text/html": [
       "<div>\n",
       "<style scoped>\n",
       "    .dataframe tbody tr th:only-of-type {\n",
       "        vertical-align: middle;\n",
       "    }\n",
       "\n",
       "    .dataframe tbody tr th {\n",
       "        vertical-align: top;\n",
       "    }\n",
       "\n",
       "    .dataframe thead th {\n",
       "        text-align: right;\n",
       "    }\n",
       "</style>\n",
       "<table border=\"1\" class=\"dataframe\">\n",
       "  <thead>\n",
       "    <tr style=\"text-align: right;\">\n",
       "      <th></th>\n",
       "      <th>tweet_id</th>\n",
       "      <th>tweet_text</th>\n",
       "      <th>label</th>\n",
       "      <th>Lang</th>\n",
       "      <th>Translated Tweet</th>\n",
       "    </tr>\n",
       "  </thead>\n",
       "  <tbody>\n",
       "    <tr>\n",
       "      <th>0</th>\n",
       "      <td>451585608612208640'</td>\n",
       "      <td>Guys northem chile really needs a support mess...</td>\n",
       "      <td>sympathy_and_emotional_support</td>\n",
       "      <td>en</td>\n",
       "      <td>Guys northem chile really needs a support mess...</td>\n",
       "    </tr>\n",
       "    <tr>\n",
       "      <th>1</th>\n",
       "      <td>451500842395250688'</td>\n",
       "      <td>RT @Euphorian54: #Rehearsal time w/ @debbiegib...</td>\n",
       "      <td>not_related_or_irrelevant</td>\n",
       "      <td>en</td>\n",
       "      <td>RT @Euphorian54: #Rehearsal time w/ @debbiegib...</td>\n",
       "    </tr>\n",
       "  </tbody>\n",
       "</table>\n",
       "</div>"
      ],
      "text/plain": [
       "              tweet_id                                         tweet_text  \\\n",
       "0  451585608612208640'  Guys northem chile really needs a support mess...   \n",
       "1  451500842395250688'  RT @Euphorian54: #Rehearsal time w/ @debbiegib...   \n",
       "\n",
       "                            label Lang  \\\n",
       "0  sympathy_and_emotional_support   en   \n",
       "1       not_related_or_irrelevant   en   \n",
       "\n",
       "                                    Translated Tweet  \n",
       "0  Guys northem chile really needs a support mess...  \n",
       "1  RT @Euphorian54: #Rehearsal time w/ @debbiegib...  "
      ]
     },
     "execution_count": 14,
     "metadata": {},
     "output_type": "execute_result"
    }
   ],
   "source": [
    "Chile_Earthquake_2014.head(2)"
   ]
  },
  {
   "cell_type": "code",
   "execution_count": 15,
   "metadata": {
    "id": "I86Mj98VGMlD"
   },
   "outputs": [],
   "source": [
    "Hurricane_Odile_Mexico_2014 = pd.read_csv(os.path.join(base_crowd_data_dir, '2014_Hurricane_Odile_Mexico_en/2014_Hurricane_Odile_Mexico_en_CF_TRANSLATED.csv'))"
   ]
  },
  {
   "cell_type": "code",
   "execution_count": 16,
   "metadata": {
    "colab": {
     "base_uri": "https://localhost:8080/"
    },
    "id": "BXDq1MlVGqqG",
    "outputId": "57076e0f-ea6e-403b-8362-246837efb2e5",
    "scrolled": true
   },
   "outputs": [
    {
     "data": {
      "text/html": [
       "<div>\n",
       "<style scoped>\n",
       "    .dataframe tbody tr th:only-of-type {\n",
       "        vertical-align: middle;\n",
       "    }\n",
       "\n",
       "    .dataframe tbody tr th {\n",
       "        vertical-align: top;\n",
       "    }\n",
       "\n",
       "    .dataframe thead th {\n",
       "        text-align: right;\n",
       "    }\n",
       "</style>\n",
       "<table border=\"1\" class=\"dataframe\">\n",
       "  <thead>\n",
       "    <tr style=\"text-align: right;\">\n",
       "      <th></th>\n",
       "      <th>tweet_id</th>\n",
       "      <th>tweet_text</th>\n",
       "      <th>label</th>\n",
       "      <th>Lang</th>\n",
       "      <th>Translated Tweet</th>\n",
       "    </tr>\n",
       "  </thead>\n",
       "  <tbody>\n",
       "    <tr>\n",
       "      <th>0</th>\n",
       "      <td>511962276383825920'</td>\n",
       "      <td>Prayers for Cabo: Hurricane Odile Roars Throug...</td>\n",
       "      <td>sympathy_and_emotional_support</td>\n",
       "      <td>en</td>\n",
       "      <td>Prayers for Cabo: Hurricane Odile Roars Throug...</td>\n",
       "    </tr>\n",
       "    <tr>\n",
       "      <th>1</th>\n",
       "      <td>511733855871438848'</td>\n",
       "      <td>Sammy Hagar's Home Damaged in Hurricane: Sammy...</td>\n",
       "      <td>infrastructure_and_utilities_damage</td>\n",
       "      <td>en</td>\n",
       "      <td>Sammy Hagar's Home Damaged in Hurricane: Sammy...</td>\n",
       "    </tr>\n",
       "  </tbody>\n",
       "</table>\n",
       "</div>"
      ],
      "text/plain": [
       "              tweet_id                                         tweet_text  \\\n",
       "0  511962276383825920'  Prayers for Cabo: Hurricane Odile Roars Throug...   \n",
       "1  511733855871438848'  Sammy Hagar's Home Damaged in Hurricane: Sammy...   \n",
       "\n",
       "                                 label Lang  \\\n",
       "0       sympathy_and_emotional_support   en   \n",
       "1  infrastructure_and_utilities_damage   en   \n",
       "\n",
       "                                    Translated Tweet  \n",
       "0  Prayers for Cabo: Hurricane Odile Roars Throug...  \n",
       "1  Sammy Hagar's Home Damaged in Hurricane: Sammy...  "
      ]
     },
     "execution_count": 16,
     "metadata": {},
     "output_type": "execute_result"
    }
   ],
   "source": [
    "Hurricane_Odile_Mexico_2014.head(2)"
   ]
  },
  {
   "cell_type": "code",
   "execution_count": 17,
   "metadata": {
    "id": "IJWoOuLbGtBr"
   },
   "outputs": [],
   "source": [
    "India_Floods_2014 = pd.read_csv(os.path.join(base_crowd_data_dir,'2014_India_floods/2014_India_floods_CF_TRANSLATED.csv'))"
   ]
  },
  {
   "cell_type": "code",
   "execution_count": 18,
   "metadata": {
    "colab": {
     "base_uri": "https://localhost:8080/"
    },
    "id": "8Fd-vwBoG7Og",
    "outputId": "9c04c073-12a2-4a62-81a3-e81083667453",
    "scrolled": true
   },
   "outputs": [
    {
     "data": {
      "text/html": [
       "<div>\n",
       "<style scoped>\n",
       "    .dataframe tbody tr th:only-of-type {\n",
       "        vertical-align: middle;\n",
       "    }\n",
       "\n",
       "    .dataframe tbody tr th {\n",
       "        vertical-align: top;\n",
       "    }\n",
       "\n",
       "    .dataframe thead th {\n",
       "        text-align: right;\n",
       "    }\n",
       "</style>\n",
       "<table border=\"1\" class=\"dataframe\">\n",
       "  <thead>\n",
       "    <tr style=\"text-align: right;\">\n",
       "      <th></th>\n",
       "      <th>tweet_id</th>\n",
       "      <th>tweet_text</th>\n",
       "      <th>label</th>\n",
       "      <th>Lang</th>\n",
       "      <th>Translated Tweet</th>\n",
       "    </tr>\n",
       "  </thead>\n",
       "  <tbody>\n",
       "    <tr>\n",
       "      <th>0</th>\n",
       "      <td>501222299685888000'</td>\n",
       "      <td>RT @lilid426: Everyone has all these intense r...</td>\n",
       "      <td>not_related_or_irrelevant</td>\n",
       "      <td>en</td>\n",
       "      <td>RT @lilid426: Everyone has all these intense r...</td>\n",
       "    </tr>\n",
       "    <tr>\n",
       "      <th>1</th>\n",
       "      <td>501203294409457664'</td>\n",
       "      <td>@kkfred12 @StayDvpper oh yea I would like to t...</td>\n",
       "      <td>not_related_or_irrelevant</td>\n",
       "      <td>en</td>\n",
       "      <td>@kkfred12 @StayDvpper oh yea I would like to t...</td>\n",
       "    </tr>\n",
       "  </tbody>\n",
       "</table>\n",
       "</div>"
      ],
      "text/plain": [
       "              tweet_id                                         tweet_text  \\\n",
       "0  501222299685888000'  RT @lilid426: Everyone has all these intense r...   \n",
       "1  501203294409457664'  @kkfred12 @StayDvpper oh yea I would like to t...   \n",
       "\n",
       "                       label Lang  \\\n",
       "0  not_related_or_irrelevant   en   \n",
       "1  not_related_or_irrelevant   en   \n",
       "\n",
       "                                    Translated Tweet  \n",
       "0  RT @lilid426: Everyone has all these intense r...  \n",
       "1  @kkfred12 @StayDvpper oh yea I would like to t...  "
      ]
     },
     "execution_count": 18,
     "metadata": {},
     "output_type": "execute_result"
    }
   ],
   "source": [
    "India_Floods_2014.head(2)"
   ]
  },
  {
   "cell_type": "code",
   "execution_count": 19,
   "metadata": {
    "id": "Q4IRbQWTHYwQ"
   },
   "outputs": [],
   "source": [
    "Pakistan_Floods_2014 = pd.read_csv(os.path.join(base_crowd_data_dir, '2014_Pakistan_floods/2014_Pakistan_floods_CF_TRANSLATED.csv'))"
   ]
  },
  {
   "cell_type": "code",
   "execution_count": 20,
   "metadata": {
    "colab": {
     "base_uri": "https://localhost:8080/"
    },
    "id": "UkUHrzArH14j",
    "outputId": "561ebc62-c984-4b0b-fa26-9c2e6969c762",
    "scrolled": true
   },
   "outputs": [
    {
     "data": {
      "text/html": [
       "<div>\n",
       "<style scoped>\n",
       "    .dataframe tbody tr th:only-of-type {\n",
       "        vertical-align: middle;\n",
       "    }\n",
       "\n",
       "    .dataframe tbody tr th {\n",
       "        vertical-align: top;\n",
       "    }\n",
       "\n",
       "    .dataframe thead th {\n",
       "        text-align: right;\n",
       "    }\n",
       "</style>\n",
       "<table border=\"1\" class=\"dataframe\">\n",
       "  <thead>\n",
       "    <tr style=\"text-align: right;\">\n",
       "      <th></th>\n",
       "      <th>tweet_id</th>\n",
       "      <th>tweet_text</th>\n",
       "      <th>label</th>\n",
       "      <th>Lang</th>\n",
       "      <th>Translated Tweet</th>\n",
       "    </tr>\n",
       "  </thead>\n",
       "  <tbody>\n",
       "    <tr>\n",
       "      <th>0</th>\n",
       "      <td>509390880315166720'</td>\n",
       "      <td>RT @rehman_azhar: #Sialkot airport where Imran...</td>\n",
       "      <td>other_useful_information</td>\n",
       "      <td>en</td>\n",
       "      <td>RT @rehman_azhar: #Sialkot airport where Imran...</td>\n",
       "    </tr>\n",
       "    <tr>\n",
       "      <th>1</th>\n",
       "      <td>510365408440762368'</td>\n",
       "      <td>Kashmir floods: Hyderpora mosque a symbol of c...</td>\n",
       "      <td>other_useful_information</td>\n",
       "      <td>en</td>\n",
       "      <td>Kashmir floods: Hyderpora mosque a symbol of c...</td>\n",
       "    </tr>\n",
       "  </tbody>\n",
       "</table>\n",
       "</div>"
      ],
      "text/plain": [
       "              tweet_id                                         tweet_text  \\\n",
       "0  509390880315166720'  RT @rehman_azhar: #Sialkot airport where Imran...   \n",
       "1  510365408440762368'  Kashmir floods: Hyderpora mosque a symbol of c...   \n",
       "\n",
       "                      label Lang  \\\n",
       "0  other_useful_information   en   \n",
       "1  other_useful_information   en   \n",
       "\n",
       "                                    Translated Tweet  \n",
       "0  RT @rehman_azhar: #Sialkot airport where Imran...  \n",
       "1  Kashmir floods: Hyderpora mosque a symbol of c...  "
      ]
     },
     "execution_count": 20,
     "metadata": {},
     "output_type": "execute_result"
    }
   ],
   "source": [
    "Pakistan_Floods_2014.head(2)"
   ]
  },
  {
   "cell_type": "code",
   "execution_count": 21,
   "metadata": {
    "id": "9TUW9DcyH4eh"
   },
   "outputs": [],
   "source": [
    "Philippines_Typhoon_Hagupit_2014 = pd.read_csv(os.path.join(base_crowd_data_dir, '2014_Philippines_Typhoon_Hagupit_en/2014_Philippines_Typhoon_Hagupit_en_CF_TRANSLATED.csv'))"
   ]
  },
  {
   "cell_type": "code",
   "execution_count": 22,
   "metadata": {
    "colab": {
     "base_uri": "https://localhost:8080/"
    },
    "id": "v5ytdh9KIazy",
    "outputId": "a79528a7-d257-49c2-d34b-6fffbc5c9c2a",
    "scrolled": true
   },
   "outputs": [
    {
     "data": {
      "text/html": [
       "<div>\n",
       "<style scoped>\n",
       "    .dataframe tbody tr th:only-of-type {\n",
       "        vertical-align: middle;\n",
       "    }\n",
       "\n",
       "    .dataframe tbody tr th {\n",
       "        vertical-align: top;\n",
       "    }\n",
       "\n",
       "    .dataframe thead th {\n",
       "        text-align: right;\n",
       "    }\n",
       "</style>\n",
       "<table border=\"1\" class=\"dataframe\">\n",
       "  <thead>\n",
       "    <tr style=\"text-align: right;\">\n",
       "      <th></th>\n",
       "      <th>tweet_id</th>\n",
       "      <th>tweet_text</th>\n",
       "      <th>label</th>\n",
       "      <th>Lang</th>\n",
       "      <th>Translated Tweet</th>\n",
       "    </tr>\n",
       "  </thead>\n",
       "  <tbody>\n",
       "    <tr>\n",
       "      <th>0</th>\n",
       "      <td>541357334178824192'</td>\n",
       "      <td>Typhoon hits same place as last year (7000+ ki...</td>\n",
       "      <td>injured_or_dead_people</td>\n",
       "      <td>en</td>\n",
       "      <td>Typhoon hits same place as last year (7000+ ki...</td>\n",
       "    </tr>\n",
       "    <tr>\n",
       "      <th>1</th>\n",
       "      <td>541995520533999616'</td>\n",
       "      <td>Typhoon Hagupit (Ruby) - Red Cross - Alive and...</td>\n",
       "      <td>missing_trapped_or_found_people</td>\n",
       "      <td>en</td>\n",
       "      <td>Typhoon Hagupit (Ruby) - Red Cross - Alive and...</td>\n",
       "    </tr>\n",
       "  </tbody>\n",
       "</table>\n",
       "</div>"
      ],
      "text/plain": [
       "              tweet_id                                         tweet_text  \\\n",
       "0  541357334178824192'  Typhoon hits same place as last year (7000+ ki...   \n",
       "1  541995520533999616'  Typhoon Hagupit (Ruby) - Red Cross - Alive and...   \n",
       "\n",
       "                             label Lang  \\\n",
       "0           injured_or_dead_people   en   \n",
       "1  missing_trapped_or_found_people   en   \n",
       "\n",
       "                                    Translated Tweet  \n",
       "0  Typhoon hits same place as last year (7000+ ki...  \n",
       "1  Typhoon Hagupit (Ruby) - Red Cross - Alive and...  "
      ]
     },
     "execution_count": 22,
     "metadata": {},
     "output_type": "execute_result"
    }
   ],
   "source": [
    "Philippines_Typhoon_Hagupit_2014.head(2)"
   ]
  },
  {
   "cell_type": "code",
   "execution_count": 23,
   "metadata": {
    "id": "W0-0AP4kIeCC"
   },
   "outputs": [],
   "source": [
    "Cyclone_Pam_2015 = pd.read_csv(os.path.join(base_crowd_data_dir, '2015_Cyclone_Pam_en/2015_Cyclone_Pam_en_CF_TRANSLATED.csv'))"
   ]
  },
  {
   "cell_type": "code",
   "execution_count": 24,
   "metadata": {
    "colab": {
     "base_uri": "https://localhost:8080/"
    },
    "id": "jN1aJlFNIyWF",
    "outputId": "5632b478-215f-47fe-e79f-ed9d21aeab4a",
    "scrolled": true
   },
   "outputs": [
    {
     "data": {
      "text/html": [
       "<div>\n",
       "<style scoped>\n",
       "    .dataframe tbody tr th:only-of-type {\n",
       "        vertical-align: middle;\n",
       "    }\n",
       "\n",
       "    .dataframe tbody tr th {\n",
       "        vertical-align: top;\n",
       "    }\n",
       "\n",
       "    .dataframe thead th {\n",
       "        text-align: right;\n",
       "    }\n",
       "</style>\n",
       "<table border=\"1\" class=\"dataframe\">\n",
       "  <thead>\n",
       "    <tr style=\"text-align: right;\">\n",
       "      <th></th>\n",
       "      <th>tweet_id</th>\n",
       "      <th>tweet_text</th>\n",
       "      <th>label</th>\n",
       "      <th>Lang</th>\n",
       "      <th>Translated Tweet</th>\n",
       "    </tr>\n",
       "  </thead>\n",
       "  <tbody>\n",
       "    <tr>\n",
       "      <th>0</th>\n",
       "      <td>577768641065836544'</td>\n",
       "      <td>RT @MailOnline: Cyclone Pam ravages Vanuatu as...</td>\n",
       "      <td>infrastructure_and_utilities_damage</td>\n",
       "      <td>en</td>\n",
       "      <td>RT @MailOnline: Cyclone Pam ravages Vanuatu as...</td>\n",
       "    </tr>\n",
       "    <tr>\n",
       "      <th>1</th>\n",
       "      <td>579096700037545984'</td>\n",
       "      <td>Over 166,000 people affected on #Vanuatu and n...</td>\n",
       "      <td>injured_or_dead_people</td>\n",
       "      <td>en</td>\n",
       "      <td>Over 166,000 people affected on #Vanuatu and n...</td>\n",
       "    </tr>\n",
       "  </tbody>\n",
       "</table>\n",
       "</div>"
      ],
      "text/plain": [
       "              tweet_id                                         tweet_text  \\\n",
       "0  577768641065836544'  RT @MailOnline: Cyclone Pam ravages Vanuatu as...   \n",
       "1  579096700037545984'  Over 166,000 people affected on #Vanuatu and n...   \n",
       "\n",
       "                                 label Lang  \\\n",
       "0  infrastructure_and_utilities_damage   en   \n",
       "1               injured_or_dead_people   en   \n",
       "\n",
       "                                    Translated Tweet  \n",
       "0  RT @MailOnline: Cyclone Pam ravages Vanuatu as...  \n",
       "1  Over 166,000 people affected on #Vanuatu and n...  "
      ]
     },
     "execution_count": 24,
     "metadata": {},
     "output_type": "execute_result"
    }
   ],
   "source": [
    "Cyclone_Pam_2015.head(2)"
   ]
  },
  {
   "cell_type": "code",
   "execution_count": 25,
   "metadata": {
    "id": "prxqPXvjI1L2"
   },
   "outputs": [],
   "source": [
    "Nepal_Earthquake_2015 = pd.read_csv(os.path.join(base_crowd_data_dir, '2015_Nepal_Earthquake_en/2015_Nepal_Earthquake_en_CF_TRANSLATED.csv'))"
   ]
  },
  {
   "cell_type": "code",
   "execution_count": 26,
   "metadata": {
    "colab": {
     "base_uri": "https://localhost:8080/"
    },
    "id": "0qePoHoAJFTu",
    "outputId": "c1cf0e71-8df7-4e38-f623-6b3983fda1a4",
    "scrolled": true
   },
   "outputs": [
    {
     "data": {
      "text/html": [
       "<div>\n",
       "<style scoped>\n",
       "    .dataframe tbody tr th:only-of-type {\n",
       "        vertical-align: middle;\n",
       "    }\n",
       "\n",
       "    .dataframe tbody tr th {\n",
       "        vertical-align: top;\n",
       "    }\n",
       "\n",
       "    .dataframe thead th {\n",
       "        text-align: right;\n",
       "    }\n",
       "</style>\n",
       "<table border=\"1\" class=\"dataframe\">\n",
       "  <thead>\n",
       "    <tr style=\"text-align: right;\">\n",
       "      <th></th>\n",
       "      <th>tweet_id</th>\n",
       "      <th>tweet_text</th>\n",
       "      <th>label</th>\n",
       "      <th>Lang</th>\n",
       "      <th>Translated Tweet</th>\n",
       "    </tr>\n",
       "  </thead>\n",
       "  <tbody>\n",
       "    <tr>\n",
       "      <th>0</th>\n",
       "      <td>592326564110585856'</td>\n",
       "      <td>RT @divyaconnects: Reached #Kathmandu finally!...</td>\n",
       "      <td>other_useful_information</td>\n",
       "      <td>en</td>\n",
       "      <td>RT @divyaconnects: Reached #Kathmandu finally!...</td>\n",
       "    </tr>\n",
       "    <tr>\n",
       "      <th>1</th>\n",
       "      <td>592616512642420737'</td>\n",
       "      <td>fears for Foreigners missing in Nepal earthqua...</td>\n",
       "      <td>missing_trapped_or_found_people</td>\n",
       "      <td>en</td>\n",
       "      <td>fears for Foreigners missing in Nepal earthqua...</td>\n",
       "    </tr>\n",
       "  </tbody>\n",
       "</table>\n",
       "</div>"
      ],
      "text/plain": [
       "              tweet_id                                         tweet_text  \\\n",
       "0  592326564110585856'  RT @divyaconnects: Reached #Kathmandu finally!...   \n",
       "1  592616512642420737'  fears for Foreigners missing in Nepal earthqua...   \n",
       "\n",
       "                             label Lang  \\\n",
       "0         other_useful_information   en   \n",
       "1  missing_trapped_or_found_people   en   \n",
       "\n",
       "                                    Translated Tweet  \n",
       "0  RT @divyaconnects: Reached #Kathmandu finally!...  \n",
       "1  fears for Foreigners missing in Nepal earthqua...  "
      ]
     },
     "execution_count": 26,
     "metadata": {},
     "output_type": "execute_result"
    }
   ],
   "source": [
    "Nepal_Earthquake_2015.head(2)"
   ]
  },
  {
   "cell_type": "code",
   "execution_count": 27,
   "metadata": {},
   "outputs": [],
   "source": [
    "Pakistan_2013 = Pakistan_2013[cols_required]\n",
    "California_Earthquake_2014 = California_Earthquake_2014[cols_required]\n",
    "# Chile_Earthquake_2014_cl = Chile_Earthquake_2014_cl[cols_required]\n",
    "Chile_Earthquake_2014 = Chile_Earthquake_2014[cols_required]\n",
    "Hurricane_Odile_Mexico_2014 = Hurricane_Odile_Mexico_2014[cols_required]\n",
    "India_Floods_2014 = India_Floods_2014[cols_required]\n",
    "Pakistan_Floods_2014 = Pakistan_Floods_2014[cols_required]\n",
    "Philippines_Typhoon_Hagupit_2014 = Philippines_Typhoon_Hagupit_2014[cols_required]\n",
    "Cyclone_Pam_2015 = Cyclone_Pam_2015[cols_required]\n",
    "Nepal_Earthquake_2015 = Nepal_Earthquake_2015[cols_required]"
   ]
  },
  {
   "cell_type": "code",
   "execution_count": 28,
   "metadata": {
    "scrolled": false
   },
   "outputs": [
    {
     "data": {
      "text/html": [
       "<div>\n",
       "<style scoped>\n",
       "    .dataframe tbody tr th:only-of-type {\n",
       "        vertical-align: middle;\n",
       "    }\n",
       "\n",
       "    .dataframe tbody tr th {\n",
       "        vertical-align: top;\n",
       "    }\n",
       "\n",
       "    .dataframe thead th {\n",
       "        text-align: right;\n",
       "    }\n",
       "</style>\n",
       "<table border=\"1\" class=\"dataframe\">\n",
       "  <thead>\n",
       "    <tr style=\"text-align: right;\">\n",
       "      <th></th>\n",
       "      <th>tweet_id</th>\n",
       "      <th>Translated Tweet</th>\n",
       "      <th>label</th>\n",
       "    </tr>\n",
       "  </thead>\n",
       "  <tbody>\n",
       "    <tr>\n",
       "      <th>0</th>\n",
       "      <td>511962276383825920'</td>\n",
       "      <td>Prayers for Cabo: Hurricane Odile Roars Throug...</td>\n",
       "      <td>sympathy_and_emotional_support</td>\n",
       "    </tr>\n",
       "    <tr>\n",
       "      <th>1</th>\n",
       "      <td>511733855871438848'</td>\n",
       "      <td>Sammy Hagar's Home Damaged in Hurricane: Sammy...</td>\n",
       "      <td>infrastructure_and_utilities_damage</td>\n",
       "    </tr>\n",
       "  </tbody>\n",
       "</table>\n",
       "</div>"
      ],
      "text/plain": [
       "              tweet_id                                   Translated Tweet  \\\n",
       "0  511962276383825920'  Prayers for Cabo: Hurricane Odile Roars Throug...   \n",
       "1  511733855871438848'  Sammy Hagar's Home Damaged in Hurricane: Sammy...   \n",
       "\n",
       "                                 label  \n",
       "0       sympathy_and_emotional_support  \n",
       "1  infrastructure_and_utilities_damage  "
      ]
     },
     "execution_count": 28,
     "metadata": {},
     "output_type": "execute_result"
    }
   ],
   "source": [
    "Hurricane_Odile_Mexico_2014.head(2)"
   ]
  },
  {
   "cell_type": "code",
   "execution_count": 29,
   "metadata": {},
   "outputs": [],
   "source": [
    "crisisnlp_crowdflower = pd.concat([\n",
    "    Pakistan_2013,\n",
    "    California_Earthquake_2014,\n",
    "#     Chile_Earthquake_2014_cl,\n",
    "    Chile_Earthquake_2014,\n",
    "    Hurricane_Odile_Mexico_2014,\n",
    "    India_Floods_2014,\n",
    "    Pakistan_Floods_2014,\n",
    "    Philippines_Typhoon_Hagupit_2014,\n",
    "    Cyclone_Pam_2015,\n",
    "    Nepal_Earthquake_2015,\n",
    "])"
   ]
  },
  {
   "cell_type": "code",
   "execution_count": 30,
   "metadata": {
    "scrolled": true
   },
   "outputs": [
    {
     "data": {
      "text/html": [
       "<div>\n",
       "<style scoped>\n",
       "    .dataframe tbody tr th:only-of-type {\n",
       "        vertical-align: middle;\n",
       "    }\n",
       "\n",
       "    .dataframe tbody tr th {\n",
       "        vertical-align: top;\n",
       "    }\n",
       "\n",
       "    .dataframe thead th {\n",
       "        text-align: right;\n",
       "    }\n",
       "</style>\n",
       "<table border=\"1\" class=\"dataframe\">\n",
       "  <thead>\n",
       "    <tr style=\"text-align: right;\">\n",
       "      <th></th>\n",
       "      <th>tweet_id</th>\n",
       "      <th>Translated Tweet</th>\n",
       "      <th>label</th>\n",
       "    </tr>\n",
       "  </thead>\n",
       "  <tbody>\n",
       "    <tr>\n",
       "      <th>0</th>\n",
       "      <td>383600460340666369'</td>\n",
       "      <td>RT @Faiz_Baluch: #BalochistanEarthQuake Pakist...</td>\n",
       "      <td>other_useful_information</td>\n",
       "    </tr>\n",
       "    <tr>\n",
       "      <th>1</th>\n",
       "      <td>383790723222364161'</td>\n",
       "      <td>#Earthquake 2013-09-28 02:39:43 (M5.0) EAST OF...</td>\n",
       "      <td>other_useful_information</td>\n",
       "    </tr>\n",
       "    <tr>\n",
       "      <th>2</th>\n",
       "      <td>384232048124518400'</td>\n",
       "      <td>#earthquake M2.2: Puerto Rico region http://t....</td>\n",
       "      <td>other_useful_information</td>\n",
       "    </tr>\n",
       "    <tr>\n",
       "      <th>3</th>\n",
       "      <td>384860484643475456'</td>\n",
       "      <td>#PAKISTAN: #NASA releases images of Pakistan's...</td>\n",
       "      <td>other_useful_information</td>\n",
       "    </tr>\n",
       "    <tr>\n",
       "      <th>4</th>\n",
       "      <td>383407962619772928'</td>\n",
       "      <td>【#USGS #alert】 M 1.5, Central Alaska: Septembe...</td>\n",
       "      <td>other_useful_information</td>\n",
       "    </tr>\n",
       "  </tbody>\n",
       "</table>\n",
       "</div>"
      ],
      "text/plain": [
       "              tweet_id                                   Translated Tweet  \\\n",
       "0  383600460340666369'  RT @Faiz_Baluch: #BalochistanEarthQuake Pakist...   \n",
       "1  383790723222364161'  #Earthquake 2013-09-28 02:39:43 (M5.0) EAST OF...   \n",
       "2  384232048124518400'  #earthquake M2.2: Puerto Rico region http://t....   \n",
       "3  384860484643475456'  #PAKISTAN: #NASA releases images of Pakistan's...   \n",
       "4  383407962619772928'  【#USGS #alert】 M 1.5, Central Alaska: Septembe...   \n",
       "\n",
       "                      label  \n",
       "0  other_useful_information  \n",
       "1  other_useful_information  \n",
       "2  other_useful_information  \n",
       "3  other_useful_information  \n",
       "4  other_useful_information  "
      ]
     },
     "execution_count": 30,
     "metadata": {},
     "output_type": "execute_result"
    }
   ],
   "source": [
    "crisisnlp_crowdflower.head()"
   ]
  },
  {
   "cell_type": "code",
   "execution_count": 31,
   "metadata": {},
   "outputs": [
    {
     "data": {
      "text/plain": [
       "Index(['tweet_id', 'Translated Tweet', 'label'], dtype='object')"
      ]
     },
     "execution_count": 31,
     "metadata": {},
     "output_type": "execute_result"
    }
   ],
   "source": [
    "crisisnlp_crowdflower.columns"
   ]
  },
  {
   "cell_type": "code",
   "execution_count": 32,
   "metadata": {},
   "outputs": [
    {
     "data": {
      "text/plain": [
       "(17382, 3)"
      ]
     },
     "execution_count": 32,
     "metadata": {},
     "output_type": "execute_result"
    }
   ],
   "source": [
    "crisisnlp_crowdflower.shape"
   ]
  },
  {
   "cell_type": "code",
   "execution_count": 33,
   "metadata": {},
   "outputs": [],
   "source": [
    "crisisnlp_crowdflower = crisisnlp_crowdflower.rename(columns={\n",
    "    'tweet_id': 'ID',\n",
    "    'Translated Tweet': 'Tweet',\n",
    "    'label': 'Label'\n",
    "})"
   ]
  },
  {
   "cell_type": "code",
   "execution_count": 34,
   "metadata": {},
   "outputs": [
    {
     "data": {
      "text/html": [
       "<div>\n",
       "<style scoped>\n",
       "    .dataframe tbody tr th:only-of-type {\n",
       "        vertical-align: middle;\n",
       "    }\n",
       "\n",
       "    .dataframe tbody tr th {\n",
       "        vertical-align: top;\n",
       "    }\n",
       "\n",
       "    .dataframe thead th {\n",
       "        text-align: right;\n",
       "    }\n",
       "</style>\n",
       "<table border=\"1\" class=\"dataframe\">\n",
       "  <thead>\n",
       "    <tr style=\"text-align: right;\">\n",
       "      <th></th>\n",
       "      <th>ID</th>\n",
       "      <th>Tweet</th>\n",
       "      <th>Label</th>\n",
       "    </tr>\n",
       "  </thead>\n",
       "  <tbody>\n",
       "    <tr>\n",
       "      <th>0</th>\n",
       "      <td>383600460340666369'</td>\n",
       "      <td>RT @Faiz_Baluch: #BalochistanEarthQuake Pakist...</td>\n",
       "      <td>other_useful_information</td>\n",
       "    </tr>\n",
       "    <tr>\n",
       "      <th>1</th>\n",
       "      <td>383790723222364161'</td>\n",
       "      <td>#Earthquake 2013-09-28 02:39:43 (M5.0) EAST OF...</td>\n",
       "      <td>other_useful_information</td>\n",
       "    </tr>\n",
       "  </tbody>\n",
       "</table>\n",
       "</div>"
      ],
      "text/plain": [
       "                    ID                                              Tweet  \\\n",
       "0  383600460340666369'  RT @Faiz_Baluch: #BalochistanEarthQuake Pakist...   \n",
       "1  383790723222364161'  #Earthquake 2013-09-28 02:39:43 (M5.0) EAST OF...   \n",
       "\n",
       "                      Label  \n",
       "0  other_useful_information  \n",
       "1  other_useful_information  "
      ]
     },
     "execution_count": 34,
     "metadata": {},
     "output_type": "execute_result"
    }
   ],
   "source": [
    "crisisnlp_crowdflower.head(2)"
   ]
  },
  {
   "cell_type": "code",
   "execution_count": 35,
   "metadata": {},
   "outputs": [
    {
     "data": {
      "text/plain": [
       "<AxesSubplot:>"
      ]
     },
     "execution_count": 35,
     "metadata": {},
     "output_type": "execute_result"
    },
    {
     "data": {
      "image/png": "[encoded data removed]",
      "text/plain": [
       "<Figure size 432x288 with 1 Axes>"
      ]
     },
     "metadata": {
      "needs_background": "light"
     },
     "output_type": "display_data"
    }
   ],
   "source": [
    "crisisnlp_crowdflower['Label'].value_counts(ascending=True).plot(kind=\"barh\")"
   ]
  },
  {
   "cell_type": "markdown",
   "metadata": {
    "id": "1l2N5KXLJIcp"
   },
   "source": [
    "### **Load CrisisNLP Volunteers datasets**"
   ]
  },
  {
   "cell_type": "code",
   "execution_count": 36,
   "metadata": {},
   "outputs": [],
   "source": [
    "base_vol_data_dir = 'C:/Users/Kelvin Chumbe/Downloads/Datasets/Capstone_Twitter Modelling Datasets/CrisisNLP_volunteers_labeled_data/CrisisNLP_volunteers_labeled_data/'"
   ]
  },
  {
   "cell_type": "code",
   "execution_count": 37,
   "metadata": {},
   "outputs": [],
   "source": [
    "cols_required_vol = ['tweet_id', ' tweet_text', 'label']"
   ]
  },
  {
   "cell_type": "code",
   "execution_count": 38,
   "metadata": {
    "id": "F9OfBQuyKE8Y"
   },
   "outputs": [],
   "source": [
    "California_Earthquake_2014_vol = pd.read_csv(os.path.join(base_vol_data_dir, '2014_California_Earthquake/2014_California_Earthquake.csv'), engine='python')"
   ]
  },
  {
   "cell_type": "code",
   "execution_count": 39,
   "metadata": {
    "colab": {
     "base_uri": "https://localhost:8080/",
     "height": 547
    },
    "id": "Q0P2zAz9KjYJ",
    "outputId": "9a348a2c-3012-41ff-bbba-7d48ccbd4098",
    "scrolled": false
   },
   "outputs": [
    {
     "data": {
      "text/html": [
       "<div>\n",
       "<style scoped>\n",
       "    .dataframe tbody tr th:only-of-type {\n",
       "        vertical-align: middle;\n",
       "    }\n",
       "\n",
       "    .dataframe tbody tr th {\n",
       "        vertical-align: top;\n",
       "    }\n",
       "\n",
       "    .dataframe thead th {\n",
       "        text-align: right;\n",
       "    }\n",
       "</style>\n",
       "<table border=\"1\" class=\"dataframe\">\n",
       "  <thead>\n",
       "    <tr style=\"text-align: right;\">\n",
       "      <th></th>\n",
       "      <th>tweet_id</th>\n",
       "      <th>tweet_time</th>\n",
       "      <th>tweet_author</th>\n",
       "      <th>tweet_author_id</th>\n",
       "      <th>tweet_language</th>\n",
       "      <th>tweet_lon</th>\n",
       "      <th>tweet_lat</th>\n",
       "      <th>tweet_text</th>\n",
       "      <th>tweet_url</th>\n",
       "      <th>label</th>\n",
       "    </tr>\n",
       "  </thead>\n",
       "  <tbody>\n",
       "    <tr>\n",
       "      <th>0</th>\n",
       "      <td>'503866345822244864'</td>\n",
       "      <td>Mon Aug 25 11:27:52 +0000 2014</td>\n",
       "      <td>NewsYouN2Know</td>\n",
       "      <td>2420642647</td>\n",
       "      <td>en</td>\n",
       "      <td>NaN</td>\n",
       "      <td>NaN</td>\n",
       "      <td>�_ USA 592 Earthquake Earthquake rattles, does...</td>\n",
       "      <td>https://twitter.com/NewsYouN2Know/status/50386...</td>\n",
       "      <td>Infrastructure and utilities</td>\n",
       "    </tr>\n",
       "    <tr>\n",
       "      <th>1</th>\n",
       "      <td>'503866373961809920'</td>\n",
       "      <td>Mon Aug 25 11:27:59 +0000 2014</td>\n",
       "      <td>debbyxme</td>\n",
       "      <td>2300611952</td>\n",
       "      <td>en</td>\n",
       "      <td>NaN</td>\n",
       "      <td>NaN</td>\n",
       "      <td>�ۢ �ۢ Earthquake #Earthquake California Earthq...</td>\n",
       "      <td>https://twitter.com/debbyxme/status/5038663739...</td>\n",
       "      <td>Other relevant information</td>\n",
       "    </tr>\n",
       "  </tbody>\n",
       "</table>\n",
       "</div>"
      ],
      "text/plain": [
       "               tweet_id                      tweet_time   tweet_author  \\\n",
       "0  '503866345822244864'  Mon Aug 25 11:27:52 +0000 2014  NewsYouN2Know   \n",
       "1  '503866373961809920'  Mon Aug 25 11:27:59 +0000 2014       debbyxme   \n",
       "\n",
       "    tweet_author_id  tweet_language   tweet_lon   tweet_lat  \\\n",
       "0        2420642647              en         NaN         NaN   \n",
       "1        2300611952              en         NaN         NaN   \n",
       "\n",
       "                                          tweet_text  \\\n",
       "0  �_ USA 592 Earthquake Earthquake rattles, does...   \n",
       "1  �ۢ �ۢ Earthquake #Earthquake California Earthq...   \n",
       "\n",
       "                                           tweet_url  \\\n",
       "0  https://twitter.com/NewsYouN2Know/status/50386...   \n",
       "1  https://twitter.com/debbyxme/status/5038663739...   \n",
       "\n",
       "                          label  \n",
       "0  Infrastructure and utilities  \n",
       "1    Other relevant information  "
      ]
     },
     "execution_count": 39,
     "metadata": {},
     "output_type": "execute_result"
    }
   ],
   "source": [
    "California_Earthquake_2014_vol.head(2)"
   ]
  },
  {
   "cell_type": "code",
   "execution_count": 40,
   "metadata": {
    "id": "Xsu-B3k4KmZ9"
   },
   "outputs": [],
   "source": [
    "Chile_Earthquake_2014_vol = pd.read_csv(os.path.join(base_vol_data_dir, '2014_Chile_Earthquake_en/2014_Chile_Earthquake_en.csv'), engine='python')"
   ]
  },
  {
   "cell_type": "code",
   "execution_count": 41,
   "metadata": {
    "colab": {
     "base_uri": "https://localhost:8080/",
     "height": 479
    },
    "id": "QbdcKbJ1SvLA",
    "outputId": "a95f2459-53d9-45f8-da17-f9845e512214",
    "scrolled": false
   },
   "outputs": [
    {
     "data": {
      "text/html": [
       "<div>\n",
       "<style scoped>\n",
       "    .dataframe tbody tr th:only-of-type {\n",
       "        vertical-align: middle;\n",
       "    }\n",
       "\n",
       "    .dataframe tbody tr th {\n",
       "        vertical-align: top;\n",
       "    }\n",
       "\n",
       "    .dataframe thead th {\n",
       "        text-align: right;\n",
       "    }\n",
       "</style>\n",
       "<table border=\"1\" class=\"dataframe\">\n",
       "  <thead>\n",
       "    <tr style=\"text-align: right;\">\n",
       "      <th></th>\n",
       "      <th>tweet_id</th>\n",
       "      <th>tweet_time</th>\n",
       "      <th>tweet_author</th>\n",
       "      <th>tweet_author_id</th>\n",
       "      <th>tweet_language</th>\n",
       "      <th>tweet_lon</th>\n",
       "      <th>tweet_lat</th>\n",
       "      <th>tweet_text</th>\n",
       "      <th>tweet_url</th>\n",
       "      <th>label</th>\n",
       "    </tr>\n",
       "  </thead>\n",
       "  <tbody>\n",
       "    <tr>\n",
       "      <th>0</th>\n",
       "      <td>'451280656090157056'</td>\n",
       "      <td>Wed Apr 02 08:51:07 +0000 2014</td>\n",
       "      <td>latinpr_Au</td>\n",
       "      <td>1574771142</td>\n",
       "      <td>en</td>\n",
       "      <td>NaN</td>\n",
       "      <td>NaN</td>\n",
       "      <td>Let's all keep Chile and our friends in our th...</td>\n",
       "      <td>https://twitter.com/latinpr_Au/status/45128065...</td>\n",
       "      <td>Personal updates, sympathy, support</td>\n",
       "    </tr>\n",
       "    <tr>\n",
       "      <th>1</th>\n",
       "      <td>'451281454429769728'</td>\n",
       "      <td>Wed Apr 02 08:54:17 +0000 2014</td>\n",
       "      <td>articulas77</td>\n",
       "      <td>161667670</td>\n",
       "      <td>en</td>\n",
       "      <td>NaN</td>\n",
       "      <td>NaN</td>\n",
       "      <td>Residents flee 8.2 magnitude earthquake strike...</td>\n",
       "      <td>https://twitter.com/articulas77/status/4512814...</td>\n",
       "      <td>Other useful information</td>\n",
       "    </tr>\n",
       "  </tbody>\n",
       "</table>\n",
       "</div>"
      ],
      "text/plain": [
       "               tweet_id                      tweet_time  tweet_author  \\\n",
       "0  '451280656090157056'  Wed Apr 02 08:51:07 +0000 2014    latinpr_Au   \n",
       "1  '451281454429769728'  Wed Apr 02 08:54:17 +0000 2014   articulas77   \n",
       "\n",
       "    tweet_author_id  tweet_language   tweet_lon   tweet_lat  \\\n",
       "0        1574771142              en         NaN         NaN   \n",
       "1         161667670              en         NaN         NaN   \n",
       "\n",
       "                                          tweet_text  \\\n",
       "0  Let's all keep Chile and our friends in our th...   \n",
       "1  Residents flee 8.2 magnitude earthquake strike...   \n",
       "\n",
       "                                           tweet_url  \\\n",
       "0  https://twitter.com/latinpr_Au/status/45128065...   \n",
       "1  https://twitter.com/articulas77/status/4512814...   \n",
       "\n",
       "                                 label  \n",
       "0  Personal updates, sympathy, support  \n",
       "1             Other useful information  "
      ]
     },
     "execution_count": 41,
     "metadata": {},
     "output_type": "execute_result"
    }
   ],
   "source": [
    "Chile_Earthquake_2014_vol.head(2)"
   ]
  },
  {
   "cell_type": "code",
   "execution_count": 42,
   "metadata": {
    "id": "Xsu-B3k4KmZ9"
   },
   "outputs": [],
   "source": [
    "# Chile_Earthquake_2014_cl_vol = pd.read_csv(os.path.join(base_vol_data_dir, '2014_Chile_Earthquake_cl/2014_chile_earthquake_cl_TRANSLATED.csv'), engine='python')"
   ]
  },
  {
   "cell_type": "code",
   "execution_count": 43,
   "metadata": {
    "colab": {
     "base_uri": "https://localhost:8080/",
     "height": 479
    },
    "id": "QbdcKbJ1SvLA",
    "outputId": "a95f2459-53d9-45f8-da17-f9845e512214",
    "scrolled": true
   },
   "outputs": [],
   "source": [
    "# Chile_Earthquake_2014_cl_vol.head(2)"
   ]
  },
  {
   "cell_type": "code",
   "execution_count": 44,
   "metadata": {
    "id": "Xmq9ZcBcVhmO"
   },
   "outputs": [],
   "source": [
    "Hurricane_Odile_Mexico_2014_vol = pd.read_csv(os.path.join(base_vol_data_dir, '2014_Hurricane_Odile_Mexico_en/2014_Hurricane_Odile_Mexico_en.csv'), engine='python')"
   ]
  },
  {
   "cell_type": "code",
   "execution_count": 45,
   "metadata": {
    "colab": {
     "base_uri": "https://localhost:8080/",
     "height": 632
    },
    "id": "_DU_tiU9VoUk",
    "outputId": "01e43477-9fd2-4101-86a8-3153df35b271"
   },
   "outputs": [
    {
     "data": {
      "text/html": [
       "<div>\n",
       "<style scoped>\n",
       "    .dataframe tbody tr th:only-of-type {\n",
       "        vertical-align: middle;\n",
       "    }\n",
       "\n",
       "    .dataframe tbody tr th {\n",
       "        vertical-align: top;\n",
       "    }\n",
       "\n",
       "    .dataframe thead th {\n",
       "        text-align: right;\n",
       "    }\n",
       "</style>\n",
       "<table border=\"1\" class=\"dataframe\">\n",
       "  <thead>\n",
       "    <tr style=\"text-align: right;\">\n",
       "      <th></th>\n",
       "      <th>tweet_id</th>\n",
       "      <th>tweet_time</th>\n",
       "      <th>tweet_author</th>\n",
       "      <th>tweet_author_id</th>\n",
       "      <th>tweet_language</th>\n",
       "      <th>tweet_lon</th>\n",
       "      <th>tweet_lat</th>\n",
       "      <th>tweet_text</th>\n",
       "      <th>tweet_url</th>\n",
       "      <th>label</th>\n",
       "    </tr>\n",
       "  </thead>\n",
       "  <tbody>\n",
       "    <tr>\n",
       "      <th>0</th>\n",
       "      <td>'511481629932785664'</td>\n",
       "      <td>Mon Sep 15 11:48:18 +0000 2014</td>\n",
       "      <td>740KVOR</td>\n",
       "      <td>43607410</td>\n",
       "      <td>en</td>\n",
       "      <td>NaN</td>\n",
       "      <td>NaN</td>\n",
       "      <td>Odile's Remnants Could Bring More Flooding to ...</td>\n",
       "      <td>https://twitter.com/740KVOR/status/51148162993...</td>\n",
       "      <td>Other relevant information</td>\n",
       "    </tr>\n",
       "    <tr>\n",
       "      <th>1</th>\n",
       "      <td>'511481866415648768'</td>\n",
       "      <td>Mon Sep 15 11:49:14 +0000 2014</td>\n",
       "      <td>TrackDisney</td>\n",
       "      <td>321974025</td>\n",
       "      <td>en</td>\n",
       "      <td>NaN</td>\n",
       "      <td>NaN</td>\n",
       "      <td>Hurricane Odile makes landfall in Baja Califor...</td>\n",
       "      <td>https://twitter.com/TrackDisney/status/5114818...</td>\n",
       "      <td>Caution and advice</td>\n",
       "    </tr>\n",
       "  </tbody>\n",
       "</table>\n",
       "</div>"
      ],
      "text/plain": [
       "               tweet_id                      tweet_time  tweet_author  \\\n",
       "0  '511481629932785664'  Mon Sep 15 11:48:18 +0000 2014       740KVOR   \n",
       "1  '511481866415648768'  Mon Sep 15 11:49:14 +0000 2014   TrackDisney   \n",
       "\n",
       "    tweet_author_id  tweet_language   tweet_lon   tweet_lat  \\\n",
       "0          43607410              en         NaN         NaN   \n",
       "1         321974025              en         NaN         NaN   \n",
       "\n",
       "                                          tweet_text  \\\n",
       "0  Odile's Remnants Could Bring More Flooding to ...   \n",
       "1  Hurricane Odile makes landfall in Baja Califor...   \n",
       "\n",
       "                                           tweet_url  \\\n",
       "0  https://twitter.com/740KVOR/status/51148162993...   \n",
       "1  https://twitter.com/TrackDisney/status/5114818...   \n",
       "\n",
       "                        label  \n",
       "0  Other relevant information  \n",
       "1          Caution and advice  "
      ]
     },
     "execution_count": 45,
     "metadata": {},
     "output_type": "execute_result"
    }
   ],
   "source": [
    "Hurricane_Odile_Mexico_2014_vol.head(2)"
   ]
  },
  {
   "cell_type": "code",
   "execution_count": 46,
   "metadata": {
    "id": "ZIFHeSLYZL4U"
   },
   "outputs": [],
   "source": [
    "Iceland_Volcano_2014_vol = pd.read_csv(os.path.join(base_vol_data_dir, '2014_Iceland_Volcano_en/2014_Iceland_Volcano_en.csv'), engine='python')"
   ]
  },
  {
   "cell_type": "code",
   "execution_count": 47,
   "metadata": {
    "colab": {
     "base_uri": "https://localhost:8080/",
     "height": 394
    },
    "id": "I762K6cHZkdr",
    "outputId": "95293b9c-67d6-4ede-90ae-41d8650dce16",
    "scrolled": true
   },
   "outputs": [
    {
     "data": {
      "text/html": [
       "<div>\n",
       "<style scoped>\n",
       "    .dataframe tbody tr th:only-of-type {\n",
       "        vertical-align: middle;\n",
       "    }\n",
       "\n",
       "    .dataframe tbody tr th {\n",
       "        vertical-align: top;\n",
       "    }\n",
       "\n",
       "    .dataframe thead th {\n",
       "        text-align: right;\n",
       "    }\n",
       "</style>\n",
       "<table border=\"1\" class=\"dataframe\">\n",
       "  <thead>\n",
       "    <tr style=\"text-align: right;\">\n",
       "      <th></th>\n",
       "      <th>tweet_id</th>\n",
       "      <th>tweet_time</th>\n",
       "      <th>tweet_author</th>\n",
       "      <th>tweet_author_id</th>\n",
       "      <th>tweet_language</th>\n",
       "      <th>tweet_lon</th>\n",
       "      <th>tweet_lat</th>\n",
       "      <th>tweet_text</th>\n",
       "      <th>tweet_url</th>\n",
       "      <th>label</th>\n",
       "    </tr>\n",
       "  </thead>\n",
       "  <tbody>\n",
       "    <tr>\n",
       "      <th>0</th>\n",
       "      <td>'503956019194908674'</td>\n",
       "      <td>Mon Aug 25 17:24:12 +0000 2014</td>\n",
       "      <td>Info__Us</td>\n",
       "      <td>1734934483</td>\n",
       "      <td>en</td>\n",
       "      <td>NaN</td>\n",
       "      <td>NaN</td>\n",
       "      <td>Iceland volcano: On Tour... ICELANDIA Around I...</td>\n",
       "      <td>https://twitter.com/Info__Us/status/5039560191...</td>\n",
       "      <td>Not related to crisis</td>\n",
       "    </tr>\n",
       "    <tr>\n",
       "      <th>1</th>\n",
       "      <td>'503956061809020928'</td>\n",
       "      <td>Mon Aug 25 17:24:22 +0000 2014</td>\n",
       "      <td>Socialreykjavik</td>\n",
       "      <td>2706576491</td>\n",
       "      <td>en</td>\n",
       "      <td>NaN</td>\n",
       "      <td>NaN</td>\n",
       "      <td>#vscocam #vsco #iceland #islanda #walk #canon ...</td>\n",
       "      <td>https://twitter.com/Socialreykjavik/status/503...</td>\n",
       "      <td>Not related to crisis</td>\n",
       "    </tr>\n",
       "  </tbody>\n",
       "</table>\n",
       "</div>"
      ],
      "text/plain": [
       "               tweet_id                      tweet_time     tweet_author  \\\n",
       "0  '503956019194908674'  Mon Aug 25 17:24:12 +0000 2014         Info__Us   \n",
       "1  '503956061809020928'  Mon Aug 25 17:24:22 +0000 2014  Socialreykjavik   \n",
       "\n",
       "    tweet_author_id  tweet_language   tweet_lon   tweet_lat  \\\n",
       "0        1734934483              en         NaN         NaN   \n",
       "1        2706576491              en         NaN         NaN   \n",
       "\n",
       "                                          tweet_text  \\\n",
       "0  Iceland volcano: On Tour... ICELANDIA Around I...   \n",
       "1  #vscocam #vsco #iceland #islanda #walk #canon ...   \n",
       "\n",
       "                                           tweet_url                  label  \n",
       "0  https://twitter.com/Info__Us/status/5039560191...  Not related to crisis  \n",
       "1  https://twitter.com/Socialreykjavik/status/503...  Not related to crisis  "
      ]
     },
     "execution_count": 47,
     "metadata": {},
     "output_type": "execute_result"
    }
   ],
   "source": [
    "Iceland_Volcano_2014_vol.head(2)"
   ]
  },
  {
   "cell_type": "code",
   "execution_count": 48,
   "metadata": {
    "id": "EasoCwCYacpF"
   },
   "outputs": [],
   "source": [
    "Philippines_Typhoon_Hagupit_2014_vol = pd.read_csv(os.path.join(base_vol_data_dir, '2014_Philippines_Typhoon_Hagupit_en/2014_Typhoon_Hagupit_en.csv'), engine='python')"
   ]
  },
  {
   "cell_type": "code",
   "execution_count": 49,
   "metadata": {
    "colab": {
     "base_uri": "https://localhost:8080/",
     "height": 530
    },
    "id": "pr5ox93zarzd",
    "outputId": "3bdfa960-0ef7-4046-dc50-2119f9a7c96b",
    "scrolled": false
   },
   "outputs": [
    {
     "data": {
      "text/html": [
       "<div>\n",
       "<style scoped>\n",
       "    .dataframe tbody tr th:only-of-type {\n",
       "        vertical-align: middle;\n",
       "    }\n",
       "\n",
       "    .dataframe tbody tr th {\n",
       "        vertical-align: top;\n",
       "    }\n",
       "\n",
       "    .dataframe thead th {\n",
       "        text-align: right;\n",
       "    }\n",
       "</style>\n",
       "<table border=\"1\" class=\"dataframe\">\n",
       "  <thead>\n",
       "    <tr style=\"text-align: right;\">\n",
       "      <th></th>\n",
       "      <th>tweet_id</th>\n",
       "      <th>tweet_time</th>\n",
       "      <th>tweet_author</th>\n",
       "      <th>tweet_author_id</th>\n",
       "      <th>tweet_language</th>\n",
       "      <th>tweet_lon</th>\n",
       "      <th>tweet_lat</th>\n",
       "      <th>tweet_text</th>\n",
       "      <th>tweet_url</th>\n",
       "      <th>label</th>\n",
       "    </tr>\n",
       "  </thead>\n",
       "  <tbody>\n",
       "    <tr>\n",
       "      <th>0</th>\n",
       "      <td>'541099112477622275'</td>\n",
       "      <td>Sat Dec 06 05:17:36 +0000 2014</td>\n",
       "      <td>mousefide</td>\n",
       "      <td>2148420649</td>\n",
       "      <td>en</td>\n",
       "      <td>NaN</td>\n",
       "      <td>NaN</td>\n",
       "      <td>One year after Super Typhoon Haiyan devastated...</td>\n",
       "      <td>https://twitter.com/mousefide/status/541099112...</td>\n",
       "      <td>Not Informative</td>\n",
       "    </tr>\n",
       "    <tr>\n",
       "      <th>1</th>\n",
       "      <td>'541099151904083970'</td>\n",
       "      <td>Sat Dec 06 05:17:45 +0000 2014</td>\n",
       "      <td>Rich_893</td>\n",
       "      <td>46818339</td>\n",
       "      <td>en</td>\n",
       "      <td>NaN</td>\n",
       "      <td>NaN</td>\n",
       "      <td>@VOA_News -everybody needs to get their check ...</td>\n",
       "      <td>https://twitter.com/Rich_893/status/5410991519...</td>\n",
       "      <td>Requests for Help/Needs</td>\n",
       "    </tr>\n",
       "  </tbody>\n",
       "</table>\n",
       "</div>"
      ],
      "text/plain": [
       "               tweet_id                      tweet_time  tweet_author  \\\n",
       "0  '541099112477622275'  Sat Dec 06 05:17:36 +0000 2014     mousefide   \n",
       "1  '541099151904083970'  Sat Dec 06 05:17:45 +0000 2014      Rich_893   \n",
       "\n",
       "    tweet_author_id  tweet_language   tweet_lon   tweet_lat  \\\n",
       "0        2148420649              en         NaN         NaN   \n",
       "1          46818339              en         NaN         NaN   \n",
       "\n",
       "                                          tweet_text  \\\n",
       "0  One year after Super Typhoon Haiyan devastated...   \n",
       "1  @VOA_News -everybody needs to get their check ...   \n",
       "\n",
       "                                           tweet_url                    label  \n",
       "0  https://twitter.com/mousefide/status/541099112...          Not Informative  \n",
       "1  https://twitter.com/Rich_893/status/5410991519...  Requests for Help/Needs  "
      ]
     },
     "execution_count": 49,
     "metadata": {},
     "output_type": "execute_result"
    }
   ],
   "source": [
    "Philippines_Typhoon_Hagupit_2014_vol.head(2)"
   ]
  },
  {
   "cell_type": "code",
   "execution_count": 50,
   "metadata": {
    "id": "7cIS9SWKau38"
   },
   "outputs": [],
   "source": [
    "Cyclone_Pam_2015_vol = pd.read_csv(os.path.join(base_vol_data_dir, '2015_Cyclone_Pam_en/2015_Cyclone_Pam_en.csv'), engine='python')"
   ]
  },
  {
   "cell_type": "code",
   "execution_count": 51,
   "metadata": {
    "colab": {
     "base_uri": "https://localhost:8080/",
     "height": 615
    },
    "id": "G7GjZqpPa_IM",
    "outputId": "6b861597-0ffe-4246-fc67-f77524bca15c",
    "scrolled": true
   },
   "outputs": [
    {
     "data": {
      "text/html": [
       "<div>\n",
       "<style scoped>\n",
       "    .dataframe tbody tr th:only-of-type {\n",
       "        vertical-align: middle;\n",
       "    }\n",
       "\n",
       "    .dataframe tbody tr th {\n",
       "        vertical-align: top;\n",
       "    }\n",
       "\n",
       "    .dataframe thead th {\n",
       "        text-align: right;\n",
       "    }\n",
       "</style>\n",
       "<table border=\"1\" class=\"dataframe\">\n",
       "  <thead>\n",
       "    <tr style=\"text-align: right;\">\n",
       "      <th></th>\n",
       "      <th>tweet_id</th>\n",
       "      <th>tweet_time</th>\n",
       "      <th>tweet_author</th>\n",
       "      <th>tweet_author_id</th>\n",
       "      <th>tweet_language</th>\n",
       "      <th>tweet_lon</th>\n",
       "      <th>tweet_lat</th>\n",
       "      <th>tweet_text</th>\n",
       "      <th>tweet_url</th>\n",
       "      <th>label</th>\n",
       "    </tr>\n",
       "  </thead>\n",
       "  <tbody>\n",
       "    <tr>\n",
       "      <th>0</th>\n",
       "      <td>'575736037986578433'</td>\n",
       "      <td>Wed Mar 11 19:12:22 +0000 2015</td>\n",
       "      <td>wildtracking</td>\n",
       "      <td>3015918318</td>\n",
       "      <td>en</td>\n",
       "      <td>NaN</td>\n",
       "      <td>NaN</td>\n",
       "      <td>#TCNathan: our first ever tropical cyclone @my...</td>\n",
       "      <td>https://twitter.com/wildtracking/status/575736...</td>\n",
       "      <td>Other relevant information</td>\n",
       "    </tr>\n",
       "    <tr>\n",
       "      <th>1</th>\n",
       "      <td>'575736452413136897'</td>\n",
       "      <td>Wed Mar 11 19:14:01 +0000 2015</td>\n",
       "      <td>warwick_daily</td>\n",
       "      <td>21058876</td>\n",
       "      <td>en</td>\n",
       "      <td>NaN</td>\n",
       "      <td>NaN</td>\n",
       "      <td>Tropical Cyclone Nathan now a Category Two, wi...</td>\n",
       "      <td>https://twitter.com/warwick_daily/status/57573...</td>\n",
       "      <td>Caution and advice</td>\n",
       "    </tr>\n",
       "  </tbody>\n",
       "</table>\n",
       "</div>"
      ],
      "text/plain": [
       "               tweet_id                      tweet_time   tweet_author  \\\n",
       "0  '575736037986578433'  Wed Mar 11 19:12:22 +0000 2015   wildtracking   \n",
       "1  '575736452413136897'  Wed Mar 11 19:14:01 +0000 2015  warwick_daily   \n",
       "\n",
       "    tweet_author_id  tweet_language   tweet_lon   tweet_lat  \\\n",
       "0        3015918318              en         NaN         NaN   \n",
       "1          21058876              en         NaN         NaN   \n",
       "\n",
       "                                          tweet_text  \\\n",
       "0  #TCNathan: our first ever tropical cyclone @my...   \n",
       "1  Tropical Cyclone Nathan now a Category Two, wi...   \n",
       "\n",
       "                                           tweet_url  \\\n",
       "0  https://twitter.com/wildtracking/status/575736...   \n",
       "1  https://twitter.com/warwick_daily/status/57573...   \n",
       "\n",
       "                        label  \n",
       "0  Other relevant information  \n",
       "1          Caution and advice  "
      ]
     },
     "execution_count": 51,
     "metadata": {},
     "output_type": "execute_result"
    }
   ],
   "source": [
    "Cyclone_Pam_2015_vol.head(2)"
   ]
  },
  {
   "cell_type": "code",
   "execution_count": 52,
   "metadata": {
    "id": "QExaAUuPbCZQ"
   },
   "outputs": [],
   "source": [
    "Nepal_Earthquake_2015_vol = pd.read_csv(os.path.join(base_vol_data_dir, '2015_Nepal_Earthquake_en/2015_Nepal_Earthquake_en.csv'), engine='python')"
   ]
  },
  {
   "cell_type": "code",
   "execution_count": 53,
   "metadata": {
    "colab": {
     "base_uri": "https://localhost:8080/",
     "height": 530
    },
    "id": "UmtaflQVbaJd",
    "outputId": "d3b9abd2-bcd3-471a-c1ec-8f2ef977990a",
    "scrolled": true
   },
   "outputs": [
    {
     "data": {
      "text/html": [
       "<div>\n",
       "<style scoped>\n",
       "    .dataframe tbody tr th:only-of-type {\n",
       "        vertical-align: middle;\n",
       "    }\n",
       "\n",
       "    .dataframe tbody tr th {\n",
       "        vertical-align: top;\n",
       "    }\n",
       "\n",
       "    .dataframe thead th {\n",
       "        text-align: right;\n",
       "    }\n",
       "</style>\n",
       "<table border=\"1\" class=\"dataframe\">\n",
       "  <thead>\n",
       "    <tr style=\"text-align: right;\">\n",
       "      <th></th>\n",
       "      <th>tweet_id</th>\n",
       "      <th>tweet_time</th>\n",
       "      <th>tweet_author</th>\n",
       "      <th>tweet_author_id</th>\n",
       "      <th>tweet_language</th>\n",
       "      <th>tweet_lon</th>\n",
       "      <th>tweet_lat</th>\n",
       "      <th>tweet_text</th>\n",
       "      <th>tweet_url</th>\n",
       "      <th>label</th>\n",
       "    </tr>\n",
       "  </thead>\n",
       "  <tbody>\n",
       "    <tr>\n",
       "      <th>0</th>\n",
       "      <td>'591903085670215681'</td>\n",
       "      <td>Sat Apr 25 09:54:27 +0000 2015</td>\n",
       "      <td>Faali19</td>\n",
       "      <td>2387302745</td>\n",
       "      <td>en</td>\n",
       "      <td>73.547794</td>\n",
       "      <td>32.392816</td>\n",
       "      <td>Dua's for all those affected by the earthquake...</td>\n",
       "      <td>https://twitter.com/Faali19/status/59190308567...</td>\n",
       "      <td>Sympathy and emotional support</td>\n",
       "    </tr>\n",
       "    <tr>\n",
       "      <th>1</th>\n",
       "      <td>'591903104276234242'</td>\n",
       "      <td>Sat Apr 25 09:54:31 +0000 2015</td>\n",
       "      <td>STERLINGMHOLMES</td>\n",
       "      <td>153876973</td>\n",
       "      <td>en</td>\n",
       "      <td>NaN</td>\n",
       "      <td>NaN</td>\n",
       "      <td>itvnews: Witness to Nepal #earthquake tells it...</td>\n",
       "      <td>https://twitter.com/STERLINGMHOLMES/status/591...</td>\n",
       "      <td>Other relevant information</td>\n",
       "    </tr>\n",
       "  </tbody>\n",
       "</table>\n",
       "</div>"
      ],
      "text/plain": [
       "               tweet_id                      tweet_time     tweet_author  \\\n",
       "0  '591903085670215681'  Sat Apr 25 09:54:27 +0000 2015          Faali19   \n",
       "1  '591903104276234242'  Sat Apr 25 09:54:31 +0000 2015  STERLINGMHOLMES   \n",
       "\n",
       "    tweet_author_id  tweet_language   tweet_lon   tweet_lat  \\\n",
       "0        2387302745              en   73.547794   32.392816   \n",
       "1         153876973              en         NaN         NaN   \n",
       "\n",
       "                                          tweet_text  \\\n",
       "0  Dua's for all those affected by the earthquake...   \n",
       "1  itvnews: Witness to Nepal #earthquake tells it...   \n",
       "\n",
       "                                           tweet_url  \\\n",
       "0  https://twitter.com/Faali19/status/59190308567...   \n",
       "1  https://twitter.com/STERLINGMHOLMES/status/591...   \n",
       "\n",
       "                            label  \n",
       "0  Sympathy and emotional support  \n",
       "1      Other relevant information  "
      ]
     },
     "execution_count": 53,
     "metadata": {},
     "output_type": "execute_result"
    }
   ],
   "source": [
    "Nepal_Earthquake_2015_vol.head(2)"
   ]
  },
  {
   "cell_type": "code",
   "execution_count": 54,
   "metadata": {},
   "outputs": [],
   "source": [
    "California_Earthquake_2014_vol = California_Earthquake_2014_vol[cols_required_vol]\n",
    "Chile_Earthquake_2014_vol = Chile_Earthquake_2014_vol[cols_required_vol]\n",
    "Hurricane_Odile_Mexico_2014_vol = Hurricane_Odile_Mexico_2014_vol[cols_required_vol]\n",
    "Iceland_Volcano_2014_vol = Iceland_Volcano_2014_vol[cols_required_vol] \n",
    "Philippines_Typhoon_Hagupit_2014_vol = Philippines_Typhoon_Hagupit_2014_vol[cols_required_vol]\n",
    "Cyclone_Pam_2015_vol = Cyclone_Pam_2015_vol[cols_required_vol]\n",
    "Nepal_Earthquake_2015_vol = Nepal_Earthquake_2015_vol[cols_required_vol]\n",
    "\n",
    "# Chile_Earthquake_2014_cl_vol = Chile_Earthquake_2014_cl_vol[['tweet_id', 'Translated Tweet', 'label']]"
   ]
  },
  {
   "cell_type": "code",
   "execution_count": 55,
   "metadata": {},
   "outputs": [
    {
     "data": {
      "text/html": [
       "<div>\n",
       "<style scoped>\n",
       "    .dataframe tbody tr th:only-of-type {\n",
       "        vertical-align: middle;\n",
       "    }\n",
       "\n",
       "    .dataframe tbody tr th {\n",
       "        vertical-align: top;\n",
       "    }\n",
       "\n",
       "    .dataframe thead th {\n",
       "        text-align: right;\n",
       "    }\n",
       "</style>\n",
       "<table border=\"1\" class=\"dataframe\">\n",
       "  <thead>\n",
       "    <tr style=\"text-align: right;\">\n",
       "      <th></th>\n",
       "      <th>tweet_id</th>\n",
       "      <th>tweet_text</th>\n",
       "      <th>label</th>\n",
       "    </tr>\n",
       "  </thead>\n",
       "  <tbody>\n",
       "    <tr>\n",
       "      <th>0</th>\n",
       "      <td>'575736037986578433'</td>\n",
       "      <td>#TCNathan: our first ever tropical cyclone @my...</td>\n",
       "      <td>Other relevant information</td>\n",
       "    </tr>\n",
       "    <tr>\n",
       "      <th>1</th>\n",
       "      <td>'575736452413136897'</td>\n",
       "      <td>Tropical Cyclone Nathan now a Category Two, wi...</td>\n",
       "      <td>Caution and advice</td>\n",
       "    </tr>\n",
       "  </tbody>\n",
       "</table>\n",
       "</div>"
      ],
      "text/plain": [
       "               tweet_id                                         tweet_text  \\\n",
       "0  '575736037986578433'  #TCNathan: our first ever tropical cyclone @my...   \n",
       "1  '575736452413136897'  Tropical Cyclone Nathan now a Category Two, wi...   \n",
       "\n",
       "                        label  \n",
       "0  Other relevant information  \n",
       "1          Caution and advice  "
      ]
     },
     "execution_count": 55,
     "metadata": {},
     "output_type": "execute_result"
    }
   ],
   "source": [
    "Cyclone_Pam_2015_vol.head(2)"
   ]
  },
  {
   "cell_type": "code",
   "execution_count": 56,
   "metadata": {
    "scrolled": true
   },
   "outputs": [],
   "source": [
    "# Chile_Earthquake_2014_cl_vol.head(2)"
   ]
  },
  {
   "cell_type": "code",
   "execution_count": 57,
   "metadata": {},
   "outputs": [],
   "source": [
    "# Chile_Earthquake_2014_cl_vol = Chile_Earthquake_2014_cl_vol.rename(columns={\n",
    "#     'Translated Tweet' : ' tweet_text'\n",
    "# })"
   ]
  },
  {
   "cell_type": "code",
   "execution_count": 58,
   "metadata": {},
   "outputs": [],
   "source": [
    "crisisnlp_volunteers = pd.concat([\n",
    "    California_Earthquake_2014_vol,\n",
    "    Chile_Earthquake_2014_vol,\n",
    "    Hurricane_Odile_Mexico_2014_vol,\n",
    "    Iceland_Volcano_2014_vol,\n",
    "    Philippines_Typhoon_Hagupit_2014_vol,\n",
    "    Cyclone_Pam_2015_vol,\n",
    "    Nepal_Earthquake_2015_vol,\n",
    "#     Chile_Earthquake_2014_cl_vol \n",
    "])"
   ]
  },
  {
   "cell_type": "code",
   "execution_count": 59,
   "metadata": {},
   "outputs": [
    {
     "data": {
      "text/html": [
       "<div>\n",
       "<style scoped>\n",
       "    .dataframe tbody tr th:only-of-type {\n",
       "        vertical-align: middle;\n",
       "    }\n",
       "\n",
       "    .dataframe tbody tr th {\n",
       "        vertical-align: top;\n",
       "    }\n",
       "\n",
       "    .dataframe thead th {\n",
       "        text-align: right;\n",
       "    }\n",
       "</style>\n",
       "<table border=\"1\" class=\"dataframe\">\n",
       "  <thead>\n",
       "    <tr style=\"text-align: right;\">\n",
       "      <th></th>\n",
       "      <th>tweet_id</th>\n",
       "      <th>tweet_text</th>\n",
       "      <th>label</th>\n",
       "    </tr>\n",
       "  </thead>\n",
       "  <tbody>\n",
       "    <tr>\n",
       "      <th>0</th>\n",
       "      <td>'503866345822244864'</td>\n",
       "      <td>�_ USA 592 Earthquake Earthquake rattles, does...</td>\n",
       "      <td>Infrastructure and utilities</td>\n",
       "    </tr>\n",
       "    <tr>\n",
       "      <th>1</th>\n",
       "      <td>'503866373961809920'</td>\n",
       "      <td>�ۢ �ۢ Earthquake #Earthquake California Earthq...</td>\n",
       "      <td>Other relevant information</td>\n",
       "    </tr>\n",
       "    <tr>\n",
       "      <th>2</th>\n",
       "      <td>'503866427322159104'</td>\n",
       "      <td>WCVB Boston: California quake: Recovering afte...</td>\n",
       "      <td>Other relevant information</td>\n",
       "    </tr>\n",
       "    <tr>\n",
       "      <th>3</th>\n",
       "      <td>'503866453280317440'</td>\n",
       "      <td>I don't know. CALIFORNIA. if u had a winery th...</td>\n",
       "      <td>Not related or irrelevant</td>\n",
       "    </tr>\n",
       "    <tr>\n",
       "      <th>4</th>\n",
       "      <td>'503866484461170688'</td>\n",
       "      <td>NOW: Possible #Timmies, #BurgerKing merger, #O...</td>\n",
       "      <td>Not related or irrelevant</td>\n",
       "    </tr>\n",
       "  </tbody>\n",
       "</table>\n",
       "</div>"
      ],
      "text/plain": [
       "               tweet_id                                         tweet_text  \\\n",
       "0  '503866345822244864'  �_ USA 592 Earthquake Earthquake rattles, does...   \n",
       "1  '503866373961809920'  �ۢ �ۢ Earthquake #Earthquake California Earthq...   \n",
       "2  '503866427322159104'  WCVB Boston: California quake: Recovering afte...   \n",
       "3  '503866453280317440'  I don't know. CALIFORNIA. if u had a winery th...   \n",
       "4  '503866484461170688'  NOW: Possible #Timmies, #BurgerKing merger, #O...   \n",
       "\n",
       "                          label  \n",
       "0  Infrastructure and utilities  \n",
       "1    Other relevant information  \n",
       "2    Other relevant information  \n",
       "3     Not related or irrelevant  \n",
       "4     Not related or irrelevant  "
      ]
     },
     "execution_count": 59,
     "metadata": {},
     "output_type": "execute_result"
    }
   ],
   "source": [
    "crisisnlp_volunteers.head()"
   ]
  },
  {
   "cell_type": "code",
   "execution_count": 60,
   "metadata": {},
   "outputs": [
    {
     "data": {
      "text/plain": [
       "Index(['tweet_id', ' tweet_text', 'label'], dtype='object')"
      ]
     },
     "execution_count": 60,
     "metadata": {},
     "output_type": "execute_result"
    }
   ],
   "source": [
    "crisisnlp_volunteers.columns"
   ]
  },
  {
   "cell_type": "code",
   "execution_count": 61,
   "metadata": {},
   "outputs": [
    {
     "data": {
      "text/plain": [
       "(20968, 3)"
      ]
     },
     "execution_count": 61,
     "metadata": {},
     "output_type": "execute_result"
    }
   ],
   "source": [
    "crisisnlp_volunteers.shape"
   ]
  },
  {
   "cell_type": "code",
   "execution_count": 62,
   "metadata": {},
   "outputs": [],
   "source": [
    "crisisnlp_volunteers = crisisnlp_volunteers.rename(columns={\n",
    "    'tweet_id': 'ID',\n",
    "    ' tweet_text': 'Tweet',\n",
    "    'label': 'Label'\n",
    "})"
   ]
  },
  {
   "cell_type": "code",
   "execution_count": 63,
   "metadata": {},
   "outputs": [
    {
     "data": {
      "text/html": [
       "<div>\n",
       "<style scoped>\n",
       "    .dataframe tbody tr th:only-of-type {\n",
       "        vertical-align: middle;\n",
       "    }\n",
       "\n",
       "    .dataframe tbody tr th {\n",
       "        vertical-align: top;\n",
       "    }\n",
       "\n",
       "    .dataframe thead th {\n",
       "        text-align: right;\n",
       "    }\n",
       "</style>\n",
       "<table border=\"1\" class=\"dataframe\">\n",
       "  <thead>\n",
       "    <tr style=\"text-align: right;\">\n",
       "      <th></th>\n",
       "      <th>ID</th>\n",
       "      <th>Tweet</th>\n",
       "      <th>Label</th>\n",
       "    </tr>\n",
       "  </thead>\n",
       "  <tbody>\n",
       "    <tr>\n",
       "      <th>0</th>\n",
       "      <td>'503866345822244864'</td>\n",
       "      <td>�_ USA 592 Earthquake Earthquake rattles, does...</td>\n",
       "      <td>Infrastructure and utilities</td>\n",
       "    </tr>\n",
       "    <tr>\n",
       "      <th>1</th>\n",
       "      <td>'503866373961809920'</td>\n",
       "      <td>�ۢ �ۢ Earthquake #Earthquake California Earthq...</td>\n",
       "      <td>Other relevant information</td>\n",
       "    </tr>\n",
       "    <tr>\n",
       "      <th>2</th>\n",
       "      <td>'503866427322159104'</td>\n",
       "      <td>WCVB Boston: California quake: Recovering afte...</td>\n",
       "      <td>Other relevant information</td>\n",
       "    </tr>\n",
       "    <tr>\n",
       "      <th>3</th>\n",
       "      <td>'503866453280317440'</td>\n",
       "      <td>I don't know. CALIFORNIA. if u had a winery th...</td>\n",
       "      <td>Not related or irrelevant</td>\n",
       "    </tr>\n",
       "    <tr>\n",
       "      <th>4</th>\n",
       "      <td>'503866484461170688'</td>\n",
       "      <td>NOW: Possible #Timmies, #BurgerKing merger, #O...</td>\n",
       "      <td>Not related or irrelevant</td>\n",
       "    </tr>\n",
       "  </tbody>\n",
       "</table>\n",
       "</div>"
      ],
      "text/plain": [
       "                     ID                                              Tweet  \\\n",
       "0  '503866345822244864'  �_ USA 592 Earthquake Earthquake rattles, does...   \n",
       "1  '503866373961809920'  �ۢ �ۢ Earthquake #Earthquake California Earthq...   \n",
       "2  '503866427322159104'  WCVB Boston: California quake: Recovering afte...   \n",
       "3  '503866453280317440'  I don't know. CALIFORNIA. if u had a winery th...   \n",
       "4  '503866484461170688'  NOW: Possible #Timmies, #BurgerKing merger, #O...   \n",
       "\n",
       "                          Label  \n",
       "0  Infrastructure and utilities  \n",
       "1    Other relevant information  \n",
       "2    Other relevant information  \n",
       "3     Not related or irrelevant  \n",
       "4     Not related or irrelevant  "
      ]
     },
     "execution_count": 63,
     "metadata": {},
     "output_type": "execute_result"
    }
   ],
   "source": [
    "crisisnlp_volunteers.head()"
   ]
  },
  {
   "cell_type": "code",
   "execution_count": 64,
   "metadata": {},
   "outputs": [
    {
     "data": {
      "text/plain": [
       "Not Informative                        6742\n",
       "Not Relevant                           6279\n",
       "Other Relevant Information             2906\n",
       "Response Efforts                        994\n",
       "Other relevant information              556\n",
       "Sympathy and emotional support          545\n",
       "Not related or irrelevant               477\n",
       "Infrastructure Damage                   426\n",
       "Humanitarian Aid Provided               323\n",
       "Not related to crisis                   222\n",
       "Other useful information                214\n",
       "Caution and advice                      190\n",
       "Informative                             161\n",
       "Infrastructure and utilities            148\n",
       "Injured or dead people                  115\n",
       "Urgent Needs                            108\n",
       "Volunteer or professional services       76\n",
       "Requests for Help/Needs                  71\n",
       "Personal updates, sympathy, support      66\n",
       "Money                                    63\n",
       "Injured and dead                         61\n",
       "Missing, trapped, or found people        59\n",
       "Personal updates                         50\n",
       "Not informative                          32\n",
       "Displaced people                         29\n",
       "Shelter and supplies                     25\n",
       "Infrastructure                           17\n",
       "Infrastructure damage                     3\n",
       "Other relevant                            2\n",
       "Donations of money                        2\n",
       "Response efforts                          2\n",
       "Needs of those affected                   1\n",
       "Animal management                         1\n",
       "Not relevant                              1\n",
       "Non-government                            1\n",
       "Name: Label, dtype: int64"
      ]
     },
     "execution_count": 64,
     "metadata": {},
     "output_type": "execute_result"
    }
   ],
   "source": [
    "crisisnlp_volunteers['Label'].value_counts()"
   ]
  },
  {
   "cell_type": "code",
   "execution_count": 65,
   "metadata": {},
   "outputs": [],
   "source": [
    "import matplotlib.pyplot as plt\n",
    "%matplotlib inline"
   ]
  },
  {
   "cell_type": "code",
   "execution_count": 66,
   "metadata": {},
   "outputs": [
    {
     "data": {
      "text/plain": [
       "<AxesSubplot:>"
      ]
     },
     "execution_count": 66,
     "metadata": {},
     "output_type": "execute_result"
    },
    {
     "data": {
      "image/png": "[encoded data removed]",
      "text/plain": [
       "<Figure size 576x864 with 1 Axes>"
      ]
     },
     "metadata": {
      "needs_background": "light"
     },
     "output_type": "display_data"
    }
   ],
   "source": [
    "fig = plt.figure(figsize=(8,12))\n",
    "ax = fig.gca()\n",
    "\n",
    "crisisnlp_volunteers['Label'].value_counts(ascending=True).plot(kind=\"barh\",ax=ax)"
   ]
  },
  {
   "cell_type": "markdown",
   "metadata": {},
   "source": [
    "### **Load CrisisLex T26 datasets**"
   ]
  },
  {
   "cell_type": "code",
   "execution_count": 67,
   "metadata": {
    "id": "rK0hauJYcHWI"
   },
   "outputs": [],
   "source": [
    "crisislex_base_dir = 'C:/Users/Kelvin Chumbe/Downloads/Datasets/Capstone_Twitter Modelling Datasets/CrisisLexT26-v1.0/CrisisLexT26/'"
   ]
  },
  {
   "cell_type": "code",
   "execution_count": 68,
   "metadata": {},
   "outputs": [],
   "source": [
    "crisislex_dirs = os.listdir(crisislex_base_dir)"
   ]
  },
  {
   "cell_type": "code",
   "execution_count": 69,
   "metadata": {},
   "outputs": [],
   "source": [
    "crisislex_dirs.remove('.DS_Store')\n",
    "crisislex_dirs.remove('README.md')"
   ]
  },
  {
   "cell_type": "code",
   "execution_count": 70,
   "metadata": {},
   "outputs": [
    {
     "data": {
      "text/plain": [
       "['2012_Colorado_wildfires',\n",
       " '2012_Costa_Rica_earthquake',\n",
       " '2012_Guatemala_earthquake',\n",
       " '2012_Italy_earthquakes',\n",
       " '2012_Philipinnes_floods',\n",
       " '2012_Typhoon_Pablo',\n",
       " '2012_Venezuela_refinery',\n",
       " '2013_Alberta_floods',\n",
       " '2013_Australia_bushfire',\n",
       " '2013_Bohol_earthquake',\n",
       " '2013_Boston_bombings',\n",
       " '2013_Brazil_nightclub_fire',\n",
       " '2013_Colorado_floods',\n",
       " '2013_Glasgow_helicopter_crash',\n",
       " '2013_Lac_Megantic_train_crash',\n",
       " '2013_LA_airport_shootings',\n",
       " '2013_Manila_floods',\n",
       " '2013_NY_train_crash',\n",
       " '2013_Queensland_floods',\n",
       " '2013_Russia_meteor',\n",
       " '2013_Sardinia_floods',\n",
       " '2013_Savar_building_collapse',\n",
       " '2013_Singapore_haze',\n",
       " '2013_Spain_train_crash',\n",
       " '2013_Typhoon_Yolanda',\n",
       " '2013_West_Texas_explosion']"
      ]
     },
     "execution_count": 70,
     "metadata": {},
     "output_type": "execute_result"
    }
   ],
   "source": [
    "crisislex_dirs"
   ]
  },
  {
   "cell_type": "code",
   "execution_count": 71,
   "metadata": {},
   "outputs": [],
   "source": [
    "crisislex_datasets = {}\n",
    "\n",
    "for dir_name in crisislex_dirs:\n",
    "    file = dir_name + \"/\" + dir_name + \"_TRANSLATED.csv\"\n",
    "    file_path = os.path.join(crisislex_base_dir, file)\n",
    "    crisislex_datasets[dir_name] = pd.read_csv(file_path)"
   ]
  },
  {
   "cell_type": "code",
   "execution_count": 72,
   "metadata": {},
   "outputs": [
    {
     "data": {
      "text/plain": [
       "dict_keys(['2012_Colorado_wildfires', '2012_Costa_Rica_earthquake', '2012_Guatemala_earthquake', '2012_Italy_earthquakes', '2012_Philipinnes_floods', '2012_Typhoon_Pablo', '2012_Venezuela_refinery', '2013_Alberta_floods', '2013_Australia_bushfire', '2013_Bohol_earthquake', '2013_Boston_bombings', '2013_Brazil_nightclub_fire', '2013_Colorado_floods', '2013_Glasgow_helicopter_crash', '2013_Lac_Megantic_train_crash', '2013_LA_airport_shootings', '2013_Manila_floods', '2013_NY_train_crash', '2013_Queensland_floods', '2013_Russia_meteor', '2013_Sardinia_floods', '2013_Savar_building_collapse', '2013_Singapore_haze', '2013_Spain_train_crash', '2013_Typhoon_Yolanda', '2013_West_Texas_explosion'])"
      ]
     },
     "execution_count": 72,
     "metadata": {},
     "output_type": "execute_result"
    }
   ],
   "source": [
    "crisislex_datasets.keys()"
   ]
  },
  {
   "cell_type": "code",
   "execution_count": 73,
   "metadata": {
    "scrolled": true
   },
   "outputs": [],
   "source": [
    "Colorado_wildfires_2012 = crisislex_datasets['2012_Colorado_wildfires']\n",
    "Costa_Rica_earthquake_2012 = crisislex_datasets['2012_Costa_Rica_earthquake']\n",
    "Guatemala_earthquake_2012 = crisislex_datasets['2012_Guatemala_earthquake']\n",
    "Italy_earthquakes_2012 = crisislex_datasets['2012_Italy_earthquakes']\n",
    "Philipinnes_floods_2012 = crisislex_datasets['2012_Philipinnes_floods']\n",
    "Typhoon_Pablo_2012 = crisislex_datasets['2012_Typhoon_Pablo']\n",
    "Venezuela_refinery_2012 = crisislex_datasets['2012_Venezuela_refinery']\n",
    "Alberta_floods_2013 = crisislex_datasets['2013_Alberta_floods']\n",
    "Australia_bushfire_2013 = crisislex_datasets['2013_Australia_bushfire']\n",
    "Bohol_earthquake_2013 = crisislex_datasets['2013_Bohol_earthquake']\n",
    "Boston_bombings_2013 = crisislex_datasets['2013_Boston_bombings']\n",
    "Brazil_nightclub_fire_2013 = crisislex_datasets['2013_Brazil_nightclub_fire']\n",
    "Colorado_floods_2013 = crisislex_datasets['2013_Colorado_floods']\n",
    "Glasgow_helicopter_crash_2013 = crisislex_datasets['2013_Glasgow_helicopter_crash']\n",
    "Lac_Megantic_train_crash_2013 = crisislex_datasets['2013_Lac_Megantic_train_crash']\n",
    "LA_airport_shootings_2013 = crisislex_datasets['2013_LA_airport_shootings']\n",
    "Manila_floods_2013 = crisislex_datasets['2013_Manila_floods']\n",
    "NY_train_crash_2013 = crisislex_datasets['2013_NY_train_crash']\n",
    "Queensland_floods_2013 = crisislex_datasets['2013_Queensland_floods']\n",
    "Russia_meteor_2013 = crisislex_datasets['2013_Russia_meteor']\n",
    "Sardinia_floods_2013 = crisislex_datasets['2013_Sardinia_floods']\n",
    "Savar_building_collapse_2013 = crisislex_datasets['2013_Savar_building_collapse']\n",
    "Singapore_haze_2013 = crisislex_datasets['2013_Singapore_haze']\n",
    "Spain_train_crash_2013 = crisislex_datasets['2013_Spain_train_crash']\n",
    "Typhoon_Yolanda_2013 = crisislex_datasets['2013_Typhoon_Yolanda']\n",
    "West_Texas_explosion_2013 = crisislex_datasets['2013_West_Texas_explosion']"
   ]
  },
  {
   "cell_type": "code",
   "execution_count": 74,
   "metadata": {
    "scrolled": true
   },
   "outputs": [
    {
     "data": {
      "text/html": [
       "<div>\n",
       "<style scoped>\n",
       "    .dataframe tbody tr th:only-of-type {\n",
       "        vertical-align: middle;\n",
       "    }\n",
       "\n",
       "    .dataframe tbody tr th {\n",
       "        vertical-align: top;\n",
       "    }\n",
       "\n",
       "    .dataframe thead th {\n",
       "        text-align: right;\n",
       "    }\n",
       "</style>\n",
       "<table border=\"1\" class=\"dataframe\">\n",
       "  <thead>\n",
       "    <tr style=\"text-align: right;\">\n",
       "      <th></th>\n",
       "      <th>Tweet ID</th>\n",
       "      <th>Tweet Text</th>\n",
       "      <th>Information Source</th>\n",
       "      <th>Information Type</th>\n",
       "      <th>Informativeness</th>\n",
       "      <th>Lang</th>\n",
       "    </tr>\n",
       "  </thead>\n",
       "  <tbody>\n",
       "    <tr>\n",
       "      <th>0</th>\n",
       "      <td>2.110407e+17</td>\n",
       "      <td>#Intern #US #TATTOO #Wisconsin #Ohio #NC #PA #...</td>\n",
       "      <td>Not labeled</td>\n",
       "      <td>Not labeled</td>\n",
       "      <td>Not related</td>\n",
       "      <td>en</td>\n",
       "    </tr>\n",
       "    <tr>\n",
       "      <th>1</th>\n",
       "      <td>2.111117e+17</td>\n",
       "      <td>RT @Jack4Ward: Get in on the fun every Thursda...</td>\n",
       "      <td>Not labeled</td>\n",
       "      <td>Not labeled</td>\n",
       "      <td>Not related</td>\n",
       "      <td>en</td>\n",
       "    </tr>\n",
       "  </tbody>\n",
       "</table>\n",
       "</div>"
      ],
      "text/plain": [
       "       Tweet ID                                         Tweet Text  \\\n",
       "0  2.110407e+17  #Intern #US #TATTOO #Wisconsin #Ohio #NC #PA #...   \n",
       "1  2.111117e+17  RT @Jack4Ward: Get in on the fun every Thursda...   \n",
       "\n",
       "  Information Source Information Type Informativeness Lang  \n",
       "0        Not labeled      Not labeled     Not related   en  \n",
       "1        Not labeled      Not labeled     Not related   en  "
      ]
     },
     "execution_count": 74,
     "metadata": {},
     "output_type": "execute_result"
    }
   ],
   "source": [
    "Colorado_wildfires_2012.head(2)"
   ]
  },
  {
   "cell_type": "code",
   "execution_count": 75,
   "metadata": {},
   "outputs": [],
   "source": [
    "cols_required_crisislex = ['Tweet ID', 'Translated Tweet', 'Information Type']"
   ]
  },
  {
   "cell_type": "code",
   "execution_count": 76,
   "metadata": {},
   "outputs": [],
   "source": [
    "Colorado_wildfires_2012 = Colorado_wildfires_2012[['Tweet ID', 'Tweet Text', 'Information Type']]\n",
    "Costa_Rica_earthquake_2012 = Costa_Rica_earthquake_2012[cols_required_crisislex]\n",
    "Guatemala_earthquake_2012 = Guatemala_earthquake_2012[cols_required_crisislex]\n",
    "Italy_earthquakes_2012 = Italy_earthquakes_2012[cols_required_crisislex]\n",
    "Philipinnes_floods_2012 = Philipinnes_floods_2012[cols_required_crisislex]\n",
    "Typhoon_Pablo_2012 = Typhoon_Pablo_2012[cols_required_crisislex]\n",
    "Venezuela_refinery_2012 = Venezuela_refinery_2012[cols_required_crisislex]\n",
    "Alberta_floods_2013 = Alberta_floods_2013[cols_required_crisislex]\n",
    "Australia_bushfire_2013 = Australia_bushfire_2013[cols_required_crisislex]\n",
    "Bohol_earthquake_2013 = Bohol_earthquake_2013[cols_required_crisislex]\n",
    "Boston_bombings_2013 = Boston_bombings_2013[cols_required_crisislex]\n",
    "Brazil_nightclub_fire_2013 = Brazil_nightclub_fire_2013[cols_required_crisislex]\n",
    "Colorado_floods_2013 = Colorado_floods_2013[cols_required_crisislex]\n",
    "Glasgow_helicopter_crash_2013 = Glasgow_helicopter_crash_2013[cols_required_crisislex]\n",
    "Lac_Megantic_train_crash_2013 = Lac_Megantic_train_crash_2013[cols_required_crisislex]\n",
    "LA_airport_shootings_2013 = LA_airport_shootings_2013[cols_required_crisislex]\n",
    "Manila_floods_2013 = Manila_floods_2013[cols_required_crisislex]\n",
    "NY_train_crash_2013 = NY_train_crash_2013[cols_required_crisislex]\n",
    "Queensland_floods_2013 = Queensland_floods_2013[cols_required_crisislex]\n",
    "Russia_meteor_2013 = Russia_meteor_2013[cols_required_crisislex]\n",
    "Sardinia_floods_2013 = Sardinia_floods_2013[cols_required_crisislex]\n",
    "Savar_building_collapse_2013 = Savar_building_collapse_2013[cols_required_crisislex]\n",
    "Singapore_haze_2013 = Singapore_haze_2013[cols_required_crisislex]\n",
    "Spain_train_crash_2013 = Spain_train_crash_2013[cols_required_crisislex]\n",
    "Typhoon_Yolanda_2013 = Typhoon_Yolanda_2013[cols_required_crisislex]\n",
    "West_Texas_explosion_2013 = West_Texas_explosion_2013[cols_required_crisislex]"
   ]
  },
  {
   "cell_type": "code",
   "execution_count": 77,
   "metadata": {},
   "outputs": [
    {
     "data": {
      "text/html": [
       "<div>\n",
       "<style scoped>\n",
       "    .dataframe tbody tr th:only-of-type {\n",
       "        vertical-align: middle;\n",
       "    }\n",
       "\n",
       "    .dataframe tbody tr th {\n",
       "        vertical-align: top;\n",
       "    }\n",
       "\n",
       "    .dataframe thead th {\n",
       "        text-align: right;\n",
       "    }\n",
       "</style>\n",
       "<table border=\"1\" class=\"dataframe\">\n",
       "  <thead>\n",
       "    <tr style=\"text-align: right;\">\n",
       "      <th></th>\n",
       "      <th>Tweet ID</th>\n",
       "      <th>Tweet Text</th>\n",
       "      <th>Information Type</th>\n",
       "    </tr>\n",
       "  </thead>\n",
       "  <tbody>\n",
       "    <tr>\n",
       "      <th>0</th>\n",
       "      <td>2.110407e+17</td>\n",
       "      <td>#Intern #US #TATTOO #Wisconsin #Ohio #NC #PA #...</td>\n",
       "      <td>Not labeled</td>\n",
       "    </tr>\n",
       "    <tr>\n",
       "      <th>1</th>\n",
       "      <td>2.111117e+17</td>\n",
       "      <td>RT @Jack4Ward: Get in on the fun every Thursda...</td>\n",
       "      <td>Not labeled</td>\n",
       "    </tr>\n",
       "  </tbody>\n",
       "</table>\n",
       "</div>"
      ],
      "text/plain": [
       "       Tweet ID                                         Tweet Text  \\\n",
       "0  2.110407e+17  #Intern #US #TATTOO #Wisconsin #Ohio #NC #PA #...   \n",
       "1  2.111117e+17  RT @Jack4Ward: Get in on the fun every Thursda...   \n",
       "\n",
       "  Information Type  \n",
       "0      Not labeled  \n",
       "1      Not labeled  "
      ]
     },
     "execution_count": 77,
     "metadata": {},
     "output_type": "execute_result"
    }
   ],
   "source": [
    "Colorado_wildfires_2012.head(2)"
   ]
  },
  {
   "cell_type": "code",
   "execution_count": 78,
   "metadata": {},
   "outputs": [
    {
     "data": {
      "text/html": [
       "<div>\n",
       "<style scoped>\n",
       "    .dataframe tbody tr th:only-of-type {\n",
       "        vertical-align: middle;\n",
       "    }\n",
       "\n",
       "    .dataframe tbody tr th {\n",
       "        vertical-align: top;\n",
       "    }\n",
       "\n",
       "    .dataframe thead th {\n",
       "        text-align: right;\n",
       "    }\n",
       "</style>\n",
       "<table border=\"1\" class=\"dataframe\">\n",
       "  <thead>\n",
       "    <tr style=\"text-align: right;\">\n",
       "      <th></th>\n",
       "      <th>Tweet ID</th>\n",
       "      <th>Translated Tweet</th>\n",
       "      <th>Information Type</th>\n",
       "    </tr>\n",
       "  </thead>\n",
       "  <tbody>\n",
       "    <tr>\n",
       "      <th>0</th>\n",
       "      <td>3.534173e+17</td>\n",
       "      <td>RT @mdumais: Lac-Mégantic: the first videos ci...</td>\n",
       "      <td>Other Useful Information</td>\n",
       "    </tr>\n",
       "    <tr>\n",
       "      <th>1</th>\n",
       "      <td>3.534312e+17</td>\n",
       "      <td>Scene of Apocalypse in Lac-Mégantic: a new vid...</td>\n",
       "      <td>Other Useful Information</td>\n",
       "    </tr>\n",
       "  </tbody>\n",
       "</table>\n",
       "</div>"
      ],
      "text/plain": [
       "       Tweet ID                                   Translated Tweet  \\\n",
       "0  3.534173e+17  RT @mdumais: Lac-Mégantic: the first videos ci...   \n",
       "1  3.534312e+17  Scene of Apocalypse in Lac-Mégantic: a new vid...   \n",
       "\n",
       "           Information Type  \n",
       "0  Other Useful Information  \n",
       "1  Other Useful Information  "
      ]
     },
     "execution_count": 78,
     "metadata": {},
     "output_type": "execute_result"
    }
   ],
   "source": [
    "Lac_Megantic_train_crash_2013.head(2)"
   ]
  },
  {
   "cell_type": "code",
   "execution_count": 79,
   "metadata": {},
   "outputs": [],
   "source": [
    "Colorado_wildfires_2012 = Colorado_wildfires_2012.rename(columns={\n",
    "    'Tweet Text': 'Translated Tweet'\n",
    "})"
   ]
  },
  {
   "cell_type": "code",
   "execution_count": 80,
   "metadata": {},
   "outputs": [],
   "source": [
    "crisislex26 = pd.concat([\n",
    "    Colorado_wildfires_2012,\n",
    "    Costa_Rica_earthquake_2012,\n",
    "    Guatemala_earthquake_2012,\n",
    "    Italy_earthquakes_2012,\n",
    "    Philipinnes_floods_2012,\n",
    "    Typhoon_Pablo_2012,\n",
    "    Venezuela_refinery_2012,\n",
    "    Alberta_floods_2013,\n",
    "    Australia_bushfire_2013,\n",
    "    Bohol_earthquake_2013,\n",
    "    Boston_bombings_2013,\n",
    "    Brazil_nightclub_fire_2013,\n",
    "    Colorado_floods_2013,\n",
    "    Glasgow_helicopter_crash_2013,\n",
    "    Lac_Megantic_train_crash_2013,\n",
    "    LA_airport_shootings_2013,\n",
    "    Manila_floods_2013,\n",
    "    NY_train_crash_2013,\n",
    "    Queensland_floods_2013,\n",
    "    Russia_meteor_2013,\n",
    "    Sardinia_floods_2013,\n",
    "    Savar_building_collapse_2013,\n",
    "    Singapore_haze_2013,\n",
    "    Spain_train_crash_2013,\n",
    "    Typhoon_Yolanda_2013,\n",
    "    West_Texas_explosion_2013,\n",
    "])"
   ]
  },
  {
   "cell_type": "code",
   "execution_count": 81,
   "metadata": {},
   "outputs": [
    {
     "data": {
      "text/html": [
       "<div>\n",
       "<style scoped>\n",
       "    .dataframe tbody tr th:only-of-type {\n",
       "        vertical-align: middle;\n",
       "    }\n",
       "\n",
       "    .dataframe tbody tr th {\n",
       "        vertical-align: top;\n",
       "    }\n",
       "\n",
       "    .dataframe thead th {\n",
       "        text-align: right;\n",
       "    }\n",
       "</style>\n",
       "<table border=\"1\" class=\"dataframe\">\n",
       "  <thead>\n",
       "    <tr style=\"text-align: right;\">\n",
       "      <th></th>\n",
       "      <th>Tweet ID</th>\n",
       "      <th>Translated Tweet</th>\n",
       "      <th>Information Type</th>\n",
       "    </tr>\n",
       "  </thead>\n",
       "  <tbody>\n",
       "    <tr>\n",
       "      <th>0</th>\n",
       "      <td>2.110407e+17</td>\n",
       "      <td>#Intern #US #TATTOO #Wisconsin #Ohio #NC #PA #...</td>\n",
       "      <td>Not labeled</td>\n",
       "    </tr>\n",
       "    <tr>\n",
       "      <th>1</th>\n",
       "      <td>2.111117e+17</td>\n",
       "      <td>RT @Jack4Ward: Get in on the fun every Thursda...</td>\n",
       "      <td>Not labeled</td>\n",
       "    </tr>\n",
       "    <tr>\n",
       "      <th>2</th>\n",
       "      <td>2.111572e+17</td>\n",
       "      <td>Welcome to our newest STUDENTathlete- Reagan B...</td>\n",
       "      <td>Not labeled</td>\n",
       "    </tr>\n",
       "    <tr>\n",
       "      <th>3</th>\n",
       "      <td>2.111626e+17</td>\n",
       "      <td>Denver Post: #Colorado governor signs bill cre...</td>\n",
       "      <td>Not labeled</td>\n",
       "    </tr>\n",
       "    <tr>\n",
       "      <th>4</th>\n",
       "      <td>2.112170e+17</td>\n",
       "      <td>Pretty sure I'm going to live in Manitou Sprin...</td>\n",
       "      <td>Not labeled</td>\n",
       "    </tr>\n",
       "  </tbody>\n",
       "</table>\n",
       "</div>"
      ],
      "text/plain": [
       "       Tweet ID                                   Translated Tweet  \\\n",
       "0  2.110407e+17  #Intern #US #TATTOO #Wisconsin #Ohio #NC #PA #...   \n",
       "1  2.111117e+17  RT @Jack4Ward: Get in on the fun every Thursda...   \n",
       "2  2.111572e+17  Welcome to our newest STUDENTathlete- Reagan B...   \n",
       "3  2.111626e+17  Denver Post: #Colorado governor signs bill cre...   \n",
       "4  2.112170e+17  Pretty sure I'm going to live in Manitou Sprin...   \n",
       "\n",
       "  Information Type  \n",
       "0      Not labeled  \n",
       "1      Not labeled  \n",
       "2      Not labeled  \n",
       "3      Not labeled  \n",
       "4      Not labeled  "
      ]
     },
     "execution_count": 81,
     "metadata": {},
     "output_type": "execute_result"
    }
   ],
   "source": [
    "crisislex26.head()"
   ]
  },
  {
   "cell_type": "code",
   "execution_count": 82,
   "metadata": {},
   "outputs": [
    {
     "data": {
      "text/plain": [
       "(27935, 3)"
      ]
     },
     "execution_count": 82,
     "metadata": {},
     "output_type": "execute_result"
    }
   ],
   "source": [
    "crisislex26.shape"
   ]
  },
  {
   "cell_type": "code",
   "execution_count": 83,
   "metadata": {},
   "outputs": [
    {
     "data": {
      "text/plain": [
       "array(['Not labeled', 'Other Useful Information', 'Caution and advice',\n",
       "       'Affected individuals', 'Infrastructure and utilities',\n",
       "       'Donations and volunteering', 'Sympathy and support',\n",
       "       'Not applicable', nan], dtype=object)"
      ]
     },
     "execution_count": 83,
     "metadata": {},
     "output_type": "execute_result"
    }
   ],
   "source": [
    "crisislex26['Information Type'].unique()"
   ]
  },
  {
   "cell_type": "code",
   "execution_count": 84,
   "metadata": {},
   "outputs": [
    {
     "data": {
      "text/plain": [
       "Other Useful Information        7625\n",
       "Affected individuals            4790\n",
       "Sympathy and support            4650\n",
       "Not labeled                     3410\n",
       "Donations and volunteering      2404\n",
       "Caution and advice              2306\n",
       "Infrastructure and utilities    1599\n",
       "Not applicable                  1138\n",
       "Name: Information Type, dtype: int64"
      ]
     },
     "execution_count": 84,
     "metadata": {},
     "output_type": "execute_result"
    }
   ],
   "source": [
    "crisislex26['Information Type'].value_counts()"
   ]
  },
  {
   "cell_type": "code",
   "execution_count": 85,
   "metadata": {},
   "outputs": [],
   "source": [
    "crisislex26 = crisislex26.rename(columns={\n",
    "    'Tweet ID': 'ID',\n",
    "    'Translated Tweet': 'Tweet',\n",
    "    'Information Type': 'Label'\n",
    "})"
   ]
  },
  {
   "cell_type": "code",
   "execution_count": 86,
   "metadata": {
    "scrolled": true
   },
   "outputs": [
    {
     "data": {
      "text/html": [
       "<div>\n",
       "<style scoped>\n",
       "    .dataframe tbody tr th:only-of-type {\n",
       "        vertical-align: middle;\n",
       "    }\n",
       "\n",
       "    .dataframe tbody tr th {\n",
       "        vertical-align: top;\n",
       "    }\n",
       "\n",
       "    .dataframe thead th {\n",
       "        text-align: right;\n",
       "    }\n",
       "</style>\n",
       "<table border=\"1\" class=\"dataframe\">\n",
       "  <thead>\n",
       "    <tr style=\"text-align: right;\">\n",
       "      <th></th>\n",
       "      <th>ID</th>\n",
       "      <th>Tweet</th>\n",
       "      <th>Label</th>\n",
       "    </tr>\n",
       "  </thead>\n",
       "  <tbody>\n",
       "    <tr>\n",
       "      <th>0</th>\n",
       "      <td>2.110407e+17</td>\n",
       "      <td>#Intern #US #TATTOO #Wisconsin #Ohio #NC #PA #...</td>\n",
       "      <td>Not labeled</td>\n",
       "    </tr>\n",
       "    <tr>\n",
       "      <th>1</th>\n",
       "      <td>2.111117e+17</td>\n",
       "      <td>RT @Jack4Ward: Get in on the fun every Thursda...</td>\n",
       "      <td>Not labeled</td>\n",
       "    </tr>\n",
       "  </tbody>\n",
       "</table>\n",
       "</div>"
      ],
      "text/plain": [
       "             ID                                              Tweet  \\\n",
       "0  2.110407e+17  #Intern #US #TATTOO #Wisconsin #Ohio #NC #PA #...   \n",
       "1  2.111117e+17  RT @Jack4Ward: Get in on the fun every Thursda...   \n",
       "\n",
       "         Label  \n",
       "0  Not labeled  \n",
       "1  Not labeled  "
      ]
     },
     "execution_count": 86,
     "metadata": {},
     "output_type": "execute_result"
    }
   ],
   "source": [
    "crisislex26.head(2)"
   ]
  },
  {
   "cell_type": "code",
   "execution_count": 87,
   "metadata": {},
   "outputs": [
    {
     "data": {
      "text/plain": [
       "<AxesSubplot:>"
      ]
     },
     "execution_count": 87,
     "metadata": {},
     "output_type": "execute_result"
    },
    {
     "data": {
      "image/png": "[encoded data removed]",
      "text/plain": [
       "<Figure size 432x288 with 1 Axes>"
      ]
     },
     "metadata": {
      "needs_background": "light"
     },
     "output_type": "display_data"
    }
   ],
   "source": [
    "crisislex26['Label'].value_counts(ascending=True).plot(kind=\"barh\")"
   ]
  },
  {
   "cell_type": "markdown",
   "metadata": {},
   "source": [
    "### **Load SWDM2013 dataset**"
   ]
  },
  {
   "cell_type": "code",
   "execution_count": 88,
   "metadata": {},
   "outputs": [],
   "source": [
    "swdm_base_dir = 'C:/Users/Kelvin Chumbe/Downloads/Datasets/Capstone_Twitter Modelling Datasets/SWDM2013_dataset/SWDM2013_dataset/sandy2012_labeled_data/'"
   ]
  },
  {
   "cell_type": "code",
   "execution_count": 89,
   "metadata": {},
   "outputs": [],
   "source": [
    "swdm_informative_caution_infosrc_donation_damage_other = pd.read_csv(os.path.join(swdm_base_dir, '02_informative_caution-infosrc-donation-damage-other/a144267.csv'))"
   ]
  },
  {
   "cell_type": "code",
   "execution_count": 90,
   "metadata": {
    "scrolled": false
   },
   "outputs": [
    {
     "data": {
      "text/html": [
       "<div>\n",
       "<style scoped>\n",
       "    .dataframe tbody tr th:only-of-type {\n",
       "        vertical-align: middle;\n",
       "    }\n",
       "\n",
       "    .dataframe tbody tr th {\n",
       "        vertical-align: top;\n",
       "    }\n",
       "\n",
       "    .dataframe thead th {\n",
       "        text-align: right;\n",
       "    }\n",
       "</style>\n",
       "<table border=\"1\" class=\"dataframe\">\n",
       "  <thead>\n",
       "    <tr style=\"text-align: right;\">\n",
       "      <th></th>\n",
       "      <th>_unit_id</th>\n",
       "      <th>_golden</th>\n",
       "      <th>_unit_state</th>\n",
       "      <th>_trusted_judgments</th>\n",
       "      <th>_last_judgment_at</th>\n",
       "      <th>choose_one</th>\n",
       "      <th>choose_one:confidence</th>\n",
       "      <th>choose_one_gold</th>\n",
       "      <th>text_no_rt</th>\n",
       "      <th>tweet</th>\n",
       "      <th>type</th>\n",
       "      <th>user</th>\n",
       "    </tr>\n",
       "  </thead>\n",
       "  <tbody>\n",
       "    <tr>\n",
       "      <th>0</th>\n",
       "      <td>223607030</td>\n",
       "      <td>False</td>\n",
       "      <td>finalized</td>\n",
       "      <td>3</td>\n",
       "      <td>11/14/2012 03:26:51</td>\n",
       "      <td>Casualties and damage</td>\n",
       "      <td>1.0</td>\n",
       "      <td>NaN</td>\n",
       "      <td>28 deaths due to Hurricane Sandy | Charlotte t...</td>\n",
       "      <td>RT @HenderGrande: 28 deaths due to Hurricane S...</td>\n",
       "      <td>Informative (Direct or Indirect)</td>\n",
       "      <td>1EmmaHenderson</td>\n",
       "    </tr>\n",
       "    <tr>\n",
       "      <th>1</th>\n",
       "      <td>223607031</td>\n",
       "      <td>True</td>\n",
       "      <td>golden</td>\n",
       "      <td>3</td>\n",
       "      <td>11/14/2012 03:41:27</td>\n",
       "      <td>Casualties and damage</td>\n",
       "      <td>1.0</td>\n",
       "      <td>Casualties and damage</td>\n",
       "      <td>Sandy kills 50 people nationwide 18 were New Y...</td>\n",
       "      <td>Sandy kills 50 people nationwide 18 were New Y...</td>\n",
       "      <td>Informative (Direct or Indirect)</td>\n",
       "      <td>9NEWS</td>\n",
       "    </tr>\n",
       "  </tbody>\n",
       "</table>\n",
       "</div>"
      ],
      "text/plain": [
       "    _unit_id  _golden _unit_state  _trusted_judgments    _last_judgment_at  \\\n",
       "0  223607030    False   finalized                   3  11/14/2012 03:26:51   \n",
       "1  223607031     True      golden                   3  11/14/2012 03:41:27   \n",
       "\n",
       "              choose_one  choose_one:confidence        choose_one_gold  \\\n",
       "0  Casualties and damage                    1.0                    NaN   \n",
       "1  Casualties and damage                    1.0  Casualties and damage   \n",
       "\n",
       "                                          text_no_rt  \\\n",
       "0  28 deaths due to Hurricane Sandy | Charlotte t...   \n",
       "1  Sandy kills 50 people nationwide 18 were New Y...   \n",
       "\n",
       "                                               tweet  \\\n",
       "0  RT @HenderGrande: 28 deaths due to Hurricane S...   \n",
       "1  Sandy kills 50 people nationwide 18 were New Y...   \n",
       "\n",
       "                               type            user  \n",
       "0  Informative (Direct or Indirect)  1EmmaHenderson  \n",
       "1  Informative (Direct or Indirect)           9NEWS  "
      ]
     },
     "execution_count": 90,
     "metadata": {},
     "output_type": "execute_result"
    }
   ],
   "source": [
    "swdm_informative_caution_infosrc_donation_damage_other.head(2)"
   ]
  },
  {
   "cell_type": "code",
   "execution_count": 91,
   "metadata": {},
   "outputs": [
    {
     "data": {
      "text/plain": [
       "Index(['_unit_id', '_golden', '_unit_state', '_trusted_judgments',\n",
       "       '_last_judgment_at', 'choose_one', 'choose_one:confidence',\n",
       "       'choose_one_gold', 'text_no_rt', 'tweet', 'type', 'user'],\n",
       "      dtype='object')"
      ]
     },
     "execution_count": 91,
     "metadata": {},
     "output_type": "execute_result"
    }
   ],
   "source": [
    "swdm_informative_caution_infosrc_donation_damage_other.columns"
   ]
  },
  {
   "cell_type": "code",
   "execution_count": 92,
   "metadata": {},
   "outputs": [],
   "source": [
    "swdm_informative_caution_infosrc_donation_damage_other = swdm_informative_caution_infosrc_donation_damage_other[['_unit_id', 'tweet', 'choose_one']]"
   ]
  },
  {
   "cell_type": "code",
   "execution_count": 93,
   "metadata": {
    "scrolled": true
   },
   "outputs": [
    {
     "data": {
      "text/html": [
       "<div>\n",
       "<style scoped>\n",
       "    .dataframe tbody tr th:only-of-type {\n",
       "        vertical-align: middle;\n",
       "    }\n",
       "\n",
       "    .dataframe tbody tr th {\n",
       "        vertical-align: top;\n",
       "    }\n",
       "\n",
       "    .dataframe thead th {\n",
       "        text-align: right;\n",
       "    }\n",
       "</style>\n",
       "<table border=\"1\" class=\"dataframe\">\n",
       "  <thead>\n",
       "    <tr style=\"text-align: right;\">\n",
       "      <th></th>\n",
       "      <th>_unit_id</th>\n",
       "      <th>tweet</th>\n",
       "      <th>choose_one</th>\n",
       "    </tr>\n",
       "  </thead>\n",
       "  <tbody>\n",
       "    <tr>\n",
       "      <th>0</th>\n",
       "      <td>223607030</td>\n",
       "      <td>RT @HenderGrande: 28 deaths due to Hurricane S...</td>\n",
       "      <td>Casualties and damage</td>\n",
       "    </tr>\n",
       "    <tr>\n",
       "      <th>1</th>\n",
       "      <td>223607031</td>\n",
       "      <td>Sandy kills 50 people nationwide 18 were New Y...</td>\n",
       "      <td>Casualties and damage</td>\n",
       "    </tr>\n",
       "    <tr>\n",
       "      <th>2</th>\n",
       "      <td>223607032</td>\n",
       "      <td>RT @twc_hurricane: RT @nowthised: Wider shot o...</td>\n",
       "      <td>Casualties and damage</td>\n",
       "    </tr>\n",
       "    <tr>\n",
       "      <th>3</th>\n",
       "      <td>223607033</td>\n",
       "      <td>RT @growingwisdom: #Sandy will be onshore abou...</td>\n",
       "      <td>Caution and advice</td>\n",
       "    </tr>\n",
       "    <tr>\n",
       "      <th>4</th>\n",
       "      <td>223607034</td>\n",
       "      <td>@ChrisFRC lost startups can go to @AlleyNYC. T...</td>\n",
       "      <td>Donations of money, goods or services</td>\n",
       "    </tr>\n",
       "  </tbody>\n",
       "</table>\n",
       "</div>"
      ],
      "text/plain": [
       "    _unit_id                                              tweet  \\\n",
       "0  223607030  RT @HenderGrande: 28 deaths due to Hurricane S...   \n",
       "1  223607031  Sandy kills 50 people nationwide 18 were New Y...   \n",
       "2  223607032  RT @twc_hurricane: RT @nowthised: Wider shot o...   \n",
       "3  223607033  RT @growingwisdom: #Sandy will be onshore abou...   \n",
       "4  223607034  @ChrisFRC lost startups can go to @AlleyNYC. T...   \n",
       "\n",
       "                              choose_one  \n",
       "0                  Casualties and damage  \n",
       "1                  Casualties and damage  \n",
       "2                  Casualties and damage  \n",
       "3                     Caution and advice  \n",
       "4  Donations of money, goods or services  "
      ]
     },
     "execution_count": 93,
     "metadata": {},
     "output_type": "execute_result"
    }
   ],
   "source": [
    "swdm_informative_caution_infosrc_donation_damage_other.head()"
   ]
  },
  {
   "cell_type": "code",
   "execution_count": 94,
   "metadata": {},
   "outputs": [],
   "source": [
    "# Drop casualties and damage column and load the data from a different dataset to merge\n",
    "swdm_informative_caution_infosrc_donation_damage_other = swdm_informative_caution_infosrc_donation_damage_other.drop(swdm_informative_caution_infosrc_donation_damage_other[swdm_informative_caution_infosrc_donation_damage_other['choose_one'] == 'Casualties and damage'].index, axis=0)"
   ]
  },
  {
   "cell_type": "code",
   "execution_count": 95,
   "metadata": {},
   "outputs": [
    {
     "data": {
      "text/html": [
       "<div>\n",
       "<style scoped>\n",
       "    .dataframe tbody tr th:only-of-type {\n",
       "        vertical-align: middle;\n",
       "    }\n",
       "\n",
       "    .dataframe tbody tr th {\n",
       "        vertical-align: top;\n",
       "    }\n",
       "\n",
       "    .dataframe thead th {\n",
       "        text-align: right;\n",
       "    }\n",
       "</style>\n",
       "<table border=\"1\" class=\"dataframe\">\n",
       "  <thead>\n",
       "    <tr style=\"text-align: right;\">\n",
       "      <th></th>\n",
       "      <th>_unit_id</th>\n",
       "      <th>tweet</th>\n",
       "      <th>choose_one</th>\n",
       "    </tr>\n",
       "  </thead>\n",
       "  <tbody>\n",
       "    <tr>\n",
       "      <th>3</th>\n",
       "      <td>223607033</td>\n",
       "      <td>RT @growingwisdom: #Sandy will be onshore abou...</td>\n",
       "      <td>Caution and advice</td>\n",
       "    </tr>\n",
       "    <tr>\n",
       "      <th>4</th>\n",
       "      <td>223607034</td>\n",
       "      <td>@ChrisFRC lost startups can go to @AlleyNYC. T...</td>\n",
       "      <td>Donations of money, goods or services</td>\n",
       "    </tr>\n",
       "    <tr>\n",
       "      <th>7</th>\n",
       "      <td>223607037</td>\n",
       "      <td>400 Volunteers are needed for areas that took ...</td>\n",
       "      <td>Donations of money, goods or services</td>\n",
       "    </tr>\n",
       "    <tr>\n",
       "      <th>8</th>\n",
       "      <td>223607038</td>\n",
       "      <td>Storm just now hitting Jersey...Milford is fee...</td>\n",
       "      <td>Caution and advice</td>\n",
       "    </tr>\n",
       "    <tr>\n",
       "      <th>9</th>\n",
       "      <td>223607039</td>\n",
       "      <td>RT @ChrisCQuinn: City Public Schools will be c...</td>\n",
       "      <td>Caution and advice</td>\n",
       "    </tr>\n",
       "  </tbody>\n",
       "</table>\n",
       "</div>"
      ],
      "text/plain": [
       "    _unit_id                                              tweet  \\\n",
       "3  223607033  RT @growingwisdom: #Sandy will be onshore abou...   \n",
       "4  223607034  @ChrisFRC lost startups can go to @AlleyNYC. T...   \n",
       "7  223607037  400 Volunteers are needed for areas that took ...   \n",
       "8  223607038  Storm just now hitting Jersey...Milford is fee...   \n",
       "9  223607039  RT @ChrisCQuinn: City Public Schools will be c...   \n",
       "\n",
       "                              choose_one  \n",
       "3                     Caution and advice  \n",
       "4  Donations of money, goods or services  \n",
       "7  Donations of money, goods or services  \n",
       "8                     Caution and advice  \n",
       "9                     Caution and advice  "
      ]
     },
     "execution_count": 95,
     "metadata": {},
     "output_type": "execute_result"
    }
   ],
   "source": [
    "swdm_informative_caution_infosrc_donation_damage_other.head()"
   ]
  },
  {
   "cell_type": "code",
   "execution_count": 96,
   "metadata": {},
   "outputs": [
    {
     "data": {
      "text/plain": [
       "array(['Caution and advice', 'Donations of money, goods or services',\n",
       "       'Information Source', 'Unknown'], dtype=object)"
      ]
     },
     "execution_count": 96,
     "metadata": {},
     "output_type": "execute_result"
    }
   ],
   "source": [
    "swdm_informative_caution_infosrc_donation_damage_other['choose_one'].unique()"
   ]
  },
  {
   "cell_type": "code",
   "execution_count": 97,
   "metadata": {},
   "outputs": [],
   "source": [
    "swdm_damage_n_casualties_classify_extract = pd.read_csv(os.path.join(swdm_base_dir, '03_damage-n-casualties_classify-extract/a146281.csv'))"
   ]
  },
  {
   "cell_type": "code",
   "execution_count": 98,
   "metadata": {
    "scrolled": true
   },
   "outputs": [
    {
     "data": {
      "text/html": [
       "<div>\n",
       "<style scoped>\n",
       "    .dataframe tbody tr th:only-of-type {\n",
       "        vertical-align: middle;\n",
       "    }\n",
       "\n",
       "    .dataframe tbody tr th {\n",
       "        vertical-align: top;\n",
       "    }\n",
       "\n",
       "    .dataframe thead th {\n",
       "        text-align: right;\n",
       "    }\n",
       "</style>\n",
       "<table border=\"1\" class=\"dataframe\">\n",
       "  <thead>\n",
       "    <tr style=\"text-align: right;\">\n",
       "      <th></th>\n",
       "      <th>_unit_id</th>\n",
       "      <th>_golden</th>\n",
       "      <th>_unit_state</th>\n",
       "      <th>_trusted_judgments</th>\n",
       "      <th>_last_judgment_at</th>\n",
       "      <th>hom_many_injured_or_dead_if_people</th>\n",
       "      <th>people_or_infrastructure</th>\n",
       "      <th>people_or_infrastructure:confidence</th>\n",
       "      <th>what_infrastructure_was_damaged_if_infrastructure</th>\n",
       "      <th>category</th>\n",
       "      <th>hom_many_injured_or_dead_if_people_gold</th>\n",
       "      <th>people_or_infrastructure_gold</th>\n",
       "      <th>text_no_rt</th>\n",
       "      <th>tweet</th>\n",
       "      <th>type</th>\n",
       "      <th>user</th>\n",
       "      <th>what_infrastructure_was_damaged_if_infrastructure_gold</th>\n",
       "    </tr>\n",
       "  </thead>\n",
       "  <tbody>\n",
       "    <tr>\n",
       "      <th>0</th>\n",
       "      <td>227175113</td>\n",
       "      <td>True</td>\n",
       "      <td>golden</td>\n",
       "      <td>12</td>\n",
       "      <td>11/23/2012 14:36:01</td>\n",
       "      <td>28\\n28\\n28\\n28\\n28\\n28\\n28\\n28\\n28\\n28\\n28\\n28</td>\n",
       "      <td>People: dead</td>\n",
       "      <td>1.0000</td>\n",
       "      <td>\\n\\n\\n\\n\\n\\n\\n\\n\\n\\n\\n</td>\n",
       "      <td>Informative (Direct or Indirect)</td>\n",
       "      <td>28</td>\n",
       "      <td>People: dead</td>\n",
       "      <td>28 deaths due to Hurricane Sandy | Charlotte t...</td>\n",
       "      <td>RT @HenderGrande: 28 deaths due to Hurricane S...</td>\n",
       "      <td>Casualties and damage</td>\n",
       "      <td>1EmmaHenderson</td>\n",
       "      <td>NaN</td>\n",
       "    </tr>\n",
       "    <tr>\n",
       "      <th>1</th>\n",
       "      <td>227175114</td>\n",
       "      <td>True</td>\n",
       "      <td>golden</td>\n",
       "      <td>12</td>\n",
       "      <td>11/23/2012 13:13:34</td>\n",
       "      <td>50\\n50\\n50\\n50 people nationwide 18 were New Y...</td>\n",
       "      <td>Both people and infrastructure</td>\n",
       "      <td>0.7143</td>\n",
       "      <td>homes\\n\\n8 million homes\\n8 million homes stil...</td>\n",
       "      <td>Informative (Direct or Indirect)</td>\n",
       "      <td>50\\nkills 50 people nationwide\\n50 people nati...</td>\n",
       "      <td>People: dead\\nBoth people and infrastructure</td>\n",
       "      <td>Sandy kills 50 people nationwide 18 were New Y...</td>\n",
       "      <td>Sandy kills 50 people nationwide 18 were New Y...</td>\n",
       "      <td>Casualties and damage</td>\n",
       "      <td>9NEWS</td>\n",
       "      <td>8 million homes still without power\\n8 millio...</td>\n",
       "    </tr>\n",
       "  </tbody>\n",
       "</table>\n",
       "</div>"
      ],
      "text/plain": [
       "    _unit_id  _golden _unit_state  _trusted_judgments    _last_judgment_at  \\\n",
       "0  227175113     True      golden                  12  11/23/2012 14:36:01   \n",
       "1  227175114     True      golden                  12  11/23/2012 13:13:34   \n",
       "\n",
       "                  hom_many_injured_or_dead_if_people  \\\n",
       "0     28\\n28\\n28\\n28\\n28\\n28\\n28\\n28\\n28\\n28\\n28\\n28   \n",
       "1  50\\n50\\n50\\n50 people nationwide 18 were New Y...   \n",
       "\n",
       "         people_or_infrastructure  people_or_infrastructure:confidence  \\\n",
       "0                    People: dead                               1.0000   \n",
       "1  Both people and infrastructure                               0.7143   \n",
       "\n",
       "   what_infrastructure_was_damaged_if_infrastructure  \\\n",
       "0                             \\n\\n\\n\\n\\n\\n\\n\\n\\n\\n\\n   \n",
       "1  homes\\n\\n8 million homes\\n8 million homes stil...   \n",
       "\n",
       "                           category  \\\n",
       "0  Informative (Direct or Indirect)   \n",
       "1  Informative (Direct or Indirect)   \n",
       "\n",
       "             hom_many_injured_or_dead_if_people_gold  \\\n",
       "0                                                 28   \n",
       "1  50\\nkills 50 people nationwide\\n50 people nati...   \n",
       "\n",
       "                  people_or_infrastructure_gold  \\\n",
       "0                                  People: dead   \n",
       "1  People: dead\\nBoth people and infrastructure   \n",
       "\n",
       "                                          text_no_rt  \\\n",
       "0  28 deaths due to Hurricane Sandy | Charlotte t...   \n",
       "1  Sandy kills 50 people nationwide 18 were New Y...   \n",
       "\n",
       "                                               tweet                   type  \\\n",
       "0  RT @HenderGrande: 28 deaths due to Hurricane S...  Casualties and damage   \n",
       "1  Sandy kills 50 people nationwide 18 were New Y...  Casualties and damage   \n",
       "\n",
       "             user what_infrastructure_was_damaged_if_infrastructure_gold  \n",
       "0  1EmmaHenderson                                                NaN      \n",
       "1           9NEWS   8 million homes still without power\\n8 millio...      "
      ]
     },
     "execution_count": 98,
     "metadata": {},
     "output_type": "execute_result"
    }
   ],
   "source": [
    "swdm_damage_n_casualties_classify_extract.head(2)"
   ]
  },
  {
   "cell_type": "code",
   "execution_count": 99,
   "metadata": {},
   "outputs": [],
   "source": [
    "swdm_damage_n_casualties_classify_extract['casualty_or_damage'] = swdm_damage_n_casualties_classify_extract['people_or_infrastructure'].apply(lambda x: 'Casualty' if x.startswith('People') else('Casualty' if x.startswith('Both') else('Damage' if x.startswith('Infrastructure') else(x))))"
   ]
  },
  {
   "cell_type": "code",
   "execution_count": 100,
   "metadata": {},
   "outputs": [
    {
     "data": {
      "text/html": [
       "<div>\n",
       "<style scoped>\n",
       "    .dataframe tbody tr th:only-of-type {\n",
       "        vertical-align: middle;\n",
       "    }\n",
       "\n",
       "    .dataframe tbody tr th {\n",
       "        vertical-align: top;\n",
       "    }\n",
       "\n",
       "    .dataframe thead th {\n",
       "        text-align: right;\n",
       "    }\n",
       "</style>\n",
       "<table border=\"1\" class=\"dataframe\">\n",
       "  <thead>\n",
       "    <tr style=\"text-align: right;\">\n",
       "      <th></th>\n",
       "      <th>_unit_id</th>\n",
       "      <th>_golden</th>\n",
       "      <th>_unit_state</th>\n",
       "      <th>_trusted_judgments</th>\n",
       "      <th>_last_judgment_at</th>\n",
       "      <th>hom_many_injured_or_dead_if_people</th>\n",
       "      <th>people_or_infrastructure</th>\n",
       "      <th>people_or_infrastructure:confidence</th>\n",
       "      <th>what_infrastructure_was_damaged_if_infrastructure</th>\n",
       "      <th>category</th>\n",
       "      <th>hom_many_injured_or_dead_if_people_gold</th>\n",
       "      <th>people_or_infrastructure_gold</th>\n",
       "      <th>text_no_rt</th>\n",
       "      <th>tweet</th>\n",
       "      <th>type</th>\n",
       "      <th>user</th>\n",
       "      <th>what_infrastructure_was_damaged_if_infrastructure_gold</th>\n",
       "      <th>casualty_or_damage</th>\n",
       "    </tr>\n",
       "  </thead>\n",
       "  <tbody>\n",
       "    <tr>\n",
       "      <th>0</th>\n",
       "      <td>227175113</td>\n",
       "      <td>True</td>\n",
       "      <td>golden</td>\n",
       "      <td>12</td>\n",
       "      <td>11/23/2012 14:36:01</td>\n",
       "      <td>28\\n28\\n28\\n28\\n28\\n28\\n28\\n28\\n28\\n28\\n28\\n28</td>\n",
       "      <td>People: dead</td>\n",
       "      <td>1.0000</td>\n",
       "      <td>\\n\\n\\n\\n\\n\\n\\n\\n\\n\\n\\n</td>\n",
       "      <td>Informative (Direct or Indirect)</td>\n",
       "      <td>28</td>\n",
       "      <td>People: dead</td>\n",
       "      <td>28 deaths due to Hurricane Sandy | Charlotte t...</td>\n",
       "      <td>RT @HenderGrande: 28 deaths due to Hurricane S...</td>\n",
       "      <td>Casualties and damage</td>\n",
       "      <td>1EmmaHenderson</td>\n",
       "      <td>NaN</td>\n",
       "      <td>Casualty</td>\n",
       "    </tr>\n",
       "    <tr>\n",
       "      <th>1</th>\n",
       "      <td>227175114</td>\n",
       "      <td>True</td>\n",
       "      <td>golden</td>\n",
       "      <td>12</td>\n",
       "      <td>11/23/2012 13:13:34</td>\n",
       "      <td>50\\n50\\n50\\n50 people nationwide 18 were New Y...</td>\n",
       "      <td>Both people and infrastructure</td>\n",
       "      <td>0.7143</td>\n",
       "      <td>homes\\n\\n8 million homes\\n8 million homes stil...</td>\n",
       "      <td>Informative (Direct or Indirect)</td>\n",
       "      <td>50\\nkills 50 people nationwide\\n50 people nati...</td>\n",
       "      <td>People: dead\\nBoth people and infrastructure</td>\n",
       "      <td>Sandy kills 50 people nationwide 18 were New Y...</td>\n",
       "      <td>Sandy kills 50 people nationwide 18 were New Y...</td>\n",
       "      <td>Casualties and damage</td>\n",
       "      <td>9NEWS</td>\n",
       "      <td>8 million homes still without power\\n8 millio...</td>\n",
       "      <td>Casualty</td>\n",
       "    </tr>\n",
       "    <tr>\n",
       "      <th>2</th>\n",
       "      <td>227175115</td>\n",
       "      <td>True</td>\n",
       "      <td>golden</td>\n",
       "      <td>7</td>\n",
       "      <td>11/23/2012 09:09:19</td>\n",
       "      <td>\\n\\n\\n\\n\\n\\n</td>\n",
       "      <td>Infrastructure (building, bridge, road, etc.) ...</td>\n",
       "      <td>0.5353</td>\n",
       "      <td>\\nscaffolding toppling car\\nshot of scaffoldin...</td>\n",
       "      <td>Informative (Direct or Indirect)</td>\n",
       "      <td>NaN</td>\n",
       "      <td>Infrastructure (building, bridge, road, etc.) ...</td>\n",
       "      <td>RT @nowthised: Wider shot of scaffolding toppl...</td>\n",
       "      <td>RT @twc_hurricane: RT @nowthised: Wider shot o...</td>\n",
       "      <td>Casualties and damage</td>\n",
       "      <td>AbrahamAkiva</td>\n",
       "      <td>scaffolding toppling car\\nshot of scaffolding ...</td>\n",
       "      <td>Damage</td>\n",
       "    </tr>\n",
       "    <tr>\n",
       "      <th>3</th>\n",
       "      <td>227175116</td>\n",
       "      <td>True</td>\n",
       "      <td>golden</td>\n",
       "      <td>11</td>\n",
       "      <td>11/23/2012 13:20:51</td>\n",
       "      <td>\\n\\n\\n\\nnone\\n\\ntoll climbs\\n\\n\\n\\ntoll climbs</td>\n",
       "      <td>Both people and infrastructure</td>\n",
       "      <td>0.5651</td>\n",
       "      <td>homes\\npower, homes\\nThousands of homes\\nhomes...</td>\n",
       "      <td>Informative (Direct or Indirect)</td>\n",
       "      <td>N/A\\nN/a</td>\n",
       "      <td>Both people and infrastructure</td>\n",
       "      <td>Sandy death toll climbs; millions remain witho...</td>\n",
       "      <td>Sandy death toll climbs; millions remain witho...</td>\n",
       "      <td>Casualties and damage</td>\n",
       "      <td>alexandermimi</td>\n",
       "      <td>millions remain without power = electricity da...</td>\n",
       "      <td>Casualty</td>\n",
       "    </tr>\n",
       "    <tr>\n",
       "      <th>4</th>\n",
       "      <td>227175117</td>\n",
       "      <td>True</td>\n",
       "      <td>golden</td>\n",
       "      <td>15</td>\n",
       "      <td>11/23/2012 14:25:53</td>\n",
       "      <td>\\n\\n\\n\\n\\n\\n\\n\\n\\n\\n\\n\\n\\n\\n</td>\n",
       "      <td>Infrastructure (building, bridge, road, etc.) ...</td>\n",
       "      <td>1.0000</td>\n",
       "      <td>Extensive flooding in all subway tunnels\\nExte...</td>\n",
       "      <td>Informative (Direct or Indirect)</td>\n",
       "      <td>NaN</td>\n",
       "      <td>Infrastructure (building, bridge, road, etc.) ...</td>\n",
       "      <td>Extensive flooding in all subway tunnels says ...</td>\n",
       "      <td>RT @emmagkeller: Extensive flooding in all sub...</td>\n",
       "      <td>Casualties and damage</td>\n",
       "      <td>alischaw</td>\n",
       "      <td>all subway tunnels\\nExtensive flooding in all ...</td>\n",
       "      <td>Damage</td>\n",
       "    </tr>\n",
       "  </tbody>\n",
       "</table>\n",
       "</div>"
      ],
      "text/plain": [
       "    _unit_id  _golden _unit_state  _trusted_judgments    _last_judgment_at  \\\n",
       "0  227175113     True      golden                  12  11/23/2012 14:36:01   \n",
       "1  227175114     True      golden                  12  11/23/2012 13:13:34   \n",
       "2  227175115     True      golden                   7  11/23/2012 09:09:19   \n",
       "3  227175116     True      golden                  11  11/23/2012 13:20:51   \n",
       "4  227175117     True      golden                  15  11/23/2012 14:25:53   \n",
       "\n",
       "                  hom_many_injured_or_dead_if_people  \\\n",
       "0     28\\n28\\n28\\n28\\n28\\n28\\n28\\n28\\n28\\n28\\n28\\n28   \n",
       "1  50\\n50\\n50\\n50 people nationwide 18 were New Y...   \n",
       "2                                       \\n\\n\\n\\n\\n\\n   \n",
       "3     \\n\\n\\n\\nnone\\n\\ntoll climbs\\n\\n\\n\\ntoll climbs   \n",
       "4                       \\n\\n\\n\\n\\n\\n\\n\\n\\n\\n\\n\\n\\n\\n   \n",
       "\n",
       "                            people_or_infrastructure  \\\n",
       "0                                       People: dead   \n",
       "1                     Both people and infrastructure   \n",
       "2  Infrastructure (building, bridge, road, etc.) ...   \n",
       "3                     Both people and infrastructure   \n",
       "4  Infrastructure (building, bridge, road, etc.) ...   \n",
       "\n",
       "   people_or_infrastructure:confidence  \\\n",
       "0                               1.0000   \n",
       "1                               0.7143   \n",
       "2                               0.5353   \n",
       "3                               0.5651   \n",
       "4                               1.0000   \n",
       "\n",
       "   what_infrastructure_was_damaged_if_infrastructure  \\\n",
       "0                             \\n\\n\\n\\n\\n\\n\\n\\n\\n\\n\\n   \n",
       "1  homes\\n\\n8 million homes\\n8 million homes stil...   \n",
       "2  \\nscaffolding toppling car\\nshot of scaffoldin...   \n",
       "3  homes\\npower, homes\\nThousands of homes\\nhomes...   \n",
       "4  Extensive flooding in all subway tunnels\\nExte...   \n",
       "\n",
       "                           category  \\\n",
       "0  Informative (Direct or Indirect)   \n",
       "1  Informative (Direct or Indirect)   \n",
       "2  Informative (Direct or Indirect)   \n",
       "3  Informative (Direct or Indirect)   \n",
       "4  Informative (Direct or Indirect)   \n",
       "\n",
       "             hom_many_injured_or_dead_if_people_gold  \\\n",
       "0                                                 28   \n",
       "1  50\\nkills 50 people nationwide\\n50 people nati...   \n",
       "2                                                NaN   \n",
       "3                                           N/A\\nN/a   \n",
       "4                                                NaN   \n",
       "\n",
       "                       people_or_infrastructure_gold  \\\n",
       "0                                       People: dead   \n",
       "1       People: dead\\nBoth people and infrastructure   \n",
       "2  Infrastructure (building, bridge, road, etc.) ...   \n",
       "3                     Both people and infrastructure   \n",
       "4  Infrastructure (building, bridge, road, etc.) ...   \n",
       "\n",
       "                                          text_no_rt  \\\n",
       "0  28 deaths due to Hurricane Sandy | Charlotte t...   \n",
       "1  Sandy kills 50 people nationwide 18 were New Y...   \n",
       "2  RT @nowthised: Wider shot of scaffolding toppl...   \n",
       "3  Sandy death toll climbs; millions remain witho...   \n",
       "4  Extensive flooding in all subway tunnels says ...   \n",
       "\n",
       "                                               tweet                   type  \\\n",
       "0  RT @HenderGrande: 28 deaths due to Hurricane S...  Casualties and damage   \n",
       "1  Sandy kills 50 people nationwide 18 were New Y...  Casualties and damage   \n",
       "2  RT @twc_hurricane: RT @nowthised: Wider shot o...  Casualties and damage   \n",
       "3  Sandy death toll climbs; millions remain witho...  Casualties and damage   \n",
       "4  RT @emmagkeller: Extensive flooding in all sub...  Casualties and damage   \n",
       "\n",
       "             user what_infrastructure_was_damaged_if_infrastructure_gold  \\\n",
       "0  1EmmaHenderson                                                NaN       \n",
       "1           9NEWS   8 million homes still without power\\n8 millio...       \n",
       "2    AbrahamAkiva  scaffolding toppling car\\nshot of scaffolding ...       \n",
       "3   alexandermimi  millions remain without power = electricity da...       \n",
       "4        alischaw  all subway tunnels\\nExtensive flooding in all ...       \n",
       "\n",
       "  casualty_or_damage  \n",
       "0           Casualty  \n",
       "1           Casualty  \n",
       "2             Damage  \n",
       "3           Casualty  \n",
       "4             Damage  "
      ]
     },
     "execution_count": 100,
     "metadata": {},
     "output_type": "execute_result"
    }
   ],
   "source": [
    "swdm_damage_n_casualties_classify_extract.head()"
   ]
  },
  {
   "cell_type": "code",
   "execution_count": 101,
   "metadata": {},
   "outputs": [
    {
     "data": {
      "text/plain": [
       "array(['Casualty', 'Damage', 'Not damage-related',\n",
       "       'Not specified (maybe people or infrastructure)'], dtype=object)"
      ]
     },
     "execution_count": 101,
     "metadata": {},
     "output_type": "execute_result"
    }
   ],
   "source": [
    "swdm_damage_n_casualties_classify_extract['casualty_or_damage'].unique()"
   ]
  },
  {
   "cell_type": "code",
   "execution_count": 102,
   "metadata": {},
   "outputs": [],
   "source": [
    "swdm_damage_n_casualties_classify_extract = swdm_damage_n_casualties_classify_extract.drop(swdm_damage_n_casualties_classify_extract[(swdm_damage_n_casualties_classify_extract['casualty_or_damage'] == 'Not damage-related') | (swdm_damage_n_casualties_classify_extract['casualty_or_damage'] == 'Not specified (maybe people or infrastructure)')].index, axis=0)"
   ]
  },
  {
   "cell_type": "code",
   "execution_count": 103,
   "metadata": {
    "scrolled": true
   },
   "outputs": [
    {
     "data": {
      "text/plain": [
       "array(['Casualty', 'Damage'], dtype=object)"
      ]
     },
     "execution_count": 103,
     "metadata": {},
     "output_type": "execute_result"
    }
   ],
   "source": [
    "swdm_damage_n_casualties_classify_extract['casualty_or_damage'].unique()"
   ]
  },
  {
   "cell_type": "code",
   "execution_count": 104,
   "metadata": {},
   "outputs": [
    {
     "data": {
      "text/html": [
       "<div>\n",
       "<style scoped>\n",
       "    .dataframe tbody tr th:only-of-type {\n",
       "        vertical-align: middle;\n",
       "    }\n",
       "\n",
       "    .dataframe tbody tr th {\n",
       "        vertical-align: top;\n",
       "    }\n",
       "\n",
       "    .dataframe thead th {\n",
       "        text-align: right;\n",
       "    }\n",
       "</style>\n",
       "<table border=\"1\" class=\"dataframe\">\n",
       "  <thead>\n",
       "    <tr style=\"text-align: right;\">\n",
       "      <th></th>\n",
       "      <th>_unit_id</th>\n",
       "      <th>_golden</th>\n",
       "      <th>_unit_state</th>\n",
       "      <th>_trusted_judgments</th>\n",
       "      <th>_last_judgment_at</th>\n",
       "      <th>hom_many_injured_or_dead_if_people</th>\n",
       "      <th>people_or_infrastructure</th>\n",
       "      <th>people_or_infrastructure:confidence</th>\n",
       "      <th>what_infrastructure_was_damaged_if_infrastructure</th>\n",
       "      <th>category</th>\n",
       "      <th>hom_many_injured_or_dead_if_people_gold</th>\n",
       "      <th>people_or_infrastructure_gold</th>\n",
       "      <th>text_no_rt</th>\n",
       "      <th>tweet</th>\n",
       "      <th>type</th>\n",
       "      <th>user</th>\n",
       "      <th>what_infrastructure_was_damaged_if_infrastructure_gold</th>\n",
       "      <th>casualty_or_damage</th>\n",
       "    </tr>\n",
       "  </thead>\n",
       "  <tbody>\n",
       "    <tr>\n",
       "      <th>0</th>\n",
       "      <td>227175113</td>\n",
       "      <td>True</td>\n",
       "      <td>golden</td>\n",
       "      <td>12</td>\n",
       "      <td>11/23/2012 14:36:01</td>\n",
       "      <td>28\\n28\\n28\\n28\\n28\\n28\\n28\\n28\\n28\\n28\\n28\\n28</td>\n",
       "      <td>People: dead</td>\n",
       "      <td>1.0000</td>\n",
       "      <td>\\n\\n\\n\\n\\n\\n\\n\\n\\n\\n\\n</td>\n",
       "      <td>Informative (Direct or Indirect)</td>\n",
       "      <td>28</td>\n",
       "      <td>People: dead</td>\n",
       "      <td>28 deaths due to Hurricane Sandy | Charlotte t...</td>\n",
       "      <td>RT @HenderGrande: 28 deaths due to Hurricane S...</td>\n",
       "      <td>Casualties and damage</td>\n",
       "      <td>1EmmaHenderson</td>\n",
       "      <td>NaN</td>\n",
       "      <td>Casualty</td>\n",
       "    </tr>\n",
       "    <tr>\n",
       "      <th>1</th>\n",
       "      <td>227175114</td>\n",
       "      <td>True</td>\n",
       "      <td>golden</td>\n",
       "      <td>12</td>\n",
       "      <td>11/23/2012 13:13:34</td>\n",
       "      <td>50\\n50\\n50\\n50 people nationwide 18 were New Y...</td>\n",
       "      <td>Both people and infrastructure</td>\n",
       "      <td>0.7143</td>\n",
       "      <td>homes\\n\\n8 million homes\\n8 million homes stil...</td>\n",
       "      <td>Informative (Direct or Indirect)</td>\n",
       "      <td>50\\nkills 50 people nationwide\\n50 people nati...</td>\n",
       "      <td>People: dead\\nBoth people and infrastructure</td>\n",
       "      <td>Sandy kills 50 people nationwide 18 were New Y...</td>\n",
       "      <td>Sandy kills 50 people nationwide 18 were New Y...</td>\n",
       "      <td>Casualties and damage</td>\n",
       "      <td>9NEWS</td>\n",
       "      <td>8 million homes still without power\\n8 millio...</td>\n",
       "      <td>Casualty</td>\n",
       "    </tr>\n",
       "    <tr>\n",
       "      <th>2</th>\n",
       "      <td>227175115</td>\n",
       "      <td>True</td>\n",
       "      <td>golden</td>\n",
       "      <td>7</td>\n",
       "      <td>11/23/2012 09:09:19</td>\n",
       "      <td>\\n\\n\\n\\n\\n\\n</td>\n",
       "      <td>Infrastructure (building, bridge, road, etc.) ...</td>\n",
       "      <td>0.5353</td>\n",
       "      <td>\\nscaffolding toppling car\\nshot of scaffoldin...</td>\n",
       "      <td>Informative (Direct or Indirect)</td>\n",
       "      <td>NaN</td>\n",
       "      <td>Infrastructure (building, bridge, road, etc.) ...</td>\n",
       "      <td>RT @nowthised: Wider shot of scaffolding toppl...</td>\n",
       "      <td>RT @twc_hurricane: RT @nowthised: Wider shot o...</td>\n",
       "      <td>Casualties and damage</td>\n",
       "      <td>AbrahamAkiva</td>\n",
       "      <td>scaffolding toppling car\\nshot of scaffolding ...</td>\n",
       "      <td>Damage</td>\n",
       "    </tr>\n",
       "    <tr>\n",
       "      <th>3</th>\n",
       "      <td>227175116</td>\n",
       "      <td>True</td>\n",
       "      <td>golden</td>\n",
       "      <td>11</td>\n",
       "      <td>11/23/2012 13:20:51</td>\n",
       "      <td>\\n\\n\\n\\nnone\\n\\ntoll climbs\\n\\n\\n\\ntoll climbs</td>\n",
       "      <td>Both people and infrastructure</td>\n",
       "      <td>0.5651</td>\n",
       "      <td>homes\\npower, homes\\nThousands of homes\\nhomes...</td>\n",
       "      <td>Informative (Direct or Indirect)</td>\n",
       "      <td>N/A\\nN/a</td>\n",
       "      <td>Both people and infrastructure</td>\n",
       "      <td>Sandy death toll climbs; millions remain witho...</td>\n",
       "      <td>Sandy death toll climbs; millions remain witho...</td>\n",
       "      <td>Casualties and damage</td>\n",
       "      <td>alexandermimi</td>\n",
       "      <td>millions remain without power = electricity da...</td>\n",
       "      <td>Casualty</td>\n",
       "    </tr>\n",
       "    <tr>\n",
       "      <th>4</th>\n",
       "      <td>227175117</td>\n",
       "      <td>True</td>\n",
       "      <td>golden</td>\n",
       "      <td>15</td>\n",
       "      <td>11/23/2012 14:25:53</td>\n",
       "      <td>\\n\\n\\n\\n\\n\\n\\n\\n\\n\\n\\n\\n\\n\\n</td>\n",
       "      <td>Infrastructure (building, bridge, road, etc.) ...</td>\n",
       "      <td>1.0000</td>\n",
       "      <td>Extensive flooding in all subway tunnels\\nExte...</td>\n",
       "      <td>Informative (Direct or Indirect)</td>\n",
       "      <td>NaN</td>\n",
       "      <td>Infrastructure (building, bridge, road, etc.) ...</td>\n",
       "      <td>Extensive flooding in all subway tunnels says ...</td>\n",
       "      <td>RT @emmagkeller: Extensive flooding in all sub...</td>\n",
       "      <td>Casualties and damage</td>\n",
       "      <td>alischaw</td>\n",
       "      <td>all subway tunnels\\nExtensive flooding in all ...</td>\n",
       "      <td>Damage</td>\n",
       "    </tr>\n",
       "  </tbody>\n",
       "</table>\n",
       "</div>"
      ],
      "text/plain": [
       "    _unit_id  _golden _unit_state  _trusted_judgments    _last_judgment_at  \\\n",
       "0  227175113     True      golden                  12  11/23/2012 14:36:01   \n",
       "1  227175114     True      golden                  12  11/23/2012 13:13:34   \n",
       "2  227175115     True      golden                   7  11/23/2012 09:09:19   \n",
       "3  227175116     True      golden                  11  11/23/2012 13:20:51   \n",
       "4  227175117     True      golden                  15  11/23/2012 14:25:53   \n",
       "\n",
       "                  hom_many_injured_or_dead_if_people  \\\n",
       "0     28\\n28\\n28\\n28\\n28\\n28\\n28\\n28\\n28\\n28\\n28\\n28   \n",
       "1  50\\n50\\n50\\n50 people nationwide 18 were New Y...   \n",
       "2                                       \\n\\n\\n\\n\\n\\n   \n",
       "3     \\n\\n\\n\\nnone\\n\\ntoll climbs\\n\\n\\n\\ntoll climbs   \n",
       "4                       \\n\\n\\n\\n\\n\\n\\n\\n\\n\\n\\n\\n\\n\\n   \n",
       "\n",
       "                            people_or_infrastructure  \\\n",
       "0                                       People: dead   \n",
       "1                     Both people and infrastructure   \n",
       "2  Infrastructure (building, bridge, road, etc.) ...   \n",
       "3                     Both people and infrastructure   \n",
       "4  Infrastructure (building, bridge, road, etc.) ...   \n",
       "\n",
       "   people_or_infrastructure:confidence  \\\n",
       "0                               1.0000   \n",
       "1                               0.7143   \n",
       "2                               0.5353   \n",
       "3                               0.5651   \n",
       "4                               1.0000   \n",
       "\n",
       "   what_infrastructure_was_damaged_if_infrastructure  \\\n",
       "0                             \\n\\n\\n\\n\\n\\n\\n\\n\\n\\n\\n   \n",
       "1  homes\\n\\n8 million homes\\n8 million homes stil...   \n",
       "2  \\nscaffolding toppling car\\nshot of scaffoldin...   \n",
       "3  homes\\npower, homes\\nThousands of homes\\nhomes...   \n",
       "4  Extensive flooding in all subway tunnels\\nExte...   \n",
       "\n",
       "                           category  \\\n",
       "0  Informative (Direct or Indirect)   \n",
       "1  Informative (Direct or Indirect)   \n",
       "2  Informative (Direct or Indirect)   \n",
       "3  Informative (Direct or Indirect)   \n",
       "4  Informative (Direct or Indirect)   \n",
       "\n",
       "             hom_many_injured_or_dead_if_people_gold  \\\n",
       "0                                                 28   \n",
       "1  50\\nkills 50 people nationwide\\n50 people nati...   \n",
       "2                                                NaN   \n",
       "3                                           N/A\\nN/a   \n",
       "4                                                NaN   \n",
       "\n",
       "                       people_or_infrastructure_gold  \\\n",
       "0                                       People: dead   \n",
       "1       People: dead\\nBoth people and infrastructure   \n",
       "2  Infrastructure (building, bridge, road, etc.) ...   \n",
       "3                     Both people and infrastructure   \n",
       "4  Infrastructure (building, bridge, road, etc.) ...   \n",
       "\n",
       "                                          text_no_rt  \\\n",
       "0  28 deaths due to Hurricane Sandy | Charlotte t...   \n",
       "1  Sandy kills 50 people nationwide 18 were New Y...   \n",
       "2  RT @nowthised: Wider shot of scaffolding toppl...   \n",
       "3  Sandy death toll climbs; millions remain witho...   \n",
       "4  Extensive flooding in all subway tunnels says ...   \n",
       "\n",
       "                                               tweet                   type  \\\n",
       "0  RT @HenderGrande: 28 deaths due to Hurricane S...  Casualties and damage   \n",
       "1  Sandy kills 50 people nationwide 18 were New Y...  Casualties and damage   \n",
       "2  RT @twc_hurricane: RT @nowthised: Wider shot o...  Casualties and damage   \n",
       "3  Sandy death toll climbs; millions remain witho...  Casualties and damage   \n",
       "4  RT @emmagkeller: Extensive flooding in all sub...  Casualties and damage   \n",
       "\n",
       "             user what_infrastructure_was_damaged_if_infrastructure_gold  \\\n",
       "0  1EmmaHenderson                                                NaN       \n",
       "1           9NEWS   8 million homes still without power\\n8 millio...       \n",
       "2    AbrahamAkiva  scaffolding toppling car\\nshot of scaffolding ...       \n",
       "3   alexandermimi  millions remain without power = electricity da...       \n",
       "4        alischaw  all subway tunnels\\nExtensive flooding in all ...       \n",
       "\n",
       "  casualty_or_damage  \n",
       "0           Casualty  \n",
       "1           Casualty  \n",
       "2             Damage  \n",
       "3           Casualty  \n",
       "4             Damage  "
      ]
     },
     "execution_count": 104,
     "metadata": {},
     "output_type": "execute_result"
    }
   ],
   "source": [
    "swdm_damage_n_casualties_classify_extract.head()"
   ]
  },
  {
   "cell_type": "code",
   "execution_count": 105,
   "metadata": {},
   "outputs": [],
   "source": [
    "swdm_damage_n_casualties_classify_extract = swdm_damage_n_casualties_classify_extract[['_unit_id', 'tweet', 'casualty_or_damage']]"
   ]
  },
  {
   "cell_type": "code",
   "execution_count": 106,
   "metadata": {},
   "outputs": [
    {
     "data": {
      "text/html": [
       "<div>\n",
       "<style scoped>\n",
       "    .dataframe tbody tr th:only-of-type {\n",
       "        vertical-align: middle;\n",
       "    }\n",
       "\n",
       "    .dataframe tbody tr th {\n",
       "        vertical-align: top;\n",
       "    }\n",
       "\n",
       "    .dataframe thead th {\n",
       "        text-align: right;\n",
       "    }\n",
       "</style>\n",
       "<table border=\"1\" class=\"dataframe\">\n",
       "  <thead>\n",
       "    <tr style=\"text-align: right;\">\n",
       "      <th></th>\n",
       "      <th>_unit_id</th>\n",
       "      <th>tweet</th>\n",
       "      <th>casualty_or_damage</th>\n",
       "    </tr>\n",
       "  </thead>\n",
       "  <tbody>\n",
       "    <tr>\n",
       "      <th>0</th>\n",
       "      <td>227175113</td>\n",
       "      <td>RT @HenderGrande: 28 deaths due to Hurricane S...</td>\n",
       "      <td>Casualty</td>\n",
       "    </tr>\n",
       "    <tr>\n",
       "      <th>1</th>\n",
       "      <td>227175114</td>\n",
       "      <td>Sandy kills 50 people nationwide 18 were New Y...</td>\n",
       "      <td>Casualty</td>\n",
       "    </tr>\n",
       "    <tr>\n",
       "      <th>2</th>\n",
       "      <td>227175115</td>\n",
       "      <td>RT @twc_hurricane: RT @nowthised: Wider shot o...</td>\n",
       "      <td>Damage</td>\n",
       "    </tr>\n",
       "    <tr>\n",
       "      <th>3</th>\n",
       "      <td>227175116</td>\n",
       "      <td>Sandy death toll climbs; millions remain witho...</td>\n",
       "      <td>Casualty</td>\n",
       "    </tr>\n",
       "    <tr>\n",
       "      <th>4</th>\n",
       "      <td>227175117</td>\n",
       "      <td>RT @emmagkeller: Extensive flooding in all sub...</td>\n",
       "      <td>Damage</td>\n",
       "    </tr>\n",
       "  </tbody>\n",
       "</table>\n",
       "</div>"
      ],
      "text/plain": [
       "    _unit_id                                              tweet  \\\n",
       "0  227175113  RT @HenderGrande: 28 deaths due to Hurricane S...   \n",
       "1  227175114  Sandy kills 50 people nationwide 18 were New Y...   \n",
       "2  227175115  RT @twc_hurricane: RT @nowthised: Wider shot o...   \n",
       "3  227175116  Sandy death toll climbs; millions remain witho...   \n",
       "4  227175117  RT @emmagkeller: Extensive flooding in all sub...   \n",
       "\n",
       "  casualty_or_damage  \n",
       "0           Casualty  \n",
       "1           Casualty  \n",
       "2             Damage  \n",
       "3           Casualty  \n",
       "4             Damage  "
      ]
     },
     "execution_count": 106,
     "metadata": {},
     "output_type": "execute_result"
    }
   ],
   "source": [
    "swdm_damage_n_casualties_classify_extract.head()"
   ]
  },
  {
   "cell_type": "code",
   "execution_count": 107,
   "metadata": {},
   "outputs": [
    {
     "data": {
      "text/plain": [
       "(142, 3)"
      ]
     },
     "execution_count": 107,
     "metadata": {},
     "output_type": "execute_result"
    }
   ],
   "source": [
    "swdm_damage_n_casualties_classify_extract.shape"
   ]
  },
  {
   "cell_type": "code",
   "execution_count": 108,
   "metadata": {},
   "outputs": [],
   "source": [
    "swdm_combined_classification_1 = pd.read_csv(os.path.join(swdm_base_dir, '04_combined_classification/a154774.csv/a154774.csv'))"
   ]
  },
  {
   "cell_type": "code",
   "execution_count": 109,
   "metadata": {},
   "outputs": [
    {
     "data": {
      "text/html": [
       "<div>\n",
       "<style scoped>\n",
       "    .dataframe tbody tr th:only-of-type {\n",
       "        vertical-align: middle;\n",
       "    }\n",
       "\n",
       "    .dataframe tbody tr th {\n",
       "        vertical-align: top;\n",
       "    }\n",
       "\n",
       "    .dataframe thead th {\n",
       "        text-align: right;\n",
       "    }\n",
       "</style>\n",
       "<table border=\"1\" class=\"dataframe\">\n",
       "  <thead>\n",
       "    <tr style=\"text-align: right;\">\n",
       "      <th></th>\n",
       "      <th>_unit_id</th>\n",
       "      <th>_golden</th>\n",
       "      <th>_unit_state</th>\n",
       "      <th>_trusted_judgments</th>\n",
       "      <th>_last_judgment_at</th>\n",
       "      <th>the_author_of_the_tweet_seems_to_be_an_eye_witness_of_the_event</th>\n",
       "      <th>the_author_of_the_tweet_seems_to_be_an_eye_witness_of_the_event:confidence</th>\n",
       "      <th>type_of_message</th>\n",
       "      <th>type_of_message:confidence</th>\n",
       "      <th>nil</th>\n",
       "      <th>the_author_of_the_tweet_seems_to_be_an_eye_witness_of_the_event_gold</th>\n",
       "      <th>tweet</th>\n",
       "      <th>tweet_no</th>\n",
       "      <th>tweet_no_rt</th>\n",
       "      <th>type_of_message_gold</th>\n",
       "      <th>user</th>\n",
       "    </tr>\n",
       "  </thead>\n",
       "  <tbody>\n",
       "    <tr>\n",
       "      <th>0</th>\n",
       "      <td>238841781</td>\n",
       "      <td>False</td>\n",
       "      <td>finalized</td>\n",
       "      <td>4</td>\n",
       "      <td>1/2/2013 13:37:11</td>\n",
       "      <td>NaN</td>\n",
       "      <td>NaN</td>\n",
       "      <td>Informative: offers/gives donations of money, ...</td>\n",
       "      <td>0.2689</td>\n",
       "      <td>NaN</td>\n",
       "      <td>NaN</td>\n",
       "      <td>important --&amp;gt; @JebBush suggests federal gov...</td>\n",
       "      <td>11899</td>\n",
       "      <td>important --&amp;gt; @JebBush suggests federal gov...</td>\n",
       "      <td>NaN</td>\n",
       "      <td>danholler</td>\n",
       "    </tr>\n",
       "    <tr>\n",
       "      <th>1</th>\n",
       "      <td>238841782</td>\n",
       "      <td>False</td>\n",
       "      <td>finalized</td>\n",
       "      <td>4</td>\n",
       "      <td>12/24/2012 14:05:56</td>\n",
       "      <td>True</td>\n",
       "      <td>1.0</td>\n",
       "      <td>Not informative: personal only</td>\n",
       "      <td>0.7772</td>\n",
       "      <td>NaN</td>\n",
       "      <td>NaN</td>\n",
       "      <td>@ChrisMara816: Screw #sandy we skipped right a...</td>\n",
       "      <td>116293</td>\n",
       "      <td>@ChrisMara816: Screw #sandy we skipped right a...</td>\n",
       "      <td>NaN</td>\n",
       "      <td>kaatteexo</td>\n",
       "    </tr>\n",
       "  </tbody>\n",
       "</table>\n",
       "</div>"
      ],
      "text/plain": [
       "    _unit_id  _golden _unit_state  _trusted_judgments    _last_judgment_at  \\\n",
       "0  238841781    False   finalized                   4    1/2/2013 13:37:11   \n",
       "1  238841782    False   finalized                   4  12/24/2012 14:05:56   \n",
       "\n",
       "  the_author_of_the_tweet_seems_to_be_an_eye_witness_of_the_event  \\\n",
       "0                                                NaN                \n",
       "1                                               True                \n",
       "\n",
       "   the_author_of_the_tweet_seems_to_be_an_eye_witness_of_the_event:confidence  \\\n",
       "0                                                NaN                            \n",
       "1                                                1.0                            \n",
       "\n",
       "                                     type_of_message  \\\n",
       "0  Informative: offers/gives donations of money, ...   \n",
       "1                     Not informative: personal only   \n",
       "\n",
       "   type_of_message:confidence  nil  \\\n",
       "0                      0.2689  NaN   \n",
       "1                      0.7772  NaN   \n",
       "\n",
       "  the_author_of_the_tweet_seems_to_be_an_eye_witness_of_the_event_gold  \\\n",
       "0                                                NaN                     \n",
       "1                                                NaN                     \n",
       "\n",
       "                                               tweet  tweet_no  \\\n",
       "0  important --&gt; @JebBush suggests federal gov...     11899   \n",
       "1  @ChrisMara816: Screw #sandy we skipped right a...    116293   \n",
       "\n",
       "                                         tweet_no_rt type_of_message_gold  \\\n",
       "0  important --&gt; @JebBush suggests federal gov...                  NaN   \n",
       "1  @ChrisMara816: Screw #sandy we skipped right a...                  NaN   \n",
       "\n",
       "        user  \n",
       "0  danholler  \n",
       "1  kaatteexo  "
      ]
     },
     "execution_count": 109,
     "metadata": {},
     "output_type": "execute_result"
    }
   ],
   "source": [
    "swdm_combined_classification_1.head(2)"
   ]
  },
  {
   "cell_type": "code",
   "execution_count": 110,
   "metadata": {},
   "outputs": [
    {
     "data": {
      "text/plain": [
       "array(['Informative: offers/gives donations of money, goods, or free services',\n",
       "       'Not informative: personal only',\n",
       "       'Informative: information source with extensive coverage (radio, tv, website, etc.)',\n",
       "       'Informative: damage (building, road, lines, etc.)',\n",
       "       'Can not judge (not in English, too short, etc.)',\n",
       "       'Informative: celebrities or authorities react to the event or visit the area',\n",
       "       'Informative: other', 'Informative: caution or advice',\n",
       "       'Informative: casualties (people injured or dead)',\n",
       "       'Not informative: unrelated to the disaster',\n",
       "       'Informative: requests donations of money, goods, or free services',\n",
       "       'Informative: other type of photos/videos (not in the above classes)',\n",
       "       'Informative: people missing, or lost people found'], dtype=object)"
      ]
     },
     "execution_count": 110,
     "metadata": {},
     "output_type": "execute_result"
    }
   ],
   "source": [
    "swdm_combined_classification_1['type_of_message'].unique()"
   ]
  },
  {
   "cell_type": "code",
   "execution_count": 111,
   "metadata": {},
   "outputs": [
    {
     "data": {
      "text/plain": [
       "Index(['_unit_id', '_golden', '_unit_state', '_trusted_judgments',\n",
       "       '_last_judgment_at',\n",
       "       'the_author_of_the_tweet_seems_to_be_an_eye_witness_of_the_event',\n",
       "       'the_author_of_the_tweet_seems_to_be_an_eye_witness_of_the_event:confidence',\n",
       "       'type_of_message', 'type_of_message:confidence', 'nil',\n",
       "       'the_author_of_the_tweet_seems_to_be_an_eye_witness_of_the_event_gold',\n",
       "       'tweet', 'tweet_no', 'tweet_no_rt', 'type_of_message_gold', 'user'],\n",
       "      dtype='object')"
      ]
     },
     "execution_count": 111,
     "metadata": {},
     "output_type": "execute_result"
    }
   ],
   "source": [
    "swdm_combined_classification_1.columns"
   ]
  },
  {
   "cell_type": "code",
   "execution_count": 112,
   "metadata": {},
   "outputs": [],
   "source": [
    "swdm_combined_classification_1['category'] = swdm_combined_classification_1['type_of_message'].apply(lambda x: 'Donations' if 'donations' in x else('Damage' if 'damage' in x else('Caution and Advice' if 'caution' in x else('Casualty' if 'casualties' in x else('Search and Rescue' if 'missing' in x else('Other'))))))"
   ]
  },
  {
   "cell_type": "code",
   "execution_count": 113,
   "metadata": {},
   "outputs": [
    {
     "data": {
      "text/plain": [
       "array(['Donations', 'Other', 'Damage', 'Caution and Advice', 'Casualty',\n",
       "       'Search and Rescue'], dtype=object)"
      ]
     },
     "execution_count": 113,
     "metadata": {},
     "output_type": "execute_result"
    }
   ],
   "source": [
    "swdm_combined_classification_1['category'].unique()"
   ]
  },
  {
   "cell_type": "code",
   "execution_count": 114,
   "metadata": {},
   "outputs": [
    {
     "data": {
      "text/plain": [
       "(1987, 17)"
      ]
     },
     "execution_count": 114,
     "metadata": {},
     "output_type": "execute_result"
    }
   ],
   "source": [
    "swdm_combined_classification_1.shape"
   ]
  },
  {
   "cell_type": "code",
   "execution_count": 115,
   "metadata": {},
   "outputs": [],
   "source": [
    "swdm_combined_classification_1 = swdm_combined_classification_1.drop(swdm_combined_classification_1[swdm_combined_classification_1['category'] == 'Other'].index, axis=0)"
   ]
  },
  {
   "cell_type": "code",
   "execution_count": 116,
   "metadata": {
    "scrolled": true
   },
   "outputs": [
    {
     "data": {
      "text/plain": [
       "Index(['_unit_id', '_golden', '_unit_state', '_trusted_judgments',\n",
       "       '_last_judgment_at',\n",
       "       'the_author_of_the_tweet_seems_to_be_an_eye_witness_of_the_event',\n",
       "       'the_author_of_the_tweet_seems_to_be_an_eye_witness_of_the_event:confidence',\n",
       "       'type_of_message', 'type_of_message:confidence', 'nil',\n",
       "       'the_author_of_the_tweet_seems_to_be_an_eye_witness_of_the_event_gold',\n",
       "       'tweet', 'tweet_no', 'tweet_no_rt', 'type_of_message_gold', 'user',\n",
       "       'category'],\n",
       "      dtype='object')"
      ]
     },
     "execution_count": 116,
     "metadata": {},
     "output_type": "execute_result"
    }
   ],
   "source": [
    "swdm_combined_classification_1.columns"
   ]
  },
  {
   "cell_type": "code",
   "execution_count": null,
   "metadata": {},
   "outputs": [],
   "source": []
  },
  {
   "cell_type": "code",
   "execution_count": 117,
   "metadata": {},
   "outputs": [],
   "source": [
    "swdm_combined_classification_1 = swdm_combined_classification_1[['_unit_id', 'tweet', 'category']]"
   ]
  },
  {
   "cell_type": "code",
   "execution_count": 118,
   "metadata": {},
   "outputs": [
    {
     "data": {
      "text/html": [
       "<div>\n",
       "<style scoped>\n",
       "    .dataframe tbody tr th:only-of-type {\n",
       "        vertical-align: middle;\n",
       "    }\n",
       "\n",
       "    .dataframe tbody tr th {\n",
       "        vertical-align: top;\n",
       "    }\n",
       "\n",
       "    .dataframe thead th {\n",
       "        text-align: right;\n",
       "    }\n",
       "</style>\n",
       "<table border=\"1\" class=\"dataframe\">\n",
       "  <thead>\n",
       "    <tr style=\"text-align: right;\">\n",
       "      <th></th>\n",
       "      <th>_unit_id</th>\n",
       "      <th>tweet</th>\n",
       "      <th>category</th>\n",
       "    </tr>\n",
       "  </thead>\n",
       "  <tbody>\n",
       "    <tr>\n",
       "      <th>0</th>\n",
       "      <td>238841781</td>\n",
       "      <td>important --&amp;gt; @JebBush suggests federal gov...</td>\n",
       "      <td>Donations</td>\n",
       "    </tr>\n",
       "    <tr>\n",
       "      <th>3</th>\n",
       "      <td>238841784</td>\n",
       "      <td>RT @nytimes: More than 8 million homes in the ...</td>\n",
       "      <td>Damage</td>\n",
       "    </tr>\n",
       "    <tr>\n",
       "      <th>8</th>\n",
       "      <td>238841789</td>\n",
       "      <td>RT @MikeBloomberg: The time for evacuation is ...</td>\n",
       "      <td>Caution and Advice</td>\n",
       "    </tr>\n",
       "    <tr>\n",
       "      <th>10</th>\n",
       "      <td>238841791</td>\n",
       "      <td>US counts cost as Sandy recedes: At least 32 p...</td>\n",
       "      <td>Casualty</td>\n",
       "    </tr>\n",
       "    <tr>\n",
       "      <th>13</th>\n",
       "      <td>238841794</td>\n",
       "      <td>Is in NYC which is on transport and services l...</td>\n",
       "      <td>Caution and Advice</td>\n",
       "    </tr>\n",
       "  </tbody>\n",
       "</table>\n",
       "</div>"
      ],
      "text/plain": [
       "     _unit_id                                              tweet  \\\n",
       "0   238841781  important --&gt; @JebBush suggests federal gov...   \n",
       "3   238841784  RT @nytimes: More than 8 million homes in the ...   \n",
       "8   238841789  RT @MikeBloomberg: The time for evacuation is ...   \n",
       "10  238841791  US counts cost as Sandy recedes: At least 32 p...   \n",
       "13  238841794  Is in NYC which is on transport and services l...   \n",
       "\n",
       "              category  \n",
       "0            Donations  \n",
       "3               Damage  \n",
       "8   Caution and Advice  \n",
       "10            Casualty  \n",
       "13  Caution and Advice  "
      ]
     },
     "execution_count": 118,
     "metadata": {},
     "output_type": "execute_result"
    }
   ],
   "source": [
    "swdm_combined_classification_1.head()"
   ]
  },
  {
   "cell_type": "code",
   "execution_count": 119,
   "metadata": {},
   "outputs": [
    {
     "data": {
      "text/plain": [
       "Index(['_unit_id', 'tweet', 'choose_one'], dtype='object')"
      ]
     },
     "execution_count": 119,
     "metadata": {},
     "output_type": "execute_result"
    }
   ],
   "source": [
    "swdm_informative_caution_infosrc_donation_damage_other.columns"
   ]
  },
  {
   "cell_type": "code",
   "execution_count": 120,
   "metadata": {},
   "outputs": [
    {
     "data": {
      "text/plain": [
       "Index(['_unit_id', 'tweet', 'casualty_or_damage'], dtype='object')"
      ]
     },
     "execution_count": 120,
     "metadata": {},
     "output_type": "execute_result"
    }
   ],
   "source": [
    "swdm_damage_n_casualties_classify_extract.columns"
   ]
  },
  {
   "cell_type": "code",
   "execution_count": 121,
   "metadata": {},
   "outputs": [
    {
     "data": {
      "text/plain": [
       "Index(['_unit_id', 'tweet', 'category'], dtype='object')"
      ]
     },
     "execution_count": 121,
     "metadata": {},
     "output_type": "execute_result"
    }
   ],
   "source": [
    "swdm_combined_classification_1.columns"
   ]
  },
  {
   "cell_type": "code",
   "execution_count": 122,
   "metadata": {},
   "outputs": [],
   "source": [
    "swdm_informative_caution_infosrc_donation_damage_other = swdm_informative_caution_infosrc_donation_damage_other.rename(columns={\n",
    "    '_unit_id': 'ID',\n",
    "    'tweet': 'Tweet',\n",
    "    'choose_one': 'Label'\n",
    "})\n",
    "\n",
    "swdm_damage_n_casualties_classify_extract = swdm_damage_n_casualties_classify_extract.rename(columns={\n",
    "    '_unit_id': 'ID',\n",
    "    'tweet': 'Tweet',\n",
    "    'casualty_or_damage': 'Label'\n",
    "})\n",
    "\n",
    "swdm_combined_classification_1 = swdm_combined_classification_1.rename(columns={\n",
    "    '_unit_id': 'ID',\n",
    "    'tweet': 'Tweet',\n",
    "    'category': 'Label'\n",
    "})"
   ]
  },
  {
   "cell_type": "code",
   "execution_count": 123,
   "metadata": {},
   "outputs": [],
   "source": [
    "swdm_2013 = pd.concat([swdm_informative_caution_infosrc_donation_damage_other, swdm_damage_n_casualties_classify_extract, swdm_combined_classification_1])"
   ]
  },
  {
   "cell_type": "code",
   "execution_count": 124,
   "metadata": {
    "scrolled": true
   },
   "outputs": [],
   "source": [
    "swdm_2013 = swdm_2013.reset_index(drop='True')"
   ]
  },
  {
   "cell_type": "code",
   "execution_count": 125,
   "metadata": {},
   "outputs": [
    {
     "data": {
      "text/html": [
       "<div>\n",
       "<style scoped>\n",
       "    .dataframe tbody tr th:only-of-type {\n",
       "        vertical-align: middle;\n",
       "    }\n",
       "\n",
       "    .dataframe tbody tr th {\n",
       "        vertical-align: top;\n",
       "    }\n",
       "\n",
       "    .dataframe thead th {\n",
       "        text-align: right;\n",
       "    }\n",
       "</style>\n",
       "<table border=\"1\" class=\"dataframe\">\n",
       "  <thead>\n",
       "    <tr style=\"text-align: right;\">\n",
       "      <th></th>\n",
       "      <th>ID</th>\n",
       "      <th>Tweet</th>\n",
       "      <th>Label</th>\n",
       "    </tr>\n",
       "  </thead>\n",
       "  <tbody>\n",
       "    <tr>\n",
       "      <th>0</th>\n",
       "      <td>223607033</td>\n",
       "      <td>RT @growingwisdom: #Sandy will be onshore abou...</td>\n",
       "      <td>Caution and advice</td>\n",
       "    </tr>\n",
       "    <tr>\n",
       "      <th>1</th>\n",
       "      <td>223607034</td>\n",
       "      <td>@ChrisFRC lost startups can go to @AlleyNYC. T...</td>\n",
       "      <td>Donations of money, goods or services</td>\n",
       "    </tr>\n",
       "    <tr>\n",
       "      <th>2</th>\n",
       "      <td>223607037</td>\n",
       "      <td>400 Volunteers are needed for areas that took ...</td>\n",
       "      <td>Donations of money, goods or services</td>\n",
       "    </tr>\n",
       "    <tr>\n",
       "      <th>3</th>\n",
       "      <td>223607038</td>\n",
       "      <td>Storm just now hitting Jersey...Milford is fee...</td>\n",
       "      <td>Caution and advice</td>\n",
       "    </tr>\n",
       "    <tr>\n",
       "      <th>4</th>\n",
       "      <td>223607039</td>\n",
       "      <td>RT @ChrisCQuinn: City Public Schools will be c...</td>\n",
       "      <td>Caution and advice</td>\n",
       "    </tr>\n",
       "  </tbody>\n",
       "</table>\n",
       "</div>"
      ],
      "text/plain": [
       "          ID                                              Tweet  \\\n",
       "0  223607033  RT @growingwisdom: #Sandy will be onshore abou...   \n",
       "1  223607034  @ChrisFRC lost startups can go to @AlleyNYC. T...   \n",
       "2  223607037  400 Volunteers are needed for areas that took ...   \n",
       "3  223607038  Storm just now hitting Jersey...Milford is fee...   \n",
       "4  223607039  RT @ChrisCQuinn: City Public Schools will be c...   \n",
       "\n",
       "                                   Label  \n",
       "0                     Caution and advice  \n",
       "1  Donations of money, goods or services  \n",
       "2  Donations of money, goods or services  \n",
       "3                     Caution and advice  \n",
       "4                     Caution and advice  "
      ]
     },
     "execution_count": 125,
     "metadata": {},
     "output_type": "execute_result"
    }
   ],
   "source": [
    "swdm_2013.head()"
   ]
  },
  {
   "cell_type": "code",
   "execution_count": 126,
   "metadata": {},
   "outputs": [
    {
     "data": {
      "text/plain": [
       "Damage                                   316\n",
       "Caution and advice                       144\n",
       "Caution and Advice                       127\n",
       "Unknown                                  125\n",
       "Donations                                105\n",
       "Casualty                                  90\n",
       "Information Source                        72\n",
       "Donations of money, goods or services     32\n",
       "Search and Rescue                          3\n",
       "Name: Label, dtype: int64"
      ]
     },
     "execution_count": 126,
     "metadata": {},
     "output_type": "execute_result"
    }
   ],
   "source": [
    "swdm_2013['Label'].value_counts()"
   ]
  },
  {
   "cell_type": "code",
   "execution_count": 127,
   "metadata": {},
   "outputs": [
    {
     "data": {
      "text/plain": [
       "<AxesSubplot:>"
      ]
     },
     "execution_count": 127,
     "metadata": {},
     "output_type": "execute_result"
    },
    {
     "data": {
      "image/png": "[encoded data removed]",
      "text/plain": [
       "<Figure size 432x288 with 1 Axes>"
      ]
     },
     "metadata": {
      "needs_background": "light"
     },
     "output_type": "display_data"
    }
   ],
   "source": [
    "swdm_2013['Label'].value_counts(ascending=True).plot(kind=\"barh\")"
   ]
  },
  {
   "cell_type": "markdown",
   "metadata": {},
   "source": [
    "### **Load in the ISCRAM2013 dataset**"
   ]
  },
  {
   "cell_type": "code",
   "execution_count": 128,
   "metadata": {},
   "outputs": [],
   "source": [
    "iscram_base_dir = 'C:/Users/Kelvin Chumbe/Downloads/Datasets/Capstone_Twitter Modelling Datasets/ISCRAM2013_dataset/ISCRAM2013_dataset/Joplin_2011_labeled_data'"
   ]
  },
  {
   "cell_type": "code",
   "execution_count": 129,
   "metadata": {},
   "outputs": [],
   "source": [
    "iscram_informative_caution_infosrc_donation_damage_other = pd.read_csv(os.path.join(iscram_base_dir, '02_informative_caution-infosrc-donation-damage-other/a121571.csv'))"
   ]
  },
  {
   "cell_type": "code",
   "execution_count": 130,
   "metadata": {
    "scrolled": true
   },
   "outputs": [
    {
     "data": {
      "text/html": [
       "<div>\n",
       "<style scoped>\n",
       "    .dataframe tbody tr th:only-of-type {\n",
       "        vertical-align: middle;\n",
       "    }\n",
       "\n",
       "    .dataframe tbody tr th {\n",
       "        vertical-align: top;\n",
       "    }\n",
       "\n",
       "    .dataframe thead th {\n",
       "        text-align: right;\n",
       "    }\n",
       "</style>\n",
       "<table border=\"1\" class=\"dataframe\">\n",
       "  <thead>\n",
       "    <tr style=\"text-align: right;\">\n",
       "      <th></th>\n",
       "      <th>_unit_id</th>\n",
       "      <th>_golden</th>\n",
       "      <th>_unit_state</th>\n",
       "      <th>_trusted_judgments</th>\n",
       "      <th>_last_judgment_at</th>\n",
       "      <th>choose_one</th>\n",
       "      <th>choose_one:confidence</th>\n",
       "      <th>choose_one_gold</th>\n",
       "      <th>id</th>\n",
       "      <th>retweetcount</th>\n",
       "      <th>screenname</th>\n",
       "      <th>text</th>\n",
       "      <th>userid</th>\n",
       "    </tr>\n",
       "  </thead>\n",
       "  <tbody>\n",
       "    <tr>\n",
       "      <th>0</th>\n",
       "      <td>191082764</td>\n",
       "      <td>False</td>\n",
       "      <td>finalized</td>\n",
       "      <td>3</td>\n",
       "      <td>8/12/2012 13:24:55</td>\n",
       "      <td>Caution and advice</td>\n",
       "      <td>1.0000</td>\n",
       "      <td>NaN</td>\n",
       "      <td>74943468706873200</td>\n",
       "      <td>0.0</td>\n",
       "      <td>1stJoshRobinson</td>\n",
       "      <td>Yesterday was supposed to be 70 and sunny/cold...</td>\n",
       "      <td>85940638.0</td>\n",
       "    </tr>\n",
       "    <tr>\n",
       "      <th>1</th>\n",
       "      <td>191082765</td>\n",
       "      <td>False</td>\n",
       "      <td>finalized</td>\n",
       "      <td>4</td>\n",
       "      <td>8/12/2012 13:38:35</td>\n",
       "      <td>Information source</td>\n",
       "      <td>0.4896</td>\n",
       "      <td>NaN</td>\n",
       "      <td>74301096193040304</td>\n",
       "      <td>0.0</td>\n",
       "      <td>jenr8rluvsJesus</td>\n",
       "      <td>@fox12weather re: tornado. I live in Vancouver...</td>\n",
       "      <td>46529360.0</td>\n",
       "    </tr>\n",
       "  </tbody>\n",
       "</table>\n",
       "</div>"
      ],
      "text/plain": [
       "    _unit_id  _golden _unit_state  _trusted_judgments   _last_judgment_at  \\\n",
       "0  191082764    False   finalized                   3  8/12/2012 13:24:55   \n",
       "1  191082765    False   finalized                   4  8/12/2012 13:38:35   \n",
       "\n",
       "           choose_one  choose_one:confidence choose_one_gold  \\\n",
       "0  Caution and advice                 1.0000             NaN   \n",
       "1  Information source                 0.4896             NaN   \n",
       "\n",
       "                  id  retweetcount       screenname  \\\n",
       "0  74943468706873200           0.0  1stJoshRobinson   \n",
       "1  74301096193040304           0.0  jenr8rluvsJesus   \n",
       "\n",
       "                                                text      userid  \n",
       "0  Yesterday was supposed to be 70 and sunny/cold...  85940638.0  \n",
       "1  @fox12weather re: tornado. I live in Vancouver...  46529360.0  "
      ]
     },
     "execution_count": 130,
     "metadata": {},
     "output_type": "execute_result"
    }
   ],
   "source": [
    "iscram_informative_caution_infosrc_donation_damage_other.head(2)"
   ]
  },
  {
   "cell_type": "code",
   "execution_count": 131,
   "metadata": {},
   "outputs": [],
   "source": [
    "iscram_informative_caution_infosrc_donation_damage_other = iscram_informative_caution_infosrc_donation_damage_other[['id', 'text', 'choose_one']]"
   ]
  },
  {
   "cell_type": "code",
   "execution_count": 132,
   "metadata": {
    "scrolled": true
   },
   "outputs": [
    {
     "data": {
      "text/html": [
       "<div>\n",
       "<style scoped>\n",
       "    .dataframe tbody tr th:only-of-type {\n",
       "        vertical-align: middle;\n",
       "    }\n",
       "\n",
       "    .dataframe tbody tr th {\n",
       "        vertical-align: top;\n",
       "    }\n",
       "\n",
       "    .dataframe thead th {\n",
       "        text-align: right;\n",
       "    }\n",
       "</style>\n",
       "<table border=\"1\" class=\"dataframe\">\n",
       "  <thead>\n",
       "    <tr style=\"text-align: right;\">\n",
       "      <th></th>\n",
       "      <th>id</th>\n",
       "      <th>text</th>\n",
       "      <th>choose_one</th>\n",
       "    </tr>\n",
       "  </thead>\n",
       "  <tbody>\n",
       "    <tr>\n",
       "      <th>0</th>\n",
       "      <td>74943468706873200</td>\n",
       "      <td>Yesterday was supposed to be 70 and sunny/cold...</td>\n",
       "      <td>Caution and advice</td>\n",
       "    </tr>\n",
       "    <tr>\n",
       "      <th>1</th>\n",
       "      <td>74301096193040304</td>\n",
       "      <td>@fox12weather re: tornado. I live in Vancouver...</td>\n",
       "      <td>Information source</td>\n",
       "    </tr>\n",
       "    <tr>\n",
       "      <th>2</th>\n",
       "      <td>77764430137536400</td>\n",
       "      <td>@TippingPointSEO: please follow my friends @R...</td>\n",
       "      <td>Donations of money, goods or services</td>\n",
       "    </tr>\n",
       "    <tr>\n",
       "      <th>3</th>\n",
       "      <td>77449750374395904</td>\n",
       "      <td>My house was blown away by a tornado, but a fa...</td>\n",
       "      <td>Casualties and damage</td>\n",
       "    </tr>\n",
       "    <tr>\n",
       "      <th>4</th>\n",
       "      <td>76134461049274304</td>\n",
       "      <td>@Juss2Live: News was goin crazy about tornado...</td>\n",
       "      <td>Caution and advice</td>\n",
       "    </tr>\n",
       "  </tbody>\n",
       "</table>\n",
       "</div>"
      ],
      "text/plain": [
       "                  id                                               text  \\\n",
       "0  74943468706873200  Yesterday was supposed to be 70 and sunny/cold...   \n",
       "1  74301096193040304  @fox12weather re: tornado. I live in Vancouver...   \n",
       "2  77764430137536400   @TippingPointSEO: please follow my friends @R...   \n",
       "3  77449750374395904  My house was blown away by a tornado, but a fa...   \n",
       "4  76134461049274304   @Juss2Live: News was goin crazy about tornado...   \n",
       "\n",
       "                              choose_one  \n",
       "0                     Caution and advice  \n",
       "1                     Information source  \n",
       "2  Donations of money, goods or services  \n",
       "3                  Casualties and damage  \n",
       "4                     Caution and advice  "
      ]
     },
     "execution_count": 132,
     "metadata": {},
     "output_type": "execute_result"
    }
   ],
   "source": [
    "iscram_informative_caution_infosrc_donation_damage_other.head()"
   ]
  },
  {
   "cell_type": "code",
   "execution_count": 133,
   "metadata": {},
   "outputs": [],
   "source": [
    "# Drop casualties and damage column and load the data from a different dataset to merge\n",
    "iscram_informative_caution_infosrc_donation_damage_other = iscram_informative_caution_infosrc_donation_damage_other.drop(iscram_informative_caution_infosrc_donation_damage_other[iscram_informative_caution_infosrc_donation_damage_other['choose_one'] == 'Casualties and damage'].index, axis=0)"
   ]
  },
  {
   "cell_type": "code",
   "execution_count": 134,
   "metadata": {},
   "outputs": [
    {
     "data": {
      "text/html": [
       "<div>\n",
       "<style scoped>\n",
       "    .dataframe tbody tr th:only-of-type {\n",
       "        vertical-align: middle;\n",
       "    }\n",
       "\n",
       "    .dataframe tbody tr th {\n",
       "        vertical-align: top;\n",
       "    }\n",
       "\n",
       "    .dataframe thead th {\n",
       "        text-align: right;\n",
       "    }\n",
       "</style>\n",
       "<table border=\"1\" class=\"dataframe\">\n",
       "  <thead>\n",
       "    <tr style=\"text-align: right;\">\n",
       "      <th></th>\n",
       "      <th>id</th>\n",
       "      <th>text</th>\n",
       "      <th>choose_one</th>\n",
       "    </tr>\n",
       "  </thead>\n",
       "  <tbody>\n",
       "    <tr>\n",
       "      <th>0</th>\n",
       "      <td>74943468706873200</td>\n",
       "      <td>Yesterday was supposed to be 70 and sunny/cold...</td>\n",
       "      <td>Caution and advice</td>\n",
       "    </tr>\n",
       "    <tr>\n",
       "      <th>1</th>\n",
       "      <td>74301096193040304</td>\n",
       "      <td>@fox12weather re: tornado. I live in Vancouver...</td>\n",
       "      <td>Information source</td>\n",
       "    </tr>\n",
       "    <tr>\n",
       "      <th>2</th>\n",
       "      <td>77764430137536400</td>\n",
       "      <td>@TippingPointSEO: please follow my friends @R...</td>\n",
       "      <td>Donations of money, goods or services</td>\n",
       "    </tr>\n",
       "    <tr>\n",
       "      <th>4</th>\n",
       "      <td>76134461049274304</td>\n",
       "      <td>@Juss2Live: News was goin crazy about tornado...</td>\n",
       "      <td>Caution and advice</td>\n",
       "    </tr>\n",
       "    <tr>\n",
       "      <th>5</th>\n",
       "      <td>73047761146216400</td>\n",
       "      <td>@ztdrew78: Heading to #joplin wit the #jimbak...</td>\n",
       "      <td>Donations of money, goods or services</td>\n",
       "    </tr>\n",
       "  </tbody>\n",
       "</table>\n",
       "</div>"
      ],
      "text/plain": [
       "                  id                                               text  \\\n",
       "0  74943468706873200  Yesterday was supposed to be 70 and sunny/cold...   \n",
       "1  74301096193040304  @fox12weather re: tornado. I live in Vancouver...   \n",
       "2  77764430137536400   @TippingPointSEO: please follow my friends @R...   \n",
       "4  76134461049274304   @Juss2Live: News was goin crazy about tornado...   \n",
       "5  73047761146216400   @ztdrew78: Heading to #joplin wit the #jimbak...   \n",
       "\n",
       "                              choose_one  \n",
       "0                     Caution and advice  \n",
       "1                     Information source  \n",
       "2  Donations of money, goods or services  \n",
       "4                     Caution and advice  \n",
       "5  Donations of money, goods or services  "
      ]
     },
     "execution_count": 134,
     "metadata": {},
     "output_type": "execute_result"
    }
   ],
   "source": [
    "iscram_informative_caution_infosrc_donation_damage_other.head()"
   ]
  },
  {
   "cell_type": "code",
   "execution_count": 135,
   "metadata": {},
   "outputs": [
    {
     "data": {
      "text/plain": [
       "array(['Caution and advice', 'Information source',\n",
       "       'Donations of money, goods or services', 'Unknown',\n",
       "       'People missing, found or seen'], dtype=object)"
      ]
     },
     "execution_count": 135,
     "metadata": {},
     "output_type": "execute_result"
    }
   ],
   "source": [
    "iscram_informative_caution_infosrc_donation_damage_other['choose_one'].unique()"
   ]
  },
  {
   "cell_type": "code",
   "execution_count": 136,
   "metadata": {},
   "outputs": [],
   "source": [
    "iscram_damage_n_casualties_classify_extract = pd.read_csv(os.path.join(iscram_base_dir, '03_damage-n-casualties_classify-extract/a126730.csv'))"
   ]
  },
  {
   "cell_type": "code",
   "execution_count": 137,
   "metadata": {
    "scrolled": true
   },
   "outputs": [
    {
     "data": {
      "text/html": [
       "<div>\n",
       "<style scoped>\n",
       "    .dataframe tbody tr th:only-of-type {\n",
       "        vertical-align: middle;\n",
       "    }\n",
       "\n",
       "    .dataframe tbody tr th {\n",
       "        vertical-align: top;\n",
       "    }\n",
       "\n",
       "    .dataframe thead th {\n",
       "        text-align: right;\n",
       "    }\n",
       "</style>\n",
       "<table border=\"1\" class=\"dataframe\">\n",
       "  <thead>\n",
       "    <tr style=\"text-align: right;\">\n",
       "      <th></th>\n",
       "      <th>_unit_id</th>\n",
       "      <th>_golden</th>\n",
       "      <th>_unit_state</th>\n",
       "      <th>_trusted_judgments</th>\n",
       "      <th>_last_judgment_at</th>\n",
       "      <th>how_many_injured_or_dead_if_people</th>\n",
       "      <th>people_or_infrastructure</th>\n",
       "      <th>people_or_infrastructure:confidence</th>\n",
       "      <th>what_infrastructure_was_damaged_if_infrastructure</th>\n",
       "      <th>category</th>\n",
       "      <th>how_many_injured_or_dead_if_people_gold</th>\n",
       "      <th>id</th>\n",
       "      <th>people_or_infrastructure_gold</th>\n",
       "      <th>screenname</th>\n",
       "      <th>text</th>\n",
       "      <th>userid</th>\n",
       "    </tr>\n",
       "  </thead>\n",
       "  <tbody>\n",
       "    <tr>\n",
       "      <th>0</th>\n",
       "      <td>197560956</td>\n",
       "      <td>True</td>\n",
       "      <td>golden</td>\n",
       "      <td>8</td>\n",
       "      <td>9/6/2012 12:48:30</td>\n",
       "      <td>\\n\\nhouse\\nhouse\\nn/a\\nn/a\\nn/a\\n</td>\n",
       "      <td>Infrastructure (building, bridge, road, etc.) ...</td>\n",
       "      <td>0.7573</td>\n",
       "      <td>house\\nhouse\\n\\n\\nn/a\\nn/a\\nn/a\\nhouse</td>\n",
       "      <td>Casualties and damage</td>\n",
       "      <td>NaN</td>\n",
       "      <td>77449750374395904</td>\n",
       "      <td>Infrastructure (building, bridge, road, etc.) ...</td>\n",
       "      <td>IvanTheTurrible</td>\n",
       "      <td>My house was blown away by a tornado, but a fa...</td>\n",
       "      <td>33371804.0</td>\n",
       "    </tr>\n",
       "    <tr>\n",
       "      <th>1</th>\n",
       "      <td>197560957</td>\n",
       "      <td>True</td>\n",
       "      <td>golden</td>\n",
       "      <td>7</td>\n",
       "      <td>9/6/2012 12:43:58</td>\n",
       "      <td>\\nchurch\\n\\nn/a\\nn/a\\nn/a\\n</td>\n",
       "      <td>Infrastructure (building, bridge, road, etc.) ...</td>\n",
       "      <td>1.0000</td>\n",
       "      <td>Church\\n\\nchurch\\nn/a\\nn/a\\nn/a\\nchurch</td>\n",
       "      <td>Casualties and damage</td>\n",
       "      <td>NaN</td>\n",
       "      <td>74098675349073904</td>\n",
       "      <td>Infrastructure (building, bridge, road, etc.) ...</td>\n",
       "      <td>DanielCrane81</td>\n",
       "      <td>@andersoncooper: I took this earlier. Cross s...</td>\n",
       "      <td>195277911.0</td>\n",
       "    </tr>\n",
       "  </tbody>\n",
       "</table>\n",
       "</div>"
      ],
      "text/plain": [
       "    _unit_id  _golden _unit_state  _trusted_judgments  _last_judgment_at  \\\n",
       "0  197560956     True      golden                   8  9/6/2012 12:48:30   \n",
       "1  197560957     True      golden                   7  9/6/2012 12:43:58   \n",
       "\n",
       "  how_many_injured_or_dead_if_people  \\\n",
       "0  \\n\\nhouse\\nhouse\\nn/a\\nn/a\\nn/a\\n   \n",
       "1        \\nchurch\\n\\nn/a\\nn/a\\nn/a\\n   \n",
       "\n",
       "                            people_or_infrastructure  \\\n",
       "0  Infrastructure (building, bridge, road, etc.) ...   \n",
       "1  Infrastructure (building, bridge, road, etc.) ...   \n",
       "\n",
       "   people_or_infrastructure:confidence  \\\n",
       "0                               0.7573   \n",
       "1                               1.0000   \n",
       "\n",
       "  what_infrastructure_was_damaged_if_infrastructure               category  \\\n",
       "0            house\\nhouse\\n\\n\\nn/a\\nn/a\\nn/a\\nhouse  Casualties and damage   \n",
       "1           Church\\n\\nchurch\\nn/a\\nn/a\\nn/a\\nchurch  Casualties and damage   \n",
       "\n",
       "   how_many_injured_or_dead_if_people_gold                 id  \\\n",
       "0                                      NaN  77449750374395904   \n",
       "1                                      NaN  74098675349073904   \n",
       "\n",
       "                       people_or_infrastructure_gold       screenname  \\\n",
       "0  Infrastructure (building, bridge, road, etc.) ...  IvanTheTurrible   \n",
       "1  Infrastructure (building, bridge, road, etc.) ...    DanielCrane81   \n",
       "\n",
       "                                                text       userid  \n",
       "0  My house was blown away by a tornado, but a fa...   33371804.0  \n",
       "1   @andersoncooper: I took this earlier. Cross s...  195277911.0  "
      ]
     },
     "execution_count": 137,
     "metadata": {},
     "output_type": "execute_result"
    }
   ],
   "source": [
    "iscram_damage_n_casualties_classify_extract.head(2)"
   ]
  },
  {
   "cell_type": "code",
   "execution_count": 138,
   "metadata": {},
   "outputs": [],
   "source": [
    "iscram_damage_n_casualties_classify_extract['casualty_or_damage'] = iscram_damage_n_casualties_classify_extract['people_or_infrastructure'].apply(lambda x: 'Casualty' if x.startswith('People') else('Casualty' if x.startswith('Both') else('Damage' if x.startswith('Infrastructure') else(x))))"
   ]
  },
  {
   "cell_type": "code",
   "execution_count": 139,
   "metadata": {},
   "outputs": [
    {
     "data": {
      "text/html": [
       "<div>\n",
       "<style scoped>\n",
       "    .dataframe tbody tr th:only-of-type {\n",
       "        vertical-align: middle;\n",
       "    }\n",
       "\n",
       "    .dataframe tbody tr th {\n",
       "        vertical-align: top;\n",
       "    }\n",
       "\n",
       "    .dataframe thead th {\n",
       "        text-align: right;\n",
       "    }\n",
       "</style>\n",
       "<table border=\"1\" class=\"dataframe\">\n",
       "  <thead>\n",
       "    <tr style=\"text-align: right;\">\n",
       "      <th></th>\n",
       "      <th>_unit_id</th>\n",
       "      <th>_golden</th>\n",
       "      <th>_unit_state</th>\n",
       "      <th>_trusted_judgments</th>\n",
       "      <th>_last_judgment_at</th>\n",
       "      <th>how_many_injured_or_dead_if_people</th>\n",
       "      <th>people_or_infrastructure</th>\n",
       "      <th>people_or_infrastructure:confidence</th>\n",
       "      <th>what_infrastructure_was_damaged_if_infrastructure</th>\n",
       "      <th>category</th>\n",
       "      <th>how_many_injured_or_dead_if_people_gold</th>\n",
       "      <th>id</th>\n",
       "      <th>people_or_infrastructure_gold</th>\n",
       "      <th>screenname</th>\n",
       "      <th>text</th>\n",
       "      <th>userid</th>\n",
       "      <th>casualty_or_damage</th>\n",
       "    </tr>\n",
       "  </thead>\n",
       "  <tbody>\n",
       "    <tr>\n",
       "      <th>0</th>\n",
       "      <td>197560956</td>\n",
       "      <td>True</td>\n",
       "      <td>golden</td>\n",
       "      <td>8</td>\n",
       "      <td>9/6/2012 12:48:30</td>\n",
       "      <td>\\n\\nhouse\\nhouse\\nn/a\\nn/a\\nn/a\\n</td>\n",
       "      <td>Infrastructure (building, bridge, road, etc.) ...</td>\n",
       "      <td>0.7573</td>\n",
       "      <td>house\\nhouse\\n\\n\\nn/a\\nn/a\\nn/a\\nhouse</td>\n",
       "      <td>Casualties and damage</td>\n",
       "      <td>NaN</td>\n",
       "      <td>77449750374395904</td>\n",
       "      <td>Infrastructure (building, bridge, road, etc.) ...</td>\n",
       "      <td>IvanTheTurrible</td>\n",
       "      <td>My house was blown away by a tornado, but a fa...</td>\n",
       "      <td>33371804.0</td>\n",
       "      <td>Damage</td>\n",
       "    </tr>\n",
       "    <tr>\n",
       "      <th>1</th>\n",
       "      <td>197560957</td>\n",
       "      <td>True</td>\n",
       "      <td>golden</td>\n",
       "      <td>7</td>\n",
       "      <td>9/6/2012 12:43:58</td>\n",
       "      <td>\\nchurch\\n\\nn/a\\nn/a\\nn/a\\n</td>\n",
       "      <td>Infrastructure (building, bridge, road, etc.) ...</td>\n",
       "      <td>1.0000</td>\n",
       "      <td>Church\\n\\nchurch\\nn/a\\nn/a\\nn/a\\nchurch</td>\n",
       "      <td>Casualties and damage</td>\n",
       "      <td>NaN</td>\n",
       "      <td>74098675349073904</td>\n",
       "      <td>Infrastructure (building, bridge, road, etc.) ...</td>\n",
       "      <td>DanielCrane81</td>\n",
       "      <td>@andersoncooper: I took this earlier. Cross s...</td>\n",
       "      <td>195277911.0</td>\n",
       "      <td>Damage</td>\n",
       "    </tr>\n",
       "    <tr>\n",
       "      <th>2</th>\n",
       "      <td>197560958</td>\n",
       "      <td>False</td>\n",
       "      <td>finalized</td>\n",
       "      <td>3</td>\n",
       "      <td>9/6/2012 13:12:49</td>\n",
       "      <td>\\nn/a\\n</td>\n",
       "      <td>Infrastructure (building, bridge, road, etc.) ...</td>\n",
       "      <td>1.0000</td>\n",
       "      <td>house\\nn/a\\nhouse</td>\n",
       "      <td>Casualties and damage</td>\n",
       "      <td>NaN</td>\n",
       "      <td>73170219010494400</td>\n",
       "      <td>NaN</td>\n",
       "      <td>Jethro_Aryeh</td>\n",
       "      <td>Tornado is gone and woman is assessing the dam...</td>\n",
       "      <td>115299036.0</td>\n",
       "      <td>Damage</td>\n",
       "    </tr>\n",
       "    <tr>\n",
       "      <th>3</th>\n",
       "      <td>197560959</td>\n",
       "      <td>True</td>\n",
       "      <td>golden</td>\n",
       "      <td>4</td>\n",
       "      <td>9/6/2012 13:11:13</td>\n",
       "      <td>\\nn/a\\n\\n</td>\n",
       "      <td>Not specified (maybe people or infrastructure)</td>\n",
       "      <td>1.0000</td>\n",
       "      <td>\\nn/a\\n\\n</td>\n",
       "      <td>Casualties and damage</td>\n",
       "      <td>NaN</td>\n",
       "      <td>78918229342420800</td>\n",
       "      <td>Infrastructure (building, bridge, road, etc.) ...</td>\n",
       "      <td>akcanwjanitor</td>\n",
       "      <td>@WISCTV_News3: Weather Service Confirms to Ne...</td>\n",
       "      <td>90613781.0</td>\n",
       "      <td>Not specified (maybe people or infrastructure)</td>\n",
       "    </tr>\n",
       "    <tr>\n",
       "      <th>4</th>\n",
       "      <td>197560960</td>\n",
       "      <td>True</td>\n",
       "      <td>golden</td>\n",
       "      <td>8</td>\n",
       "      <td>9/6/2012 13:15:43</td>\n",
       "      <td>\\n\\nn/a\\nn/a\\nn/a\\n\\nn/a\\n</td>\n",
       "      <td>Not specified (maybe people or infrastructure)</td>\n",
       "      <td>0.7281</td>\n",
       "      <td>\\n\\nn/a\\nn/a\\nn/a\\n\\nn/a\\n</td>\n",
       "      <td>Casualties and damage</td>\n",
       "      <td>NaN</td>\n",
       "      <td>73454719217045504</td>\n",
       "      <td>Not specified (maybe people or infrastructure)...</td>\n",
       "      <td>ChristopherAbel</td>\n",
       "      <td>After hearing the tornado sirens, Pastor Danie...</td>\n",
       "      <td>14513905.0</td>\n",
       "      <td>Not specified (maybe people or infrastructure)</td>\n",
       "    </tr>\n",
       "  </tbody>\n",
       "</table>\n",
       "</div>"
      ],
      "text/plain": [
       "    _unit_id  _golden _unit_state  _trusted_judgments  _last_judgment_at  \\\n",
       "0  197560956     True      golden                   8  9/6/2012 12:48:30   \n",
       "1  197560957     True      golden                   7  9/6/2012 12:43:58   \n",
       "2  197560958    False   finalized                   3  9/6/2012 13:12:49   \n",
       "3  197560959     True      golden                   4  9/6/2012 13:11:13   \n",
       "4  197560960     True      golden                   8  9/6/2012 13:15:43   \n",
       "\n",
       "  how_many_injured_or_dead_if_people  \\\n",
       "0  \\n\\nhouse\\nhouse\\nn/a\\nn/a\\nn/a\\n   \n",
       "1        \\nchurch\\n\\nn/a\\nn/a\\nn/a\\n   \n",
       "2                            \\nn/a\\n   \n",
       "3                          \\nn/a\\n\\n   \n",
       "4         \\n\\nn/a\\nn/a\\nn/a\\n\\nn/a\\n   \n",
       "\n",
       "                            people_or_infrastructure  \\\n",
       "0  Infrastructure (building, bridge, road, etc.) ...   \n",
       "1  Infrastructure (building, bridge, road, etc.) ...   \n",
       "2  Infrastructure (building, bridge, road, etc.) ...   \n",
       "3     Not specified (maybe people or infrastructure)   \n",
       "4     Not specified (maybe people or infrastructure)   \n",
       "\n",
       "   people_or_infrastructure:confidence  \\\n",
       "0                               0.7573   \n",
       "1                               1.0000   \n",
       "2                               1.0000   \n",
       "3                               1.0000   \n",
       "4                               0.7281   \n",
       "\n",
       "  what_infrastructure_was_damaged_if_infrastructure               category  \\\n",
       "0            house\\nhouse\\n\\n\\nn/a\\nn/a\\nn/a\\nhouse  Casualties and damage   \n",
       "1           Church\\n\\nchurch\\nn/a\\nn/a\\nn/a\\nchurch  Casualties and damage   \n",
       "2                                 house\\nn/a\\nhouse  Casualties and damage   \n",
       "3                                         \\nn/a\\n\\n  Casualties and damage   \n",
       "4                        \\n\\nn/a\\nn/a\\nn/a\\n\\nn/a\\n  Casualties and damage   \n",
       "\n",
       "   how_many_injured_or_dead_if_people_gold                 id  \\\n",
       "0                                      NaN  77449750374395904   \n",
       "1                                      NaN  74098675349073904   \n",
       "2                                      NaN  73170219010494400   \n",
       "3                                      NaN  78918229342420800   \n",
       "4                                      NaN  73454719217045504   \n",
       "\n",
       "                       people_or_infrastructure_gold       screenname  \\\n",
       "0  Infrastructure (building, bridge, road, etc.) ...  IvanTheTurrible   \n",
       "1  Infrastructure (building, bridge, road, etc.) ...    DanielCrane81   \n",
       "2                                                NaN     Jethro_Aryeh   \n",
       "3  Infrastructure (building, bridge, road, etc.) ...    akcanwjanitor   \n",
       "4  Not specified (maybe people or infrastructure)...  ChristopherAbel   \n",
       "\n",
       "                                                text       userid  \\\n",
       "0  My house was blown away by a tornado, but a fa...   33371804.0   \n",
       "1   @andersoncooper: I took this earlier. Cross s...  195277911.0   \n",
       "2  Tornado is gone and woman is assessing the dam...  115299036.0   \n",
       "3   @WISCTV_News3: Weather Service Confirms to Ne...   90613781.0   \n",
       "4  After hearing the tornado sirens, Pastor Danie...   14513905.0   \n",
       "\n",
       "                               casualty_or_damage  \n",
       "0                                          Damage  \n",
       "1                                          Damage  \n",
       "2                                          Damage  \n",
       "3  Not specified (maybe people or infrastructure)  \n",
       "4  Not specified (maybe people or infrastructure)  "
      ]
     },
     "execution_count": 139,
     "metadata": {},
     "output_type": "execute_result"
    }
   ],
   "source": [
    "iscram_damage_n_casualties_classify_extract.head()"
   ]
  },
  {
   "cell_type": "code",
   "execution_count": 140,
   "metadata": {},
   "outputs": [
    {
     "data": {
      "text/plain": [
       "array(['Damage', 'Not specified (maybe people or infrastructure)',\n",
       "       'Casualty', 'Not damage-related'], dtype=object)"
      ]
     },
     "execution_count": 140,
     "metadata": {},
     "output_type": "execute_result"
    }
   ],
   "source": [
    "iscram_damage_n_casualties_classify_extract['casualty_or_damage'].unique()"
   ]
  },
  {
   "cell_type": "code",
   "execution_count": 141,
   "metadata": {},
   "outputs": [],
   "source": [
    "iscram_damage_n_casualties_classify_extract = iscram_damage_n_casualties_classify_extract.drop(iscram_damage_n_casualties_classify_extract[(iscram_damage_n_casualties_classify_extract['casualty_or_damage'] == 'Not damage-related') | (iscram_damage_n_casualties_classify_extract['casualty_or_damage'] == 'Not specified (maybe people or infrastructure)')].index, axis=0)"
   ]
  },
  {
   "cell_type": "code",
   "execution_count": 142,
   "metadata": {
    "scrolled": true
   },
   "outputs": [
    {
     "data": {
      "text/plain": [
       "array(['Damage', 'Casualty'], dtype=object)"
      ]
     },
     "execution_count": 142,
     "metadata": {},
     "output_type": "execute_result"
    }
   ],
   "source": [
    "iscram_damage_n_casualties_classify_extract['casualty_or_damage'].unique()"
   ]
  },
  {
   "cell_type": "code",
   "execution_count": 143,
   "metadata": {},
   "outputs": [
    {
     "data": {
      "text/html": [
       "<div>\n",
       "<style scoped>\n",
       "    .dataframe tbody tr th:only-of-type {\n",
       "        vertical-align: middle;\n",
       "    }\n",
       "\n",
       "    .dataframe tbody tr th {\n",
       "        vertical-align: top;\n",
       "    }\n",
       "\n",
       "    .dataframe thead th {\n",
       "        text-align: right;\n",
       "    }\n",
       "</style>\n",
       "<table border=\"1\" class=\"dataframe\">\n",
       "  <thead>\n",
       "    <tr style=\"text-align: right;\">\n",
       "      <th></th>\n",
       "      <th>_unit_id</th>\n",
       "      <th>_golden</th>\n",
       "      <th>_unit_state</th>\n",
       "      <th>_trusted_judgments</th>\n",
       "      <th>_last_judgment_at</th>\n",
       "      <th>how_many_injured_or_dead_if_people</th>\n",
       "      <th>people_or_infrastructure</th>\n",
       "      <th>people_or_infrastructure:confidence</th>\n",
       "      <th>what_infrastructure_was_damaged_if_infrastructure</th>\n",
       "      <th>category</th>\n",
       "      <th>how_many_injured_or_dead_if_people_gold</th>\n",
       "      <th>id</th>\n",
       "      <th>people_or_infrastructure_gold</th>\n",
       "      <th>screenname</th>\n",
       "      <th>text</th>\n",
       "      <th>userid</th>\n",
       "      <th>casualty_or_damage</th>\n",
       "    </tr>\n",
       "  </thead>\n",
       "  <tbody>\n",
       "    <tr>\n",
       "      <th>0</th>\n",
       "      <td>197560956</td>\n",
       "      <td>True</td>\n",
       "      <td>golden</td>\n",
       "      <td>8</td>\n",
       "      <td>9/6/2012 12:48:30</td>\n",
       "      <td>\\n\\nhouse\\nhouse\\nn/a\\nn/a\\nn/a\\n</td>\n",
       "      <td>Infrastructure (building, bridge, road, etc.) ...</td>\n",
       "      <td>0.7573</td>\n",
       "      <td>house\\nhouse\\n\\n\\nn/a\\nn/a\\nn/a\\nhouse</td>\n",
       "      <td>Casualties and damage</td>\n",
       "      <td>NaN</td>\n",
       "      <td>77449750374395904</td>\n",
       "      <td>Infrastructure (building, bridge, road, etc.) ...</td>\n",
       "      <td>IvanTheTurrible</td>\n",
       "      <td>My house was blown away by a tornado, but a fa...</td>\n",
       "      <td>33371804.0</td>\n",
       "      <td>Damage</td>\n",
       "    </tr>\n",
       "    <tr>\n",
       "      <th>1</th>\n",
       "      <td>197560957</td>\n",
       "      <td>True</td>\n",
       "      <td>golden</td>\n",
       "      <td>7</td>\n",
       "      <td>9/6/2012 12:43:58</td>\n",
       "      <td>\\nchurch\\n\\nn/a\\nn/a\\nn/a\\n</td>\n",
       "      <td>Infrastructure (building, bridge, road, etc.) ...</td>\n",
       "      <td>1.0000</td>\n",
       "      <td>Church\\n\\nchurch\\nn/a\\nn/a\\nn/a\\nchurch</td>\n",
       "      <td>Casualties and damage</td>\n",
       "      <td>NaN</td>\n",
       "      <td>74098675349073904</td>\n",
       "      <td>Infrastructure (building, bridge, road, etc.) ...</td>\n",
       "      <td>DanielCrane81</td>\n",
       "      <td>@andersoncooper: I took this earlier. Cross s...</td>\n",
       "      <td>195277911.0</td>\n",
       "      <td>Damage</td>\n",
       "    </tr>\n",
       "    <tr>\n",
       "      <th>2</th>\n",
       "      <td>197560958</td>\n",
       "      <td>False</td>\n",
       "      <td>finalized</td>\n",
       "      <td>3</td>\n",
       "      <td>9/6/2012 13:12:49</td>\n",
       "      <td>\\nn/a\\n</td>\n",
       "      <td>Infrastructure (building, bridge, road, etc.) ...</td>\n",
       "      <td>1.0000</td>\n",
       "      <td>house\\nn/a\\nhouse</td>\n",
       "      <td>Casualties and damage</td>\n",
       "      <td>NaN</td>\n",
       "      <td>73170219010494400</td>\n",
       "      <td>NaN</td>\n",
       "      <td>Jethro_Aryeh</td>\n",
       "      <td>Tornado is gone and woman is assessing the dam...</td>\n",
       "      <td>115299036.0</td>\n",
       "      <td>Damage</td>\n",
       "    </tr>\n",
       "    <tr>\n",
       "      <th>8</th>\n",
       "      <td>197560964</td>\n",
       "      <td>True</td>\n",
       "      <td>golden</td>\n",
       "      <td>6</td>\n",
       "      <td>9/6/2012 12:34:25</td>\n",
       "      <td>134\\n134\\n134\\n134\\n134\\n134</td>\n",
       "      <td>People: dead</td>\n",
       "      <td>1.0000</td>\n",
       "      <td>\\n\\nn/a\\n\\nn/a\\n</td>\n",
       "      <td>Casualties and damage</td>\n",
       "      <td>134.0</td>\n",
       "      <td>76014668220600304</td>\n",
       "      <td>People: dead</td>\n",
       "      <td>rschallom</td>\n",
       "      <td>@stefkienstra: JOPLIN -- Gov. Jay Nixon annou...</td>\n",
       "      <td>20162581.0</td>\n",
       "      <td>Casualty</td>\n",
       "    </tr>\n",
       "    <tr>\n",
       "      <th>9</th>\n",
       "      <td>197560965</td>\n",
       "      <td>True</td>\n",
       "      <td>golden</td>\n",
       "      <td>3</td>\n",
       "      <td>9/6/2012 13:07:44</td>\n",
       "      <td>\\nn/a\\n</td>\n",
       "      <td>People: dead</td>\n",
       "      <td>0.3579</td>\n",
       "      <td>\\nn/a\\n</td>\n",
       "      <td>Casualties and damage</td>\n",
       "      <td>NaN</td>\n",
       "      <td>74914138601688800</td>\n",
       "      <td>People: dead</td>\n",
       "      <td>JD_Gaffle</td>\n",
       "      <td>@BreakingNews: Watch live: Memorial service f...</td>\n",
       "      <td>22382549.0</td>\n",
       "      <td>Casualty</td>\n",
       "    </tr>\n",
       "  </tbody>\n",
       "</table>\n",
       "</div>"
      ],
      "text/plain": [
       "    _unit_id  _golden _unit_state  _trusted_judgments  _last_judgment_at  \\\n",
       "0  197560956     True      golden                   8  9/6/2012 12:48:30   \n",
       "1  197560957     True      golden                   7  9/6/2012 12:43:58   \n",
       "2  197560958    False   finalized                   3  9/6/2012 13:12:49   \n",
       "8  197560964     True      golden                   6  9/6/2012 12:34:25   \n",
       "9  197560965     True      golden                   3  9/6/2012 13:07:44   \n",
       "\n",
       "  how_many_injured_or_dead_if_people  \\\n",
       "0  \\n\\nhouse\\nhouse\\nn/a\\nn/a\\nn/a\\n   \n",
       "1        \\nchurch\\n\\nn/a\\nn/a\\nn/a\\n   \n",
       "2                            \\nn/a\\n   \n",
       "8       134\\n134\\n134\\n134\\n134\\n134   \n",
       "9                            \\nn/a\\n   \n",
       "\n",
       "                            people_or_infrastructure  \\\n",
       "0  Infrastructure (building, bridge, road, etc.) ...   \n",
       "1  Infrastructure (building, bridge, road, etc.) ...   \n",
       "2  Infrastructure (building, bridge, road, etc.) ...   \n",
       "8                                       People: dead   \n",
       "9                                       People: dead   \n",
       "\n",
       "   people_or_infrastructure:confidence  \\\n",
       "0                               0.7573   \n",
       "1                               1.0000   \n",
       "2                               1.0000   \n",
       "8                               1.0000   \n",
       "9                               0.3579   \n",
       "\n",
       "  what_infrastructure_was_damaged_if_infrastructure               category  \\\n",
       "0            house\\nhouse\\n\\n\\nn/a\\nn/a\\nn/a\\nhouse  Casualties and damage   \n",
       "1           Church\\n\\nchurch\\nn/a\\nn/a\\nn/a\\nchurch  Casualties and damage   \n",
       "2                                 house\\nn/a\\nhouse  Casualties and damage   \n",
       "8                                  \\n\\nn/a\\n\\nn/a\\n  Casualties and damage   \n",
       "9                                           \\nn/a\\n  Casualties and damage   \n",
       "\n",
       "   how_many_injured_or_dead_if_people_gold                 id  \\\n",
       "0                                      NaN  77449750374395904   \n",
       "1                                      NaN  74098675349073904   \n",
       "2                                      NaN  73170219010494400   \n",
       "8                                    134.0  76014668220600304   \n",
       "9                                      NaN  74914138601688800   \n",
       "\n",
       "                       people_or_infrastructure_gold       screenname  \\\n",
       "0  Infrastructure (building, bridge, road, etc.) ...  IvanTheTurrible   \n",
       "1  Infrastructure (building, bridge, road, etc.) ...    DanielCrane81   \n",
       "2                                                NaN     Jethro_Aryeh   \n",
       "8                                       People: dead        rschallom   \n",
       "9                                       People: dead        JD_Gaffle   \n",
       "\n",
       "                                                text       userid  \\\n",
       "0  My house was blown away by a tornado, but a fa...   33371804.0   \n",
       "1   @andersoncooper: I took this earlier. Cross s...  195277911.0   \n",
       "2  Tornado is gone and woman is assessing the dam...  115299036.0   \n",
       "8   @stefkienstra: JOPLIN -- Gov. Jay Nixon annou...   20162581.0   \n",
       "9   @BreakingNews: Watch live: Memorial service f...   22382549.0   \n",
       "\n",
       "  casualty_or_damage  \n",
       "0             Damage  \n",
       "1             Damage  \n",
       "2             Damage  \n",
       "8           Casualty  \n",
       "9           Casualty  "
      ]
     },
     "execution_count": 143,
     "metadata": {},
     "output_type": "execute_result"
    }
   ],
   "source": [
    "iscram_damage_n_casualties_classify_extract.head()"
   ]
  },
  {
   "cell_type": "code",
   "execution_count": 144,
   "metadata": {},
   "outputs": [],
   "source": [
    "iscram_damage_n_casualties_classify_extract = iscram_damage_n_casualties_classify_extract[['id', 'text', 'casualty_or_damage']]"
   ]
  },
  {
   "cell_type": "code",
   "execution_count": 145,
   "metadata": {},
   "outputs": [
    {
     "data": {
      "text/html": [
       "<div>\n",
       "<style scoped>\n",
       "    .dataframe tbody tr th:only-of-type {\n",
       "        vertical-align: middle;\n",
       "    }\n",
       "\n",
       "    .dataframe tbody tr th {\n",
       "        vertical-align: top;\n",
       "    }\n",
       "\n",
       "    .dataframe thead th {\n",
       "        text-align: right;\n",
       "    }\n",
       "</style>\n",
       "<table border=\"1\" class=\"dataframe\">\n",
       "  <thead>\n",
       "    <tr style=\"text-align: right;\">\n",
       "      <th></th>\n",
       "      <th>id</th>\n",
       "      <th>text</th>\n",
       "      <th>casualty_or_damage</th>\n",
       "    </tr>\n",
       "  </thead>\n",
       "  <tbody>\n",
       "    <tr>\n",
       "      <th>0</th>\n",
       "      <td>77449750374395904</td>\n",
       "      <td>My house was blown away by a tornado, but a fa...</td>\n",
       "      <td>Damage</td>\n",
       "    </tr>\n",
       "    <tr>\n",
       "      <th>1</th>\n",
       "      <td>74098675349073904</td>\n",
       "      <td>@andersoncooper: I took this earlier. Cross s...</td>\n",
       "      <td>Damage</td>\n",
       "    </tr>\n",
       "    <tr>\n",
       "      <th>2</th>\n",
       "      <td>73170219010494400</td>\n",
       "      <td>Tornado is gone and woman is assessing the dam...</td>\n",
       "      <td>Damage</td>\n",
       "    </tr>\n",
       "    <tr>\n",
       "      <th>8</th>\n",
       "      <td>76014668220600304</td>\n",
       "      <td>@stefkienstra: JOPLIN -- Gov. Jay Nixon annou...</td>\n",
       "      <td>Casualty</td>\n",
       "    </tr>\n",
       "    <tr>\n",
       "      <th>9</th>\n",
       "      <td>74914138601688800</td>\n",
       "      <td>@BreakingNews: Watch live: Memorial service f...</td>\n",
       "      <td>Casualty</td>\n",
       "    </tr>\n",
       "  </tbody>\n",
       "</table>\n",
       "</div>"
      ],
      "text/plain": [
       "                  id                                               text  \\\n",
       "0  77449750374395904  My house was blown away by a tornado, but a fa...   \n",
       "1  74098675349073904   @andersoncooper: I took this earlier. Cross s...   \n",
       "2  73170219010494400  Tornado is gone and woman is assessing the dam...   \n",
       "8  76014668220600304   @stefkienstra: JOPLIN -- Gov. Jay Nixon annou...   \n",
       "9  74914138601688800   @BreakingNews: Watch live: Memorial service f...   \n",
       "\n",
       "  casualty_or_damage  \n",
       "0             Damage  \n",
       "1             Damage  \n",
       "2             Damage  \n",
       "8           Casualty  \n",
       "9           Casualty  "
      ]
     },
     "execution_count": 145,
     "metadata": {},
     "output_type": "execute_result"
    }
   ],
   "source": [
    "iscram_damage_n_casualties_classify_extract.head()"
   ]
  },
  {
   "cell_type": "code",
   "execution_count": 146,
   "metadata": {},
   "outputs": [
    {
     "data": {
      "text/plain": [
       "(79, 3)"
      ]
     },
     "execution_count": 146,
     "metadata": {},
     "output_type": "execute_result"
    }
   ],
   "source": [
    "iscram_damage_n_casualties_classify_extract.shape"
   ]
  },
  {
   "cell_type": "code",
   "execution_count": 147,
   "metadata": {},
   "outputs": [
    {
     "data": {
      "text/plain": [
       "Index(['id', 'text', 'casualty_or_damage'], dtype='object')"
      ]
     },
     "execution_count": 147,
     "metadata": {},
     "output_type": "execute_result"
    }
   ],
   "source": [
    "iscram_damage_n_casualties_classify_extract.columns"
   ]
  },
  {
   "cell_type": "code",
   "execution_count": 148,
   "metadata": {
    "scrolled": true
   },
   "outputs": [
    {
     "data": {
      "text/plain": [
       "Index(['id', 'text', 'choose_one'], dtype='object')"
      ]
     },
     "execution_count": 148,
     "metadata": {},
     "output_type": "execute_result"
    }
   ],
   "source": [
    "iscram_informative_caution_infosrc_donation_damage_other.columns"
   ]
  },
  {
   "cell_type": "code",
   "execution_count": 149,
   "metadata": {},
   "outputs": [],
   "source": [
    "iscram_damage_n_casualties_classify_extract = iscram_damage_n_casualties_classify_extract.rename(columns={\n",
    "    'id': 'ID',\n",
    "    'text': 'Tweet',\n",
    "    'casualty_or_damage': 'Label'\n",
    "})"
   ]
  },
  {
   "cell_type": "code",
   "execution_count": 150,
   "metadata": {},
   "outputs": [],
   "source": [
    "iscram_informative_caution_infosrc_donation_damage_other = iscram_informative_caution_infosrc_donation_damage_other.rename(columns={\n",
    "    'id': 'ID',\n",
    "    'text': 'Tweet',\n",
    "    'choose_one': 'Label'\n",
    "})"
   ]
  },
  {
   "cell_type": "code",
   "execution_count": 151,
   "metadata": {},
   "outputs": [],
   "source": [
    "iscram_2013 = pd.concat([iscram_informative_caution_infosrc_donation_damage_other, iscram_damage_n_casualties_classify_extract])"
   ]
  },
  {
   "cell_type": "code",
   "execution_count": 152,
   "metadata": {},
   "outputs": [
    {
     "data": {
      "text/html": [
       "<div>\n",
       "<style scoped>\n",
       "    .dataframe tbody tr th:only-of-type {\n",
       "        vertical-align: middle;\n",
       "    }\n",
       "\n",
       "    .dataframe tbody tr th {\n",
       "        vertical-align: top;\n",
       "    }\n",
       "\n",
       "    .dataframe thead th {\n",
       "        text-align: right;\n",
       "    }\n",
       "</style>\n",
       "<table border=\"1\" class=\"dataframe\">\n",
       "  <thead>\n",
       "    <tr style=\"text-align: right;\">\n",
       "      <th></th>\n",
       "      <th>ID</th>\n",
       "      <th>Tweet</th>\n",
       "      <th>Label</th>\n",
       "    </tr>\n",
       "  </thead>\n",
       "  <tbody>\n",
       "    <tr>\n",
       "      <th>0</th>\n",
       "      <td>74943468706873200</td>\n",
       "      <td>Yesterday was supposed to be 70 and sunny/cold...</td>\n",
       "      <td>Caution and advice</td>\n",
       "    </tr>\n",
       "    <tr>\n",
       "      <th>1</th>\n",
       "      <td>74301096193040304</td>\n",
       "      <td>@fox12weather re: tornado. I live in Vancouver...</td>\n",
       "      <td>Information source</td>\n",
       "    </tr>\n",
       "    <tr>\n",
       "      <th>2</th>\n",
       "      <td>77764430137536400</td>\n",
       "      <td>@TippingPointSEO: please follow my friends @R...</td>\n",
       "      <td>Donations of money, goods or services</td>\n",
       "    </tr>\n",
       "    <tr>\n",
       "      <th>4</th>\n",
       "      <td>76134461049274304</td>\n",
       "      <td>@Juss2Live: News was goin crazy about tornado...</td>\n",
       "      <td>Caution and advice</td>\n",
       "    </tr>\n",
       "    <tr>\n",
       "      <th>5</th>\n",
       "      <td>73047761146216400</td>\n",
       "      <td>@ztdrew78: Heading to #joplin wit the #jimbak...</td>\n",
       "      <td>Donations of money, goods or services</td>\n",
       "    </tr>\n",
       "  </tbody>\n",
       "</table>\n",
       "</div>"
      ],
      "text/plain": [
       "                  ID                                              Tweet  \\\n",
       "0  74943468706873200  Yesterday was supposed to be 70 and sunny/cold...   \n",
       "1  74301096193040304  @fox12weather re: tornado. I live in Vancouver...   \n",
       "2  77764430137536400   @TippingPointSEO: please follow my friends @R...   \n",
       "4  76134461049274304   @Juss2Live: News was goin crazy about tornado...   \n",
       "5  73047761146216400   @ztdrew78: Heading to #joplin wit the #jimbak...   \n",
       "\n",
       "                                   Label  \n",
       "0                     Caution and advice  \n",
       "1                     Information source  \n",
       "2  Donations of money, goods or services  \n",
       "4                     Caution and advice  \n",
       "5  Donations of money, goods or services  "
      ]
     },
     "execution_count": 152,
     "metadata": {},
     "output_type": "execute_result"
    }
   ],
   "source": [
    "iscram_2013.head()"
   ]
  },
  {
   "cell_type": "code",
   "execution_count": 153,
   "metadata": {},
   "outputs": [],
   "source": [
    "iscram_2013 = iscram_2013.reset_index(drop=True)"
   ]
  },
  {
   "cell_type": "code",
   "execution_count": 154,
   "metadata": {},
   "outputs": [
    {
     "data": {
      "text/html": [
       "<div>\n",
       "<style scoped>\n",
       "    .dataframe tbody tr th:only-of-type {\n",
       "        vertical-align: middle;\n",
       "    }\n",
       "\n",
       "    .dataframe tbody tr th {\n",
       "        vertical-align: top;\n",
       "    }\n",
       "\n",
       "    .dataframe thead th {\n",
       "        text-align: right;\n",
       "    }\n",
       "</style>\n",
       "<table border=\"1\" class=\"dataframe\">\n",
       "  <thead>\n",
       "    <tr style=\"text-align: right;\">\n",
       "      <th></th>\n",
       "      <th>ID</th>\n",
       "      <th>Tweet</th>\n",
       "      <th>Label</th>\n",
       "    </tr>\n",
       "  </thead>\n",
       "  <tbody>\n",
       "    <tr>\n",
       "      <th>0</th>\n",
       "      <td>74943468706873200</td>\n",
       "      <td>Yesterday was supposed to be 70 and sunny/cold...</td>\n",
       "      <td>Caution and advice</td>\n",
       "    </tr>\n",
       "    <tr>\n",
       "      <th>1</th>\n",
       "      <td>74301096193040304</td>\n",
       "      <td>@fox12weather re: tornado. I live in Vancouver...</td>\n",
       "      <td>Information source</td>\n",
       "    </tr>\n",
       "    <tr>\n",
       "      <th>2</th>\n",
       "      <td>77764430137536400</td>\n",
       "      <td>@TippingPointSEO: please follow my friends @R...</td>\n",
       "      <td>Donations of money, goods or services</td>\n",
       "    </tr>\n",
       "    <tr>\n",
       "      <th>3</th>\n",
       "      <td>76134461049274304</td>\n",
       "      <td>@Juss2Live: News was goin crazy about tornado...</td>\n",
       "      <td>Caution and advice</td>\n",
       "    </tr>\n",
       "    <tr>\n",
       "      <th>4</th>\n",
       "      <td>73047761146216400</td>\n",
       "      <td>@ztdrew78: Heading to #joplin wit the #jimbak...</td>\n",
       "      <td>Donations of money, goods or services</td>\n",
       "    </tr>\n",
       "  </tbody>\n",
       "</table>\n",
       "</div>"
      ],
      "text/plain": [
       "                  ID                                              Tweet  \\\n",
       "0  74943468706873200  Yesterday was supposed to be 70 and sunny/cold...   \n",
       "1  74301096193040304  @fox12weather re: tornado. I live in Vancouver...   \n",
       "2  77764430137536400   @TippingPointSEO: please follow my friends @R...   \n",
       "3  76134461049274304   @Juss2Live: News was goin crazy about tornado...   \n",
       "4  73047761146216400   @ztdrew78: Heading to #joplin wit the #jimbak...   \n",
       "\n",
       "                                   Label  \n",
       "0                     Caution and advice  \n",
       "1                     Information source  \n",
       "2  Donations of money, goods or services  \n",
       "3                     Caution and advice  \n",
       "4  Donations of money, goods or services  "
      ]
     },
     "execution_count": 154,
     "metadata": {},
     "output_type": "execute_result"
    }
   ],
   "source": [
    "iscram_2013.head()"
   ]
  },
  {
   "cell_type": "code",
   "execution_count": 155,
   "metadata": {},
   "outputs": [
    {
     "data": {
      "text/plain": [
       "Damage                                    17\n",
       "People missing, found or seen             46\n",
       "Casualty                                  62\n",
       "Unknown                                  130\n",
       "Donations of money, goods or services    204\n",
       "Information source                       280\n",
       "Caution and advice                       436\n",
       "Name: Label, dtype: int64"
      ]
     },
     "execution_count": 155,
     "metadata": {},
     "output_type": "execute_result"
    }
   ],
   "source": [
    "iscram_2013['Label'].value_counts(ascending=True)"
   ]
  },
  {
   "cell_type": "code",
   "execution_count": 156,
   "metadata": {},
   "outputs": [
    {
     "data": {
      "text/plain": [
       "<AxesSubplot:>"
      ]
     },
     "execution_count": 156,
     "metadata": {},
     "output_type": "execute_result"
    },
    {
     "data": {
      "image/png": "[encoded data removed]",
      "text/plain": [
       "<Figure size 432x288 with 1 Axes>"
      ]
     },
     "metadata": {
      "needs_background": "light"
     },
     "output_type": "display_data"
    }
   ],
   "source": [
    "iscram_2013['Label'].value_counts(ascending=True).plot(kind=\"barh\")"
   ]
  },
  {
   "cell_type": "markdown",
   "metadata": {},
   "source": [
    "### **Merge to one dataset and write to File**"
   ]
  },
  {
   "cell_type": "code",
   "execution_count": 157,
   "metadata": {},
   "outputs": [],
   "source": [
    "disaster_tweets = pd.concat([crisisnlp_crowdflower, crisisnlp_volunteers, crisislex26, swdm_2013, iscram_2013])"
   ]
  },
  {
   "cell_type": "code",
   "execution_count": 158,
   "metadata": {},
   "outputs": [
    {
     "data": {
      "text/html": [
       "<div>\n",
       "<style scoped>\n",
       "    .dataframe tbody tr th:only-of-type {\n",
       "        vertical-align: middle;\n",
       "    }\n",
       "\n",
       "    .dataframe tbody tr th {\n",
       "        vertical-align: top;\n",
       "    }\n",
       "\n",
       "    .dataframe thead th {\n",
       "        text-align: right;\n",
       "    }\n",
       "</style>\n",
       "<table border=\"1\" class=\"dataframe\">\n",
       "  <thead>\n",
       "    <tr style=\"text-align: right;\">\n",
       "      <th></th>\n",
       "      <th>ID</th>\n",
       "      <th>Tweet</th>\n",
       "      <th>Label</th>\n",
       "    </tr>\n",
       "  </thead>\n",
       "  <tbody>\n",
       "    <tr>\n",
       "      <th>0</th>\n",
       "      <td>383600460340666369'</td>\n",
       "      <td>RT @Faiz_Baluch: #BalochistanEarthQuake Pakist...</td>\n",
       "      <td>other_useful_information</td>\n",
       "    </tr>\n",
       "    <tr>\n",
       "      <th>1</th>\n",
       "      <td>383790723222364161'</td>\n",
       "      <td>#Earthquake 2013-09-28 02:39:43 (M5.0) EAST OF...</td>\n",
       "      <td>other_useful_information</td>\n",
       "    </tr>\n",
       "    <tr>\n",
       "      <th>2</th>\n",
       "      <td>384232048124518400'</td>\n",
       "      <td>#earthquake M2.2: Puerto Rico region http://t....</td>\n",
       "      <td>other_useful_information</td>\n",
       "    </tr>\n",
       "    <tr>\n",
       "      <th>3</th>\n",
       "      <td>384860484643475456'</td>\n",
       "      <td>#PAKISTAN: #NASA releases images of Pakistan's...</td>\n",
       "      <td>other_useful_information</td>\n",
       "    </tr>\n",
       "    <tr>\n",
       "      <th>4</th>\n",
       "      <td>383407962619772928'</td>\n",
       "      <td>【#USGS #alert】 M 1.5, Central Alaska: Septembe...</td>\n",
       "      <td>other_useful_information</td>\n",
       "    </tr>\n",
       "  </tbody>\n",
       "</table>\n",
       "</div>"
      ],
      "text/plain": [
       "                    ID                                              Tweet  \\\n",
       "0  383600460340666369'  RT @Faiz_Baluch: #BalochistanEarthQuake Pakist...   \n",
       "1  383790723222364161'  #Earthquake 2013-09-28 02:39:43 (M5.0) EAST OF...   \n",
       "2  384232048124518400'  #earthquake M2.2: Puerto Rico region http://t....   \n",
       "3  384860484643475456'  #PAKISTAN: #NASA releases images of Pakistan's...   \n",
       "4  383407962619772928'  【#USGS #alert】 M 1.5, Central Alaska: Septembe...   \n",
       "\n",
       "                      Label  \n",
       "0  other_useful_information  \n",
       "1  other_useful_information  \n",
       "2  other_useful_information  \n",
       "3  other_useful_information  \n",
       "4  other_useful_information  "
      ]
     },
     "execution_count": 158,
     "metadata": {},
     "output_type": "execute_result"
    }
   ],
   "source": [
    "disaster_tweets.head()"
   ]
  },
  {
   "cell_type": "code",
   "execution_count": 159,
   "metadata": {},
   "outputs": [
    {
     "data": {
      "text/plain": [
       "(68474, 3)"
      ]
     },
     "execution_count": 159,
     "metadata": {},
     "output_type": "execute_result"
    }
   ],
   "source": [
    "disaster_tweets.shape"
   ]
  },
  {
   "cell_type": "code",
   "execution_count": 160,
   "metadata": {},
   "outputs": [
    {
     "data": {
      "text/plain": [
       "array(['other_useful_information',\n",
       "       'donation_needs_or_offers_or_volunteering_services',\n",
       "       'not_related_or_irrelevant', 'injured_or_dead_people',\n",
       "       'sympathy_and_emotional_support', 'caution_and_advice',\n",
       "       'infrastructure_and_utilities_damage',\n",
       "       'displaced_people_and_evacuations',\n",
       "       'missing_trapped_or_found_people', 'Infrastructure and utilities',\n",
       "       'Other relevant information', 'Not related or irrelevant',\n",
       "       'Injured or dead people', 'Sympathy and emotional support',\n",
       "       'Caution and advice', 'Personal updates', 'Money',\n",
       "       'Personal updates, sympathy, support', 'Other useful information',\n",
       "       'Injured and dead', 'Donations of money', 'Infrastructure',\n",
       "       'Needs of those affected', 'Displaced people',\n",
       "       'Shelter and supplies', 'Not related to crisis', 'Informative',\n",
       "       'Not informative', 'Non-government', 'Not Informative',\n",
       "       'Requests for Help/Needs', 'Other Relevant Information',\n",
       "       'Infrastructure Damage', 'Humanitarian Aid Provided',\n",
       "       'Volunteer or professional services',\n",
       "       'Missing, trapped, or found people', 'Other relevant',\n",
       "       'Not relevant', 'Response efforts', 'Infrastructure damage',\n",
       "       'Response Efforts', 'Not Relevant', 'Urgent Needs',\n",
       "       'Animal management', 'Not labeled', 'Other Useful Information',\n",
       "       'Affected individuals', 'Donations and volunteering',\n",
       "       'Sympathy and support', 'Not applicable', nan,\n",
       "       'Donations of money, goods or services', 'Information Source',\n",
       "       'Unknown', 'Casualty', 'Damage', 'Donations', 'Caution and Advice',\n",
       "       'Search and Rescue', 'Information source',\n",
       "       'People missing, found or seen'], dtype=object)"
      ]
     },
     "execution_count": 160,
     "metadata": {},
     "output_type": "execute_result"
    }
   ],
   "source": [
    "disaster_tweets['Label'].unique()"
   ]
  },
  {
   "cell_type": "code",
   "execution_count": 161,
   "metadata": {},
   "outputs": [],
   "source": [
    "disaster_tweets = disaster_tweets.reset_index(drop=True)"
   ]
  },
  {
   "cell_type": "code",
   "execution_count": 162,
   "metadata": {},
   "outputs": [],
   "source": [
    "file = 'C:/Users/Kelvin Chumbe/Downloads/Datasets/Capstone_Twitter Modelling Datasets/Disaster Tweets Combined'\n",
    "disaster_tweets.to_csv(os.path.join(file, 'disaster_tweets.csv'), index=False)"
   ]
  },
  {
   "cell_type": "code",
   "execution_count": null,
   "metadata": {},
   "outputs": [],
   "source": []
  }
 ],
 "metadata": {
  "colab": {
   "name": "Dataset Merging",
   "provenance": []
  },
  "kernelspec": {
   "display_name": "Python 3",
   "language": "python",
   "name": "python3"
  },
  "language_info": {
   "codemirror_mode": {
    "name": "ipython",
    "version": 3
   },
   "file_extension": ".py",
   "mimetype": "text/x-python",
   "name": "python",
   "nbconvert_exporter": "python",
   "pygments_lexer": "ipython3",
   "version": "3.8.8"
  }
 },
 "nbformat": 4,
 "nbformat_minor": 1
}
