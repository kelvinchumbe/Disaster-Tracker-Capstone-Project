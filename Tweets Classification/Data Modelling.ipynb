{
 "cells": [
  {
   "cell_type": "code",
   "execution_count": 1,
   "id": "minimal-donor",
   "metadata": {},
   "outputs": [],
   "source": [
    "import os\n",
    "import pandas as pd\n",
    "import numpy as np\n",
    "import matplotlib.pyplot as plt\n",
    "import seaborn as sns\n",
    "import pickle\n",
    "\n",
    "sns.set()\n",
    "\n",
    "%matplotlib inline"
   ]
  },
  {
   "cell_type": "code",
   "execution_count": 2,
   "id": "rational-comment",
   "metadata": {},
   "outputs": [],
   "source": [
    "import tensorflow as tf\n",
    "from tensorflow.keras import Sequential, Model\n",
    "from tensorflow.keras.layers import Dense, Input, Bidirectional, LSTM, Embedding, Dropout, SpatialDropout1D, Layer\n",
    "from tensorflow.keras.optimizers import Adam, RMSprop\n",
    "from tensorflow.keras.utils import to_categorical\n",
    "from tensorflow.keras.preprocessing.sequence import pad_sequences\n",
    "from tensorflow.keras.preprocessing.text import Tokenizer\n",
    "from tensorflow.keras.callbacks import EarlyStopping, ModelCheckpoint"
   ]
  },
  {
   "cell_type": "code",
   "execution_count": 3,
   "id": "quiet-rider",
   "metadata": {},
   "outputs": [],
   "source": [
    "from tensorflow.keras import initializers \n",
    "from tensorflow.keras import regularizers\n",
    "from tensorflow.keras import constraints\n",
    "\n",
    "from tensorflow.keras import activations \n",
    "from tensorflow.keras import backend as K"
   ]
  },
  {
   "cell_type": "code",
   "execution_count": 4,
   "id": "confused-mounting",
   "metadata": {},
   "outputs": [],
   "source": [
    "from sklearn.metrics import roc_auc_score, classification_report, precision_score, recall_score, f1_score, confusion_matrix, roc_curve, auc"
   ]
  },
  {
   "cell_type": "code",
   "execution_count": 5,
   "id": "sunset-biography",
   "metadata": {},
   "outputs": [],
   "source": [
    "data_dir = \"C:/Users/Kelvin Chumbe/Downloads/Datasets/Capstone_Twitter Modelling Datasets/Disaster Tweets Combined/\""
   ]
  },
  {
   "cell_type": "code",
   "execution_count": 6,
   "id": "amazing-franklin",
   "metadata": {},
   "outputs": [],
   "source": [
    "# Load in preprocessed tweets\n",
    "tweets = pd.read_csv(os.path.join(data_dir, 'Preprocessed_tweets.csv'))"
   ]
  },
  {
   "cell_type": "code",
   "execution_count": 7,
   "id": "invisible-bermuda",
   "metadata": {},
   "outputs": [],
   "source": [
    "tweets_copy = tweets.copy()"
   ]
  },
  {
   "cell_type": "code",
   "execution_count": 8,
   "id": "changed-leone",
   "metadata": {
    "scrolled": true
   },
   "outputs": [
    {
     "data": {
      "text/html": [
       "<div>\n",
       "<style scoped>\n",
       "    .dataframe tbody tr th:only-of-type {\n",
       "        vertical-align: middle;\n",
       "    }\n",
       "\n",
       "    .dataframe tbody tr th {\n",
       "        vertical-align: top;\n",
       "    }\n",
       "\n",
       "    .dataframe thead th {\n",
       "        text-align: right;\n",
       "    }\n",
       "</style>\n",
       "<table border=\"1\" class=\"dataframe\">\n",
       "  <thead>\n",
       "    <tr style=\"text-align: right;\">\n",
       "      <th></th>\n",
       "      <th>ID</th>\n",
       "      <th>Tweet</th>\n",
       "      <th>Category</th>\n",
       "    </tr>\n",
       "  </thead>\n",
       "  <tbody>\n",
       "    <tr>\n",
       "      <th>0</th>\n",
       "      <td>592293488399491073'</td>\n",
       "      <td>president pranab mukherjee speaks to nepal pre...</td>\n",
       "      <td>Sympathy and Support</td>\n",
       "    </tr>\n",
       "    <tr>\n",
       "      <th>1</th>\n",
       "      <td>3.912224263545897e+17</td>\n",
       "      <td>horrid bush fires in nsw feeling for all those...</td>\n",
       "      <td>Sympathy and Support</td>\n",
       "    </tr>\n",
       "    <tr>\n",
       "      <th>2</th>\n",
       "      <td>593042251401461760'</td>\n",
       "      <td>im relief to know that my friend is alright af...</td>\n",
       "      <td>Sympathy and Support</td>\n",
       "    </tr>\n",
       "    <tr>\n",
       "      <th>3</th>\n",
       "      <td>541821995206586369'</td>\n",
       "      <td>it was so good to be back on today sending lov...</td>\n",
       "      <td>Sympathy and Support</td>\n",
       "    </tr>\n",
       "    <tr>\n",
       "      <th>4</th>\n",
       "      <td>2.1802996308811776e+17</td>\n",
       "      <td>praying for my cousins and everyone else in co...</td>\n",
       "      <td>Sympathy and Support</td>\n",
       "    </tr>\n",
       "  </tbody>\n",
       "</table>\n",
       "</div>"
      ],
      "text/plain": [
       "                       ID                                              Tweet  \\\n",
       "0     592293488399491073'  president pranab mukherjee speaks to nepal pre...   \n",
       "1   3.912224263545897e+17  horrid bush fires in nsw feeling for all those...   \n",
       "2     593042251401461760'  im relief to know that my friend is alright af...   \n",
       "3     541821995206586369'  it was so good to be back on today sending lov...   \n",
       "4  2.1802996308811776e+17  praying for my cousins and everyone else in co...   \n",
       "\n",
       "               Category  \n",
       "0  Sympathy and Support  \n",
       "1  Sympathy and Support  \n",
       "2  Sympathy and Support  \n",
       "3  Sympathy and Support  \n",
       "4  Sympathy and Support  "
      ]
     },
     "execution_count": 8,
     "metadata": {},
     "output_type": "execute_result"
    }
   ],
   "source": [
    "tweets.head()"
   ]
  },
  {
   "cell_type": "code",
   "execution_count": 9,
   "id": "honey-revelation",
   "metadata": {},
   "outputs": [
    {
     "data": {
      "text/plain": [
       "(19015, 3)"
      ]
     },
     "execution_count": 9,
     "metadata": {},
     "output_type": "execute_result"
    }
   ],
   "source": [
    "tweets.shape"
   ]
  },
  {
   "cell_type": "code",
   "execution_count": 10,
   "id": "intended-saturn",
   "metadata": {},
   "outputs": [],
   "source": [
    "tweets = tweets.drop('ID',axis=1)"
   ]
  },
  {
   "cell_type": "code",
   "execution_count": 11,
   "id": "loaded-reliance",
   "metadata": {},
   "outputs": [],
   "source": [
    "GLOVE_DIR = \"C:/Users/Kelvin Chumbe/Downloads/Datasets/GloVe_archive/GloVe 6B\""
   ]
  },
  {
   "cell_type": "code",
   "execution_count": 12,
   "id": "typical-commission",
   "metadata": {},
   "outputs": [],
   "source": [
    "# # Create glove embeddings dict from glove file\n",
    "glove_file = \"glove.6B.100d.txt\"\n",
    "glove_path = os.path.join(GLOVE_DIR, glove_file)\n",
    "glove_embeddings= {}\n",
    "\n",
    "EMBEDDING_DIM = int(glove_file.split(\".\")[2][:-1])\n",
    "\n",
    "with open(glove_path, encoding='utf8') as file:\n",
    "    for line in file:\n",
    "        line = line.split()\n",
    "        word = line[0]\n",
    "        embedding = line[1:]\n",
    "\n",
    "        glove_embeddings[word] = np.asarray(embedding, dtype='float32')"
   ]
  },
  {
   "cell_type": "code",
   "execution_count": 13,
   "id": "interstate-sunday",
   "metadata": {},
   "outputs": [],
   "source": [
    "oov_dict = {}\n",
    "\n",
    "oov_file = 'C:/Users/Kelvin Chumbe/Downloads/Datasets/Capstone_Twitter Modelling Datasets/OOV_Dict/OOV_Dict/OOV_Dictionary_V1.0.tsv'\n",
    "i = 0\n",
    "\n",
    "with open(oov_file, 'r') as file:\n",
    "    for line in file:\n",
    "        line_arr = line.split('\\t')\n",
    "        oov_word = line_arr[0]\n",
    "        oov_translation = line_arr[1].strip()\n",
    "        oov_dict[oov_word] = oov_translation"
   ]
  },
  {
   "cell_type": "code",
   "execution_count": 14,
   "id": "killing-plenty",
   "metadata": {},
   "outputs": [],
   "source": [
    "tweets['Tweet'] = tweets['Tweet'].apply(lambda x: [oov_dict.get(word, word) for word in str(x).split(\" \")])"
   ]
  },
  {
   "cell_type": "code",
   "execution_count": 15,
   "id": "better-pioneer",
   "metadata": {},
   "outputs": [],
   "source": [
    "# tweets['Tweet'] = tweets['Tweet'].apply(lambda x: str(x).split(\" \"))"
   ]
  },
  {
   "cell_type": "code",
   "execution_count": 16,
   "id": "closed-tomato",
   "metadata": {},
   "outputs": [
    {
     "data": {
      "text/plain": [
       "35"
      ]
     },
     "execution_count": 16,
     "metadata": {},
     "output_type": "execute_result"
    }
   ],
   "source": [
    "tweets['Tweet'].str.len().max()"
   ]
  },
  {
   "cell_type": "code",
   "execution_count": 17,
   "id": "figured-microwave",
   "metadata": {
    "scrolled": true
   },
   "outputs": [
    {
     "name": "stdout",
     "output_type": "stream",
     "text": [
      "Found 22514 unique tokens.\n"
     ]
    }
   ],
   "source": [
    "# Tokenize and pad tweets\n",
    "tweets_text = tweets['Tweet']\n",
    "\n",
    "tokenizer = Tokenizer()\n",
    "tokenizer.fit_on_texts(tweets_text)\n",
    "sequences = tokenizer.texts_to_sequences(tweets_text)\n",
    "\n",
    "sequence_max_len = 35\n",
    "\n",
    "tweets_text = pad_sequences(sequences, maxlen=sequence_max_len, padding='post')\n",
    "\n",
    "print('Found {} unique tokens.'.format(len(tokenizer.word_index)))"
   ]
  },
  {
   "cell_type": "code",
   "execution_count": 18,
   "id": "czech-coaching",
   "metadata": {},
   "outputs": [],
   "source": [
    "# Save the tokenizer object\n",
    "tokenizer_file = \"tokenizer.pkl\"\n",
    "\n",
    "pickle.dump(tokenizer, open(tokenizer_file, \"wb\"))"
   ]
  },
  {
   "cell_type": "code",
   "execution_count": 19,
   "id": "solid-latvia",
   "metadata": {},
   "outputs": [],
   "source": [
    "tokenizer = pickle.load(open(tokenizer_file, 'rb'))"
   ]
  },
  {
   "cell_type": "code",
   "execution_count": 20,
   "id": "inner-imagination",
   "metadata": {},
   "outputs": [],
   "source": [
    "# Create weight matrix\n",
    "embedding_matrix = np.random.random((len(tokenizer.word_index) + 1, EMBEDDING_DIM))\n",
    "\n",
    "for word, i in tokenizer.word_index.items():\n",
    "    #    embedding_vec = glove_embeddings.get(word)\n",
    "    #    embedding_vec = word2vec_model[word]\n",
    "    try: \n",
    "        embedding_vec = glove_embeddings.get(word)\n",
    "    except:\n",
    "        pass\n",
    "    \n",
    "    if embedding_vec is not None:\n",
    "        embedding_matrix[i] = embedding_vec"
   ]
  },
  {
   "cell_type": "code",
   "execution_count": 21,
   "id": "suburban-layer",
   "metadata": {
    "scrolled": true
   },
   "outputs": [],
   "source": [
    "labels_dict = {\n",
    " 'Sympathy and Support': 0,\n",
    " 'Caution and Advice': 1,\n",
    " 'Relief Request and Donations': 2,\n",
    " 'Damage Report': 3,\n",
    " 'Casualty': 4}"
   ]
  },
  {
   "cell_type": "code",
   "execution_count": 22,
   "id": "super-socket",
   "metadata": {},
   "outputs": [],
   "source": [
    "labels_dict_inversed = {}\n",
    "\n",
    "for k,v in labels_dict.items():\n",
    "    labels_dict_inversed[v] = k"
   ]
  },
  {
   "cell_type": "code",
   "execution_count": 23,
   "id": "activated-occupation",
   "metadata": {},
   "outputs": [],
   "source": [
    "tweets['Labels'] = tweets['Category'].apply(lambda x: labels_dict.get(x))"
   ]
  },
  {
   "cell_type": "code",
   "execution_count": 24,
   "id": "daily-removal",
   "metadata": {},
   "outputs": [],
   "source": [
    "# Convert Categories to one-hot encoding\n",
    "labels = to_categorical(tweets['Labels'])"
   ]
  },
  {
   "cell_type": "code",
   "execution_count": 25,
   "id": "declared-softball",
   "metadata": {},
   "outputs": [
    {
     "data": {
      "text/plain": [
       "array([[1., 0., 0., 0., 0.],\n",
       "       [1., 0., 0., 0., 0.],\n",
       "       [1., 0., 0., 0., 0.],\n",
       "       [1., 0., 0., 0., 0.],\n",
       "       [1., 0., 0., 0., 0.]], dtype=float32)"
      ]
     },
     "execution_count": 25,
     "metadata": {},
     "output_type": "execute_result"
    }
   ],
   "source": [
    "labels[:5]"
   ]
  },
  {
   "cell_type": "code",
   "execution_count": 26,
   "id": "compact-diagram",
   "metadata": {},
   "outputs": [
    {
     "data": {
      "text/plain": [
       "0    Sympathy and Support\n",
       "1    Sympathy and Support\n",
       "2    Sympathy and Support\n",
       "3    Sympathy and Support\n",
       "4    Sympathy and Support\n",
       "Name: Category, dtype: object"
      ]
     },
     "execution_count": 26,
     "metadata": {},
     "output_type": "execute_result"
    }
   ],
   "source": [
    "tweets['Category'][:5]"
   ]
  },
  {
   "cell_type": "code",
   "execution_count": 27,
   "id": "determined-patch",
   "metadata": {},
   "outputs": [],
   "source": [
    "def reverseEncoded(labels):\n",
    "    return np.argmax(labels, axis=1)"
   ]
  },
  {
   "cell_type": "code",
   "execution_count": 28,
   "id": "czech-springer",
   "metadata": {},
   "outputs": [],
   "source": [
    "from sklearn.model_selection import train_test_split"
   ]
  },
  {
   "cell_type": "code",
   "execution_count": 29,
   "id": "impaired-default",
   "metadata": {},
   "outputs": [],
   "source": [
    "train_X, test_X, train_Y, test_Y = train_test_split(tweets_text, labels, test_size=0.2, random_state=0, shuffle=True)"
   ]
  },
  {
   "cell_type": "code",
   "execution_count": 30,
   "id": "injured-massachusetts",
   "metadata": {},
   "outputs": [],
   "source": [
    "train_X_copy, test_X_copy, train_Y_copy, test_Y_copy = train_test_split(tweets_copy['Tweet'], labels, test_size=0.8, random_state=0, shuffle=True)"
   ]
  },
  {
   "cell_type": "code",
   "execution_count": 31,
   "id": "functioning-grade",
   "metadata": {},
   "outputs": [
    {
     "data": {
      "text/plain": [
       "array([[1., 0., 0., 0., 0.],\n",
       "       [1., 0., 0., 0., 0.],\n",
       "       [1., 0., 0., 0., 0.],\n",
       "       [1., 0., 0., 0., 0.],\n",
       "       [1., 0., 0., 0., 0.]], dtype=float32)"
      ]
     },
     "execution_count": 31,
     "metadata": {},
     "output_type": "execute_result"
    }
   ],
   "source": [
    "labels[:5]"
   ]
  },
  {
   "cell_type": "code",
   "execution_count": 32,
   "id": "pursuant-reducing",
   "metadata": {},
   "outputs": [],
   "source": [
    "from tensorflow.keras import backend as K\n",
    "from tensorflow.keras import initializers\n",
    "from tensorflow.keras import regularizers\n",
    "from tensorflow.keras import constraints\n",
    "from tensorflow.keras.layers import Layer\n",
    "from tensorflow.keras import initializers\n",
    "from tensorflow.keras import activations"
   ]
  },
  {
   "cell_type": "code",
   "execution_count": 33,
   "id": "communist-yield",
   "metadata": {},
   "outputs": [],
   "source": [
    "# AttentionWithContext adapted for Tensorflow 1.13 with Eager Execution.\n",
    "# IMPORTANT -you can't use regular keras optimizers.  You need to grab one that is subclassed from \n",
    "# tf.train.Optimizer.   Not to worry, your favorite is probably there, for example - \n",
    "# https://www.tensorflow.org/api_docs/python/tf/train/AdamOptimizer\n",
    "\n",
    "# That's it, now you can use this layer - \n",
    "# Adapted from https://gist.github.com/cbaziotis/7ef97ccf71cbc14366835198c09809d2\n",
    "\n",
    "# Tested using functional API.   Just plop on top of an RNN, like so - \n",
    "\n",
    "# x = Embedding(*embedding_matrix.shape, weights=[embedding_matrix], input_length=max_topic_length, trainable=False)(inputs)\n",
    "# x1 = LSTM(return_sequences=True)(x)\n",
    "# c1 = AttentionWithContext()(x1)\n",
    "\n",
    "import tensorflow as tf\n",
    "from tensorflow.keras import initializers \n",
    "from tensorflow.keras import regularizers\n",
    "from tensorflow.keras import constraints\n",
    "\n",
    "from tensorflow.keras import activations \n",
    "from tensorflow.keras import backend as K\n",
    "\n",
    "from tensorflow.keras.layers import Layer\n",
    "\n",
    "class AttentionWithContext(Layer):\n",
    "    \"\"\"\n",
    "        Attention operation, with a context/query vector, for temporal data.\n",
    "        Supports Masking.\n",
    "        Follows the work of Yang et al. [https://www.cs.cmu.edu/~diyiy/docs/naacl16.pdf]\n",
    "        \"Hierarchical Attention Networks for Document Classification\"\n",
    "        by using a context vector to assist the attention\n",
    "        # Input shape\n",
    "            3D tensor with shape: `(samples, steps, features)`.\n",
    "        # Output shape\n",
    "            2D tensor with shape: `(samples, features)`.\n",
    "        :param kwargs:\n",
    "        Just put it on top of an RNN Layer (GRU/LSTM/SimpleRNN) with return_sequences=True.\n",
    "        The dimensions are inferred based on the output shape of the RNN.\n",
    "        Example:\n",
    "            model.add(LSTM(64, return_sequences=True))\n",
    "            model.add(AttentionWithContext())\n",
    "        \"\"\"\n",
    "\n",
    "    def __init__(self,\n",
    "                 W_regularizer=None, u_regularizer=None, b_regularizer=None,\n",
    "                 W_constraint=None, u_constraint=None, b_constraint=None,\n",
    "                 bias=True,\n",
    "                 return_attention=False, **kwargs):\n",
    "\n",
    "        self.supports_masking = True\n",
    "        self.return_attention = return_attention\n",
    "        self.init = initializers.get('glorot_uniform')\n",
    "\n",
    "        self.W_regularizer = regularizers.get(W_regularizer)\n",
    "        self.u_regularizer = regularizers.get(u_regularizer)\n",
    "        self.b_regularizer = regularizers.get(b_regularizer)\n",
    "\n",
    "        self.W_constraint = constraints.get(W_constraint)\n",
    "        self.u_constraint = constraints.get(u_constraint)\n",
    "        self.b_constraint = constraints.get(b_constraint)\n",
    "\n",
    "        self.bias = bias\n",
    "        super(AttentionWithContext, self).__init__(**kwargs)\n",
    "\n",
    "    def build(self, input_shape):\n",
    "        assert len(input_shape) == 3\n",
    "        input_shape_list = input_shape.as_list()\n",
    "\n",
    "        self.W = self.add_weight(shape=((input_shape_list[-1], input_shape_list[-1])),\n",
    "                                 initializer=self.init,\n",
    "                                 name='{}_W'.format(self.name),\n",
    "                                 regularizer=self.W_regularizer,\n",
    "                                 constraint=self.W_constraint)\n",
    "        if self.bias:\n",
    "            self.b = self.add_weight(shape=(input_shape_list[-1],),\n",
    "                                     initializer='zero',\n",
    "                                     name='{}_b'.format(self.name),\n",
    "                                     regularizer=self.b_regularizer,\n",
    "                                     constraint=self.b_constraint)\n",
    "\n",
    "        self.u = self.add_weight(shape=(input_shape_list[-1],),\n",
    "                                 initializer=self.init,\n",
    "                                 name='{}_u'.format(self.name),\n",
    "                                 regularizer=self.u_regularizer,\n",
    "                                 constraint=self.u_constraint)\n",
    "\n",
    "        super(AttentionWithContext, self).build(input_shape.as_list())\n",
    "\n",
    "    def compute_mask(self, input, input_mask=None):\n",
    "        # do not pass the mask to the next layers\n",
    "        return None\n",
    "\n",
    "    def call(self, x, mask=None):\n",
    "        uit = tf.tensordot(x, self.W,axes=1)\n",
    "\n",
    "        if self.bias:\n",
    "            uit += self.b\n",
    "\n",
    "        uit = activations.tanh(uit)\n",
    "        # ait = K.dot(uit, self.u)\n",
    "        ait = tf.tensordot(uit, self.u,axes=1)\n",
    "\n",
    "        a = activations.exponential(ait)\n",
    "\n",
    "        # apply mask after the exp. will be re-normalized next\n",
    "        if mask is not None:\n",
    "            # Cast the mask to floatX to avoid float64 upcasting in theano\n",
    "            a *= tf.cast(mask, K.floatx())\n",
    "\n",
    "        # in some cases especially in the early stages of training the sum may be almost zero\n",
    "        # and this results in NaN's. A workaround is to add a very small positive number ε to the sum.\n",
    "        # a /= K.cast(K.sum(a, axis=1, keepdims=True), K.floatx())\n",
    "        a /= tf.cast(K.sum(a, axis=1, keepdims=True) + K.epsilon(), K.floatx())\n",
    "\n",
    "        a = K.expand_dims(a)\n",
    "        weighted_input = x * a\n",
    "        result = K.sum(weighted_input, axis=1)\n",
    "\n",
    "        if self.return_attention:\n",
    "            return [result, a]\n",
    "        return result\n",
    "\n",
    "    def compute_output_shape(self, input_shape):\n",
    "        if self.return_attention:\n",
    "            #TODO use TensorShape here, as done in the else statement.   I'm not sure\n",
    "            # if this is returning a single tensor, or a list of two so leaving this undone for now.  Suspect this will\n",
    "            # need to complete if using Sequential rather than Functional API\n",
    "            return [(input_shape[0], input_shape[-1]),\n",
    "                    (input_shape[0], input_shape[1])]\n",
    "        else:\n",
    "            return tf.TensorShape([input_shape[0].value,input_shape[-1].value])\n",
    "\n",
    "        \n",
    "    def get_config(self):\n",
    "        config = {\n",
    "            'W_regularizer': initializers.serialize(self.W_regularizer),\n",
    "            'u_regularizer': initializers.serialize(self.u_regularizer),\n",
    "            'b_regularizer': initializers.serialize(self.b_regularizer),\n",
    "\n",
    "            'W_constraint': constraints.serialize(self.W_constraint),\n",
    "            'u_constraint': constraints.serialize(self.u_constraint),\n",
    "            'b_constraint': constraints.serialize(self.b_constraint),\n",
    "\n",
    "            'return_attention': self.return_attention,\n",
    "\n",
    "            'bias': self.bias,\n",
    "        }\n",
    "\n",
    "        base_config = super(AttentionWithContext, self).get_config()\n",
    "        return dict(list(base_config.items()) + list(config.items()))"
   ]
  },
  {
   "cell_type": "code",
   "execution_count": 34,
   "id": "searching-panama",
   "metadata": {
    "scrolled": false
   },
   "outputs": [],
   "source": [
    "# Build a Classification Model\n",
    "model = Sequential([\n",
    "    Embedding(len(tokenizer.word_index) + 1, \n",
    "              EMBEDDING_DIM,\n",
    "              weights=[embedding_matrix],\n",
    "              input_length=sequence_max_len,\n",
    "              trainable=False),\n",
    "    SpatialDropout1D(0.2),\n",
    "    Bidirectional(LSTM(200, recurrent_dropout=0.2, return_sequences=True)),\n",
    "    Dropout(0.2),\n",
    "    Bidirectional(LSTM(200, recurrent_dropout=0.2, return_sequences=True)),\n",
    "    Dropout(0.2),\n",
    "    Bidirectional(LSTM(200, return_sequences=True)),\n",
    "    Dropout(0.2),\n",
    "    Bidirectional(LSTM(200)),\n",
    "    Dropout(0.2),\n",
    "    \n",
    "#     AttentionWithContext(),\n",
    "    \n",
    "    Dense(512, activation='relu'),\n",
    "    Dropout(0.4),\n",
    "    Dense(5, activation='softmax')\n",
    "])"
   ]
  },
  {
   "cell_type": "code",
   "execution_count": 35,
   "id": "inclusive-services",
   "metadata": {},
   "outputs": [],
   "source": [
    "model.compile(loss='categorical_crossentropy', \n",
    "              optimizer=Adam(lr=0.0001), \n",
    "              metrics=['accuracy'])"
   ]
  },
  {
   "cell_type": "code",
   "execution_count": 36,
   "id": "functional-buffer",
   "metadata": {
    "scrolled": false
   },
   "outputs": [
    {
     "name": "stdout",
     "output_type": "stream",
     "text": [
      "Model: \"sequential\"\n",
      "_________________________________________________________________\n",
      "Layer (type)                 Output Shape              Param #   \n",
      "=================================================================\n",
      "embedding (Embedding)        (None, 35, 100)           2251500   \n",
      "_________________________________________________________________\n",
      "spatial_dropout1d (SpatialDr (None, 35, 100)           0         \n",
      "_________________________________________________________________\n",
      "bidirectional (Bidirectional (None, 35, 400)           481600    \n",
      "_________________________________________________________________\n",
      "dropout (Dropout)            (None, 35, 400)           0         \n",
      "_________________________________________________________________\n",
      "bidirectional_1 (Bidirection (None, 35, 400)           961600    \n",
      "_________________________________________________________________\n",
      "dropout_1 (Dropout)          (None, 35, 400)           0         \n",
      "_________________________________________________________________\n",
      "bidirectional_2 (Bidirection (None, 35, 400)           961600    \n",
      "_________________________________________________________________\n",
      "dropout_2 (Dropout)          (None, 35, 400)           0         \n",
      "_________________________________________________________________\n",
      "bidirectional_3 (Bidirection (None, 400)               961600    \n",
      "_________________________________________________________________\n",
      "dropout_3 (Dropout)          (None, 400)               0         \n",
      "_________________________________________________________________\n",
      "dense (Dense)                (None, 512)               205312    \n",
      "_________________________________________________________________\n",
      "dropout_4 (Dropout)          (None, 512)               0         \n",
      "_________________________________________________________________\n",
      "dense_1 (Dense)              (None, 5)                 2565      \n",
      "=================================================================\n",
      "Total params: 5,825,777\n",
      "Trainable params: 3,574,277\n",
      "Non-trainable params: 2,251,500\n",
      "_________________________________________________________________\n"
     ]
    }
   ],
   "source": [
    "model.summary()"
   ]
  },
  {
   "cell_type": "code",
   "execution_count": 37,
   "id": "medical-upgrade",
   "metadata": {},
   "outputs": [],
   "source": [
    "# filepath = \"best_model_glove_attention_200d.h5\"\n",
    "\n",
    "filepath = \"best_model_base.h5\"\n",
    "\n",
    "model_checkpoint = ModelCheckpoint(\n",
    "    filepath,\n",
    "    save_weights_only=False,\n",
    "    monitor='val_accuracy',\n",
    "    mode='max',\n",
    ")"
   ]
  },
  {
   "cell_type": "code",
   "execution_count": 38,
   "id": "incident-giving",
   "metadata": {
    "scrolled": false
   },
   "outputs": [
    {
     "name": "stdout",
     "output_type": "stream",
     "text": [
      "Epoch 1/4\n",
      "48/48 [==============================] - 250s 5s/step - loss: 1.5071 - accuracy: 0.3316 - val_loss: 1.2112 - val_accuracy: 0.5501\n",
      "Epoch 2/4\n",
      "48/48 [==============================] - 240s 5s/step - loss: 1.0764 - accuracy: 0.5713 - val_loss: 0.8759 - val_accuracy: 0.6885\n",
      "Epoch 3/4\n",
      "48/48 [==============================] - 279s 6s/step - loss: 0.8841 - accuracy: 0.6669 - val_loss: 0.7470 - val_accuracy: 0.7381\n",
      "Epoch 4/4\n",
      "48/48 [==============================] - 278s 6s/step - loss: 0.8136 - accuracy: 0.6923 - val_loss: 0.6934 - val_accuracy: 0.7522\n"
     ]
    }
   ],
   "source": [
    "EPOCHS = 4  #2\n",
    "BATCH_SIZE = 256\n",
    "\n",
    "history = model.fit(train_X, \n",
    "                    train_Y, \n",
    "                    validation_split=0.2, \n",
    "                    epochs=EPOCHS, \n",
    "                    batch_size=BATCH_SIZE, \n",
    "                    callbacks=[model_checkpoint])"
   ]
  },
  {
   "cell_type": "code",
   "execution_count": 39,
   "id": "dominican-conservative",
   "metadata": {},
   "outputs": [
    {
     "data": {
      "text/plain": [
       "'best_model_base.h5'"
      ]
     },
     "execution_count": 39,
     "metadata": {},
     "output_type": "execute_result"
    }
   ],
   "source": [
    "filepath"
   ]
  },
  {
   "cell_type": "code",
   "execution_count": 40,
   "id": "tamil-camcorder",
   "metadata": {
    "scrolled": true
   },
   "outputs": [],
   "source": [
    "# Load model\n",
    "model_filepath = os.path.join(data_dir, filepath)\n",
    "\n",
    "model = tf.keras.models.load_model(filepath)\n",
    "# model = tf.keras.models.load_model(filepath, custom_objects={'AttentionWithContext': AttentionWithContext})"
   ]
  },
  {
   "cell_type": "code",
   "execution_count": 41,
   "id": "female-rwanda",
   "metadata": {},
   "outputs": [
    {
     "name": "stdout",
     "output_type": "stream",
     "text": [
      "119/119 [==============================] - 45s 378ms/step - loss: 0.7158 - accuracy: 0.7449\n",
      "Loss: 0.7158308625221252\n",
      "Accuracy: 0.7449381947517395\n"
     ]
    }
   ],
   "source": [
    "loss, accuracy = model.evaluate(test_X, test_Y)\n",
    "print(\"Loss: {}\\nAccuracy: {}\".format(loss, accuracy))"
   ]
  },
  {
   "cell_type": "code",
   "execution_count": 42,
   "id": "accepting-referral",
   "metadata": {},
   "outputs": [],
   "source": [
    "y_preds = model.predict(test_X)"
   ]
  },
  {
   "cell_type": "code",
   "execution_count": 43,
   "id": "expired-review",
   "metadata": {},
   "outputs": [],
   "source": [
    "y_preds_classes = reverseEncoded(y_preds)"
   ]
  },
  {
   "cell_type": "code",
   "execution_count": 44,
   "id": "moving-canal",
   "metadata": {},
   "outputs": [],
   "source": [
    "test_Y_classes = reverseEncoded(test_Y)"
   ]
  },
  {
   "cell_type": "code",
   "execution_count": 45,
   "id": "transparent-illness",
   "metadata": {},
   "outputs": [],
   "source": [
    "def evaluate_model(model, test_X, test_Y_classes, y_preds_classes, label_names):\n",
    "    print(\"Classification Report: \\n\")\n",
    "    print(classification_report(test_Y_classes, y_preds_classes, target_names=label_names))\n",
    "    \n",
    "    confusion_mx = confusion_matrix(test_Y_classes, y_preds_classes)\n",
    "    \n",
    "    fig = plt.figure(figsize=(10,8))\n",
    "    ax = fig.gca()\n",
    "    sns.heatmap(confusion_mx, annot=True, fmt=\".0f\", ax=ax, cmap=plt.cm.Blues,\n",
    "                xticklabels=label_names, \n",
    "                yticklabels=label_names)\n",
    "    \n",
    "    print(\"ROC AUC Score: \", roc_auc_score(test_Y_classes, model.predict_proba(test_X), multi_class='ovr'))"
   ]
  },
  {
   "cell_type": "code",
   "execution_count": 46,
   "id": "final-discrimination",
   "metadata": {},
   "outputs": [
    {
     "name": "stdout",
     "output_type": "stream",
     "text": [
      "Classification Report: \n",
      "\n",
      "                              precision    recall  f1-score   support\n",
      "\n",
      "        Sympathy and Support       0.73      0.78      0.75       769\n",
      "          Caution and Advice       0.66      0.75      0.70       837\n",
      "Relief Request and Donations       0.74      0.79      0.77       792\n",
      "               Damage Report       0.80      0.54      0.64       777\n",
      "                    Casualty       0.85      0.88      0.87       628\n",
      "\n",
      "                    accuracy                           0.74      3803\n",
      "                   macro avg       0.76      0.75      0.75      3803\n",
      "                weighted avg       0.75      0.74      0.74      3803\n",
      "\n",
      "WARNING:tensorflow:From <ipython-input-45-4b9262b29427>:13: Sequential.predict_proba (from tensorflow.python.keras.engine.sequential) is deprecated and will be removed after 2021-01-01.\n",
      "Instructions for updating:\n",
      "Please use `model.predict()` instead.\n",
      "ROC AUC Score:  0.9333581614133619\n"
     ]
    },
    {
     "data": {
      "image/png": "[encoded data removed]",
      "text/plain": [
       "<Figure size 720x576 with 2 Axes>"
      ]
     },
     "metadata": {
      "needs_background": "light"
     },
     "output_type": "display_data"
    }
   ],
   "source": [
    "evaluate_model(model, test_X, test_Y_classes, y_preds_classes, labels_dict.keys())"
   ]
  },
  {
   "cell_type": "code",
   "execution_count": null,
   "id": "great-composition",
   "metadata": {},
   "outputs": [],
   "source": []
  }
 ],
 "metadata": {
  "kernelspec": {
   "display_name": "Python 3",
   "language": "python",
   "name": "python3"
  },
  "language_info": {
   "codemirror_mode": {
    "name": "ipython",
    "version": 3
   },
   "file_extension": ".py",
   "mimetype": "text/x-python",
   "name": "python",
   "nbconvert_exporter": "python",
   "pygments_lexer": "ipython3",
   "version": "3.8.8"
  }
 },
 "nbformat": 4,
 "nbformat_minor": 5
}
